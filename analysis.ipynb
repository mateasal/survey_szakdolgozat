{
 "cells": [
  {
   "cell_type": "code",
   "execution_count": 1,
   "id": "58464bb0",
   "metadata": {},
   "outputs": [],
   "source": [
    "import os\n",
    "import csv\n",
    "import pandas as pd\n",
    "import numpy as np\n",
    "import matplotlib.pyplot as plt\n",
    "import seaborn as sns"
   ]
  },
  {
   "cell_type": "code",
   "execution_count": 2,
   "id": "720180de",
   "metadata": {},
   "outputs": [],
   "source": [
    "import nltk\n",
    "from nltk.corpus import stopwords\n",
    "from nltk.stem.snowball import SnowballStemmer\n",
    "import re\n",
    "import sys\n",
    "import warnings"
   ]
  },
  {
   "cell_type": "code",
   "execution_count": 3,
   "id": "5ee33fd3",
   "metadata": {},
   "outputs": [],
   "source": [
    "import pickle\n",
    "import emot\n",
    "import emoji"
   ]
  },
  {
   "cell_type": "code",
   "execution_count": 4,
   "id": "ba3b354d",
   "metadata": {},
   "outputs": [],
   "source": [
    "if not sys.warnoptions:\n",
    "    warnings.simplefilter(\"ignore\")"
   ]
  },
  {
   "cell_type": "markdown",
   "id": "c18690f9",
   "metadata": {},
   "source": [
    "## Beolvasás/korrekció"
   ]
  },
  {
   "cell_type": "code",
   "execution_count": 5,
   "id": "455780d7",
   "metadata": {},
   "outputs": [
    {
     "name": "stderr",
     "output_type": "stream",
     "text": [
      "b'Skipping line 349: expected 28 fields, saw 29\\nSkipping line 7562: expected 28 fields, saw 29\\nSkipping line 9079: expected 28 fields, saw 29\\nSkipping line 12452: expected 28 fields, saw 30\\nSkipping line 12666: expected 28 fields, saw 29\\n'\n"
     ]
    }
   ],
   "source": [
    "data = pd.read_csv(\"challengeThinkingTrainingData-corrected.csv\", error_bad_lines=False)"
   ]
  },
  {
   "cell_type": "code",
   "execution_count": 6,
   "id": "6c8700f4",
   "metadata": {},
   "outputs": [],
   "source": [
    "pd.set_option('display.float_format', '{:.2f}'.format)"
   ]
  },
  {
   "cell_type": "code",
   "execution_count": 7,
   "id": "c4ff4e8f",
   "metadata": {},
   "outputs": [],
   "source": [
    "data[[\"lastmood\", \"lastGad7\", \"lastPhq8\"]]=data[[\"lastmood\", \"lastGad7\", \"lastPhq8\"]].replace(-1,np.nan)\n",
    "data[\"timeonplatform_hrs\"]=data[\"timeonplatform\"]/3600000"
   ]
  },
  {
   "cell_type": "code",
   "execution_count": 8,
   "id": "43f2c6ea",
   "metadata": {},
   "outputs": [
    {
     "name": "stdout",
     "output_type": "stream",
     "text": [
      "Number of rows in data = 14290\n",
      "Number of columns in data= 29\n",
      "\n",
      "\n",
      "Sample data:\n"
     ]
    },
    {
     "data": {
      "text/html": [
       "<div>\n",
       "<style scoped>\n",
       "    .dataframe tbody tr th:only-of-type {\n",
       "        vertical-align: middle;\n",
       "    }\n",
       "\n",
       "    .dataframe tbody tr th {\n",
       "        vertical-align: top;\n",
       "    }\n",
       "\n",
       "    .dataframe thead th {\n",
       "        text-align: right;\n",
       "    }\n",
       "</style>\n",
       "<table border=\"1\" class=\"dataframe\">\n",
       "  <thead>\n",
       "    <tr style=\"text-align: right;\">\n",
       "      <th></th>\n",
       "      <th>thought</th>\n",
       "      <th>timeonplatform</th>\n",
       "      <th>lastmood</th>\n",
       "      <th>lastPhq8</th>\n",
       "      <th>lastGad7</th>\n",
       "      <th>age</th>\n",
       "      <th>gender</th>\n",
       "      <th>inTherapy</th>\n",
       "      <th>location</th>\n",
       "      <th>distortion0</th>\n",
       "      <th>...</th>\n",
       "      <th>distortion10</th>\n",
       "      <th>typeofthought0</th>\n",
       "      <th>typeofthought1</th>\n",
       "      <th>typeofthought2</th>\n",
       "      <th>typeofthought3</th>\n",
       "      <th>typeofthought4</th>\n",
       "      <th>typeofthought5</th>\n",
       "      <th>typeofthought6</th>\n",
       "      <th>typeofthought7</th>\n",
       "      <th>timeonplatform_hrs</th>\n",
       "    </tr>\n",
       "  </thead>\n",
       "  <tbody>\n",
       "    <tr>\n",
       "      <th>0</th>\n",
       "      <td>Im a lazy mooch</td>\n",
       "      <td>1461044082.21</td>\n",
       "      <td>NaN</td>\n",
       "      <td>NaN</td>\n",
       "      <td>NaN</td>\n",
       "      <td>NaN</td>\n",
       "      <td>NaN</td>\n",
       "      <td>NaN</td>\n",
       "      <td>America/New_York</td>\n",
       "      <td>1</td>\n",
       "      <td>...</td>\n",
       "      <td>0</td>\n",
       "      <td>1</td>\n",
       "      <td>0</td>\n",
       "      <td>1</td>\n",
       "      <td>0</td>\n",
       "      <td>1</td>\n",
       "      <td>1</td>\n",
       "      <td>1</td>\n",
       "      <td>1</td>\n",
       "      <td>405.85</td>\n",
       "    </tr>\n",
       "    <tr>\n",
       "      <th>1</th>\n",
       "      <td>Lose weight</td>\n",
       "      <td>1198910277.11</td>\n",
       "      <td>4.00</td>\n",
       "      <td>NaN</td>\n",
       "      <td>NaN</td>\n",
       "      <td>NaN</td>\n",
       "      <td>NaN</td>\n",
       "      <td>NaN</td>\n",
       "      <td>America/New_York</td>\n",
       "      <td>0</td>\n",
       "      <td>...</td>\n",
       "      <td>1</td>\n",
       "      <td>0</td>\n",
       "      <td>0</td>\n",
       "      <td>0</td>\n",
       "      <td>1</td>\n",
       "      <td>1</td>\n",
       "      <td>0</td>\n",
       "      <td>1</td>\n",
       "      <td>0</td>\n",
       "      <td>333.03</td>\n",
       "    </tr>\n",
       "    <tr>\n",
       "      <th>2</th>\n",
       "      <td>I need to make up my mind</td>\n",
       "      <td>1231907449.04</td>\n",
       "      <td>3.00</td>\n",
       "      <td>NaN</td>\n",
       "      <td>NaN</td>\n",
       "      <td>NaN</td>\n",
       "      <td>NaN</td>\n",
       "      <td>NaN</td>\n",
       "      <td>America/Chicago</td>\n",
       "      <td>1</td>\n",
       "      <td>...</td>\n",
       "      <td>1</td>\n",
       "      <td>0</td>\n",
       "      <td>0</td>\n",
       "      <td>0</td>\n",
       "      <td>1</td>\n",
       "      <td>1</td>\n",
       "      <td>0</td>\n",
       "      <td>0</td>\n",
       "      <td>0</td>\n",
       "      <td>342.20</td>\n",
       "    </tr>\n",
       "    <tr>\n",
       "      <th>3</th>\n",
       "      <td>I'm angry how my work treated me recently</td>\n",
       "      <td>967828.19</td>\n",
       "      <td>2.00</td>\n",
       "      <td>NaN</td>\n",
       "      <td>NaN</td>\n",
       "      <td>NaN</td>\n",
       "      <td>NaN</td>\n",
       "      <td>NaN</td>\n",
       "      <td>America/New_York</td>\n",
       "      <td>0</td>\n",
       "      <td>...</td>\n",
       "      <td>0</td>\n",
       "      <td>0</td>\n",
       "      <td>0</td>\n",
       "      <td>0</td>\n",
       "      <td>0</td>\n",
       "      <td>0</td>\n",
       "      <td>0</td>\n",
       "      <td>0</td>\n",
       "      <td>0</td>\n",
       "      <td>0.27</td>\n",
       "    </tr>\n",
       "    <tr>\n",
       "      <th>4</th>\n",
       "      <td>My work doesn't value me</td>\n",
       "      <td>3278514508.48</td>\n",
       "      <td>4.00</td>\n",
       "      <td>NaN</td>\n",
       "      <td>NaN</td>\n",
       "      <td>NaN</td>\n",
       "      <td>NaN</td>\n",
       "      <td>NaN</td>\n",
       "      <td>America/New_York</td>\n",
       "      <td>0</td>\n",
       "      <td>...</td>\n",
       "      <td>0</td>\n",
       "      <td>0</td>\n",
       "      <td>0</td>\n",
       "      <td>0</td>\n",
       "      <td>0</td>\n",
       "      <td>0</td>\n",
       "      <td>0</td>\n",
       "      <td>0</td>\n",
       "      <td>0</td>\n",
       "      <td>910.70</td>\n",
       "    </tr>\n",
       "  </tbody>\n",
       "</table>\n",
       "<p>5 rows × 29 columns</p>\n",
       "</div>"
      ],
      "text/plain": [
       "                                     thought  timeonplatform  lastmood  \\\n",
       "0                            Im a lazy mooch   1461044082.21       NaN   \n",
       "1                                Lose weight   1198910277.11      4.00   \n",
       "2                  I need to make up my mind   1231907449.04      3.00   \n",
       "3  I'm angry how my work treated me recently       967828.19      2.00   \n",
       "4                   My work doesn't value me   3278514508.48      4.00   \n",
       "\n",
       "   lastPhq8  lastGad7  age gender inTherapy          location  distortion0  \\\n",
       "0       NaN       NaN  NaN    NaN       NaN  America/New_York            1   \n",
       "1       NaN       NaN  NaN    NaN       NaN  America/New_York            0   \n",
       "2       NaN       NaN  NaN    NaN       NaN   America/Chicago            1   \n",
       "3       NaN       NaN  NaN    NaN       NaN  America/New_York            0   \n",
       "4       NaN       NaN  NaN    NaN       NaN  America/New_York            0   \n",
       "\n",
       "   ...  distortion10  typeofthought0  typeofthought1  typeofthought2  \\\n",
       "0  ...             0               1               0               1   \n",
       "1  ...             1               0               0               0   \n",
       "2  ...             1               0               0               0   \n",
       "3  ...             0               0               0               0   \n",
       "4  ...             0               0               0               0   \n",
       "\n",
       "   typeofthought3  typeofthought4  typeofthought5  typeofthought6  \\\n",
       "0               0               1               1               1   \n",
       "1               1               1               0               1   \n",
       "2               1               1               0               0   \n",
       "3               0               0               0               0   \n",
       "4               0               0               0               0   \n",
       "\n",
       "   typeofthought7  timeonplatform_hrs  \n",
       "0               1              405.85  \n",
       "1               0              333.03  \n",
       "2               0              342.20  \n",
       "3               0                0.27  \n",
       "4               0              910.70  \n",
       "\n",
       "[5 rows x 29 columns]"
      ]
     },
     "execution_count": 8,
     "metadata": {},
     "output_type": "execute_result"
    }
   ],
   "source": [
    "print(\"Number of rows in data =\", data.shape[0])\n",
    "print(\"Number of columns in data=\", data.shape[1])\n",
    "print(\"\\n\")\n",
    "print(\"Sample data:\")\n",
    "data.head()"
   ]
  },
  {
   "cell_type": "markdown",
   "id": "fec6448f",
   "metadata": {},
   "source": [
    "## Aggregált statisztika"
   ]
  },
  {
   "cell_type": "code",
   "execution_count": 9,
   "id": "8b09c23f",
   "metadata": {},
   "outputs": [
    {
     "data": {
      "text/plain": [
       "NaN      9751\n",
       "25-34    1479\n",
       "18-24    1362\n",
       "35-44     916\n",
       "45-54     470\n",
       "55-64     286\n",
       "65+        26\n",
       "Name: age, dtype: int64"
      ]
     },
     "execution_count": 9,
     "metadata": {},
     "output_type": "execute_result"
    }
   ],
   "source": [
    "data[\"age\"].value_counts(dropna=False)"
   ]
  },
  {
   "cell_type": "code",
   "execution_count": 289,
   "id": "af2f38cc",
   "metadata": {},
   "outputs": [
    {
     "data": {
      "text/plain": [
       "0.6259087904824852"
      ]
     },
     "execution_count": 289,
     "metadata": {},
     "output_type": "execute_result"
    }
   ],
   "source": [
    "(1479 + 1362)/(1479 + 1362 + 916 + 470 + 286 + 26)"
   ]
  },
  {
   "cell_type": "code",
   "execution_count": 10,
   "id": "1b4270a5",
   "metadata": {},
   "outputs": [
    {
     "data": {
      "text/plain": [
       "count   14290.00\n",
       "mean      786.23\n",
       "std      1210.93\n",
       "min         0.05\n",
       "25%        46.44\n",
       "50%       294.00\n",
       "75%      1000.11\n",
       "max     10150.78\n",
       "Name: timeonplatform_hrs, dtype: float64"
      ]
     },
     "execution_count": 10,
     "metadata": {},
     "output_type": "execute_result"
    }
   ],
   "source": [
    "data[\"timeonplatform_hrs\"].describe()"
   ]
  },
  {
   "cell_type": "code",
   "execution_count": 11,
   "id": "18653e6f",
   "metadata": {},
   "outputs": [
    {
     "data": {
      "text/plain": [
       "NaN       9665\n",
       "Female    3485\n",
       "Male       932\n",
       "Other      208\n",
       "Name: gender, dtype: int64"
      ]
     },
     "execution_count": 11,
     "metadata": {},
     "output_type": "execute_result"
    }
   ],
   "source": [
    "data[\"gender\"].value_counts(dropna=False)"
   ]
  },
  {
   "cell_type": "code",
   "execution_count": 288,
   "id": "1159dfd4",
   "metadata": {},
   "outputs": [
    {
     "data": {
      "text/plain": [
       "0.7535135135135135"
      ]
     },
     "execution_count": 288,
     "metadata": {},
     "output_type": "execute_result"
    }
   ],
   "source": [
    "3485/(932+208+3485)"
   ]
  },
  {
   "cell_type": "code",
   "execution_count": 286,
   "id": "1ee6e0f7",
   "metadata": {},
   "outputs": [
    {
     "data": {
      "text/plain": [
       "0.6787963610916725"
      ]
     },
     "execution_count": 286,
     "metadata": {},
     "output_type": "execute_result"
    }
   ],
   "source": [
    "9700/len(data)"
   ]
  },
  {
   "cell_type": "code",
   "execution_count": 12,
   "id": "5be9846b",
   "metadata": {},
   "outputs": [
    {
     "data": {
      "text/plain": [
       "3.00    3749\n",
       "2.00    3419\n",
       "4.00    2641\n",
       "1.00    2083\n",
       "NaN     1957\n",
       "0.00     441\n",
       "Name: lastmood, dtype: int64"
      ]
     },
     "execution_count": 12,
     "metadata": {},
     "output_type": "execute_result"
    }
   ],
   "source": [
    "data[\"lastmood\"].value_counts(dropna=False)"
   ]
  },
  {
   "cell_type": "code",
   "execution_count": 13,
   "id": "a6ee94b1",
   "metadata": {},
   "outputs": [
    {
     "data": {
      "text/html": [
       "<div>\n",
       "<style scoped>\n",
       "    .dataframe tbody tr th:only-of-type {\n",
       "        vertical-align: middle;\n",
       "    }\n",
       "\n",
       "    .dataframe tbody tr th {\n",
       "        vertical-align: top;\n",
       "    }\n",
       "\n",
       "    .dataframe thead th {\n",
       "        text-align: right;\n",
       "    }\n",
       "</style>\n",
       "<table border=\"1\" class=\"dataframe\">\n",
       "  <thead>\n",
       "    <tr style=\"text-align: right;\">\n",
       "      <th></th>\n",
       "      <th>lastGad7</th>\n",
       "      <th>lastPhq8</th>\n",
       "    </tr>\n",
       "  </thead>\n",
       "  <tbody>\n",
       "    <tr>\n",
       "      <th>count</th>\n",
       "      <td>3796.00</td>\n",
       "      <td>3089.00</td>\n",
       "    </tr>\n",
       "    <tr>\n",
       "      <th>mean</th>\n",
       "      <td>9.28</td>\n",
       "      <td>9.84</td>\n",
       "    </tr>\n",
       "    <tr>\n",
       "      <th>std</th>\n",
       "      <td>4.61</td>\n",
       "      <td>5.20</td>\n",
       "    </tr>\n",
       "    <tr>\n",
       "      <th>min</th>\n",
       "      <td>0.00</td>\n",
       "      <td>0.00</td>\n",
       "    </tr>\n",
       "    <tr>\n",
       "      <th>25%</th>\n",
       "      <td>6.00</td>\n",
       "      <td>6.00</td>\n",
       "    </tr>\n",
       "    <tr>\n",
       "      <th>50%</th>\n",
       "      <td>9.00</td>\n",
       "      <td>10.00</td>\n",
       "    </tr>\n",
       "    <tr>\n",
       "      <th>75%</th>\n",
       "      <td>13.00</td>\n",
       "      <td>14.00</td>\n",
       "    </tr>\n",
       "    <tr>\n",
       "      <th>max</th>\n",
       "      <td>18.00</td>\n",
       "      <td>21.00</td>\n",
       "    </tr>\n",
       "  </tbody>\n",
       "</table>\n",
       "</div>"
      ],
      "text/plain": [
       "       lastGad7  lastPhq8\n",
       "count   3796.00   3089.00\n",
       "mean       9.28      9.84\n",
       "std        4.61      5.20\n",
       "min        0.00      0.00\n",
       "25%        6.00      6.00\n",
       "50%        9.00     10.00\n",
       "75%       13.00     14.00\n",
       "max       18.00     21.00"
      ]
     },
     "execution_count": 13,
     "metadata": {},
     "output_type": "execute_result"
    }
   ],
   "source": [
    "data[[\"lastGad7\", \"lastPhq8\"]].describe()"
   ]
  },
  {
   "cell_type": "code",
   "execution_count": 14,
   "id": "d7a256e6",
   "metadata": {},
   "outputs": [
    {
     "data": {
      "text/plain": [
       "NaN    12044\n",
       "No      1407\n",
       "Yes      839\n",
       "Name: inTherapy, dtype: int64"
      ]
     },
     "execution_count": 14,
     "metadata": {},
     "output_type": "execute_result"
    }
   ],
   "source": [
    "data[\"inTherapy\"].value_counts(dropna=False)"
   ]
  },
  {
   "cell_type": "code",
   "execution_count": null,
   "id": "e52cf3fe",
   "metadata": {},
   "outputs": [],
   "source": []
  },
  {
   "cell_type": "code",
   "execution_count": 15,
   "id": "4da7d7d7",
   "metadata": {},
   "outputs": [
    {
     "data": {
      "text/plain": [
       "Europe/London          2679\n",
       "America/New_York       2604\n",
       "America/Chicago        1773\n",
       "America/Los_Angeles    1026\n",
       "Asia/Calcutta           501\n",
       "America/Toronto         478\n",
       "Europe/Berlin           440\n",
       "America/Denver          340\n",
       "Australia/Sydney        267\n",
       "Africa/Johannesburg     227\n",
       "Asia/Manila             180\n",
       "Europe/Paris            169\n",
       "Europe/Amsterdam        158\n",
       "Europe/Rome             150\n",
       "America/Halifax         142\n",
       "America/Edmonton        137\n",
       "Europe/Warsaw           129\n",
       "America/Vancouver       108\n",
       "America/Phoenix         104\n",
       "Europe/Brussels          99\n",
       "Name: location, dtype: int64"
      ]
     },
     "execution_count": 15,
     "metadata": {},
     "output_type": "execute_result"
    }
   ],
   "source": [
    "data[\"location\"].value_counts(dropna=False)[:20]"
   ]
  },
  {
   "cell_type": "code",
   "execution_count": 283,
   "id": "af2b76ae",
   "metadata": {},
   "outputs": [
    {
     "data": {
      "text/plain": [
       "0.9384184744576627"
      ]
     },
     "execution_count": 283,
     "metadata": {},
     "output_type": "execute_result"
    }
   ],
   "source": [
    "(len(data) - (500 + 180 + 200)) / len(data)"
   ]
  },
  {
   "cell_type": "markdown",
   "id": "90f702c7",
   "metadata": {},
   "source": [
    "## Tisztítás"
   ]
  },
  {
   "cell_type": "markdown",
   "id": "ecbeffe3",
   "metadata": {},
   "source": [
    "### Kisbetű és no központozás"
   ]
  },
  {
   "cell_type": "code",
   "execution_count": 16,
   "id": "61d03040",
   "metadata": {},
   "outputs": [],
   "source": [
    "def cleanPunc(sentence): #function to clean the word of any punctuation or special characters\n",
    "    cleaned = re.sub(r'[?|!|\\'|\"|#]',r'',sentence)\n",
    "    cleaned = re.sub(r'[.|,|)|(|\\|/]',r' ',cleaned)\n",
    "    cleaned = cleaned.strip()\n",
    "    cleaned = cleaned.replace(\"\\n\",\" \")\n",
    "    return cleaned"
   ]
  },
  {
   "cell_type": "code",
   "execution_count": 17,
   "id": "24505b5a",
   "metadata": {},
   "outputs": [],
   "source": [
    "data['thought'] = data['thought'].str.lower()\n",
    "data['thought'] = data['thought'].apply(cleanPunc)"
   ]
  },
  {
   "cell_type": "markdown",
   "id": "ad803099",
   "metadata": {},
   "source": [
    "### Emojik átkódolása"
   ]
  },
  {
   "cell_type": "code",
   "execution_count": 18,
   "id": "a9f102cd",
   "metadata": {},
   "outputs": [],
   "source": [
    "with open('../Emoji_Dict.p', 'rb') as fp:\n",
    "    Emoji_Dict = pickle.load(fp)\n",
    "Emoji_Dict = {v: k for k, v in Emoji_Dict.items()}"
   ]
  },
  {
   "cell_type": "code",
   "execution_count": 19,
   "id": "0d86eb81",
   "metadata": {},
   "outputs": [],
   "source": [
    "def convert_emojis_to_word(text):\n",
    "    for emot in Emoji_Dict:\n",
    "        text = re.sub(r'('+emot+')', \"_\".join(Emoji_Dict[emot].replace(\",\",\"\").replace(\":\",\"\").split()), text)\n",
    "    return text"
   ]
  },
  {
   "cell_type": "code",
   "execution_count": 20,
   "id": "14471cb7",
   "metadata": {},
   "outputs": [],
   "source": [
    "updated_thoughts = []\n",
    "for thought in data['thought']:\n",
    "    if(bool(emoji.get_emoji_regexp().search(thought))):\n",
    "        updated_thoughts.append(convert_emojis_to_word(thought))\n",
    "    else:\n",
    "        updated_thoughts.append(thought)"
   ]
  },
  {
   "cell_type": "code",
   "execution_count": 21,
   "id": "c8629c08",
   "metadata": {},
   "outputs": [],
   "source": [
    "data_w_emoji2w = data.copy()"
   ]
  },
  {
   "cell_type": "code",
   "execution_count": 22,
   "id": "ee7389a7",
   "metadata": {},
   "outputs": [],
   "source": [
    "data_w_emoji2w['thought'] = updated_thoughts"
   ]
  },
  {
   "cell_type": "markdown",
   "id": "d74f0152",
   "metadata": {},
   "source": [
    "### Speciális karakterek eltávolítása"
   ]
  },
  {
   "cell_type": "code",
   "execution_count": 23,
   "id": "a6121f92",
   "metadata": {},
   "outputs": [],
   "source": [
    "def keepAlpha(sentence):\n",
    "    alpha_sent = \"\"\n",
    "    for word in sentence.split():\n",
    "        alpha_word = re.sub('[^a-z A-Z]+', ' ', word)\n",
    "        alpha_sent += alpha_word\n",
    "        alpha_sent += \" \"\n",
    "    alpha_sent = alpha_sent.strip()\n",
    "    return alpha_sent"
   ]
  },
  {
   "cell_type": "code",
   "execution_count": 24,
   "id": "4c498597",
   "metadata": {},
   "outputs": [],
   "source": [
    "data_no_special_ch = data_w_emoji2w.copy()"
   ]
  },
  {
   "cell_type": "code",
   "execution_count": 25,
   "id": "e7145681",
   "metadata": {},
   "outputs": [],
   "source": [
    "data_no_special_ch['thought'] = data_no_special_ch['thought'].apply(keepAlpha)"
   ]
  },
  {
   "cell_type": "markdown",
   "id": "f79316e6",
   "metadata": {},
   "source": [
    "### Instrukciók eltávolítása"
   ]
  },
  {
   "cell_type": "code",
   "execution_count": 26,
   "id": "b395edcf",
   "metadata": {},
   "outputs": [],
   "source": [
    "data_no_special_ch = data_no_special_ch[data_no_special_ch['thought'] != 'skip']\n",
    "data_no_special_ch = data_no_special_ch[data_no_special_ch['thought'] != 'skip more detail']\n",
    "data_no_special_ch = data_no_special_ch[data_no_special_ch['thought'] != \"\"]"
   ]
  },
  {
   "cell_type": "markdown",
   "id": "47b1d229",
   "metadata": {},
   "source": [
    "### Rövidítések kicserélése"
   ]
  },
  {
   "cell_type": "code",
   "execution_count": 27,
   "id": "f33b82f4",
   "metadata": {},
   "outputs": [],
   "source": [
    "thoughts = [];\n",
    "for i in data_no_special_ch['thought']:\n",
    "    sentence = '';\n",
    "    for word in i.split(' '):\n",
    "        if (word == 'im'):\n",
    "            sentence += 'i am '\n",
    "        elif (word == 'm'):\n",
    "            sentence += 'am '\n",
    "        elif (word == 't'):\n",
    "            sentence += 'not '\n",
    "        elif (word == 'isnt'):\n",
    "            sentence += 'is not '\n",
    "        elif (word == 'wasnt'):\n",
    "            sentence += 'was not '\n",
    "        elif (word == 'werent'):\n",
    "            sentence += 'was not '\n",
    "        elif (word == 'doesnt'):\n",
    "            sentence += 'does not '\n",
    "        elif (word == 'dont'):\n",
    "            sentence += 'do not '\n",
    "        elif (word == 'cant'):\n",
    "            sentence += 'can not '\n",
    "        elif (word == 'wont'):\n",
    "            sentence += 'wil not '\n",
    "        elif (word == 'ive'):\n",
    "            sentence += 'i have '\n",
    "        elif (word == 'couldnt'):\n",
    "            sentence += 'could not '\n",
    "        elif (word == 'shouldnt'):\n",
    "            sentence += 'should not '\n",
    "        elif (word == 'don'):\n",
    "            sentence += 'do '\n",
    "        elif (word == 'll'):\n",
    "            sentence += 'will '\n",
    "        elif (word == 'won'):\n",
    "            sentence += 'will '\n",
    "        elif (word == 'doesn'):\n",
    "            sentence += 'does '\n",
    "        elif (word == 'couldn'):\n",
    "            sentence += 'could '\n",
    "        elif (word == 'theres'):\n",
    "            sentence += 'there is '\n",
    "        elif (word == 's'):\n",
    "            sentence += 'is '\n",
    "        elif (word == 'its'):\n",
    "            sentence += 'it is '\n",
    "        else:\n",
    "            sentence += word + ' '\n",
    "    thoughts.append(sentence)"
   ]
  },
  {
   "cell_type": "code",
   "execution_count": 28,
   "id": "e62bfad7",
   "metadata": {},
   "outputs": [],
   "source": [
    "cleared_data = data_no_special_ch.copy()"
   ]
  },
  {
   "cell_type": "code",
   "execution_count": 29,
   "id": "c1ad9409",
   "metadata": {},
   "outputs": [],
   "source": [
    "cleared_data['thought'] = thoughts"
   ]
  },
  {
   "cell_type": "markdown",
   "id": "59a6d093",
   "metadata": {},
   "source": [
    "### Remove white space"
   ]
  },
  {
   "cell_type": "code",
   "execution_count": 30,
   "id": "1a26fac4",
   "metadata": {},
   "outputs": [],
   "source": [
    "cleared_data['thought'] = cleared_data['thought'].str.strip()"
   ]
  },
  {
   "cell_type": "markdown",
   "id": "80427147",
   "metadata": {},
   "source": [
    "# Interannotatori egyetértés"
   ]
  },
  {
   "cell_type": "code",
   "execution_count": 202,
   "id": "9b25431e",
   "metadata": {},
   "outputs": [],
   "source": [
    "from sklearn.metrics import cohen_kappa_score"
   ]
  },
  {
   "cell_type": "code",
   "execution_count": 268,
   "id": "fa779025",
   "metadata": {},
   "outputs": [],
   "source": [
    "iaa = cleared_data[cleared_data['thought']=='i never get enough done'][distortion_list]"
   ]
  },
  {
   "cell_type": "code",
   "execution_count": 276,
   "id": "9d638df2",
   "metadata": {},
   "outputs": [],
   "source": [
    "kappas = []\n",
    "for i in range(100):\n",
    "    egy, ket = np.random.choice(29, 2)\n",
    "    kappas.append(cohen_kappa_score(iaa.iloc[egy], iaa.iloc[ket]))"
   ]
  },
  {
   "cell_type": "code",
   "execution_count": 277,
   "id": "80df1f7b",
   "metadata": {},
   "outputs": [
    {
     "data": {
      "text/plain": [
       "0.15193553721797934"
      ]
     },
     "execution_count": 277,
     "metadata": {},
     "output_type": "execute_result"
    }
   ],
   "source": [
    "sum(kappas)/len(kappas)"
   ]
  },
  {
   "cell_type": "markdown",
   "id": "2b9a065c",
   "metadata": {},
   "source": [
    "## Duplikáltak közül domináns kiválasztása"
   ]
  },
  {
   "cell_type": "code",
   "execution_count": 31,
   "id": "06b2a7ca",
   "metadata": {},
   "outputs": [],
   "source": [
    "v = cleared_data[\"thought\"].value_counts(dropna=False)"
   ]
  },
  {
   "cell_type": "code",
   "execution_count": 32,
   "id": "763edb89",
   "metadata": {},
   "outputs": [],
   "source": [
    "thoughts_list = list(v.index[v.gt(0)])"
   ]
  },
  {
   "cell_type": "code",
   "execution_count": 33,
   "id": "e41ffc8e",
   "metadata": {},
   "outputs": [],
   "source": [
    "distortion_list = [\"distortion0\",\"distortion1\",\"distortion2\",\"distortion3\",\"distortion4\",\"distortion5\",\"distortion6\",\"distortion7\",\"distortion8\",\"distortion9\",\"distortion10\"]"
   ]
  },
  {
   "cell_type": "code",
   "execution_count": 34,
   "id": "6433d765",
   "metadata": {
    "scrolled": true
   },
   "outputs": [],
   "source": [
    "revised_events = []\n",
    "for thought in thoughts_list:\n",
    "    related_data = cleared_data[cleared_data[\"thought\"]==thought]\n",
    "    new_distortion_vector = []\n",
    "    for label in distortion_list:\n",
    "        if len(related_data[label].mode()) == 1:\n",
    "            new_distortion_vector.append(related_data[label].mode()[0])\n",
    "        else:\n",
    "            id_of_max = related_data[[\"timeonplatform\",label]][\"timeonplatform\"].idxmax()\n",
    "            new_distortion_vector.append(int(related_data[[\"timeonplatform\",label]].loc[id_of_max][1]))\n",
    "    id_max_global = related_data[\"timeonplatform\"].idxmax()\n",
    "    new_event = related_data.loc[id_max_global].copy()\n",
    "    new_event[distortion_list] = new_distortion_vector\n",
    "    revised_events.append(new_event)"
   ]
  },
  {
   "cell_type": "code",
   "execution_count": 35,
   "id": "3e8d1d6b",
   "metadata": {},
   "outputs": [],
   "source": [
    "bt_defined_data = pd.DataFrame(revised_events)"
   ]
  },
  {
   "cell_type": "code",
   "execution_count": 36,
   "id": "8490a4e8",
   "metadata": {},
   "outputs": [],
   "source": [
    "bt_defined_data.to_csv(\"/Users/matesal/Learning/IONA/final_analysis/out.csv\", index=False)"
   ]
  },
  {
   "cell_type": "code",
   "execution_count": 284,
   "id": "bfe7029d",
   "metadata": {},
   "outputs": [
    {
     "data": {
      "text/html": [
       "<div>\n",
       "<style scoped>\n",
       "    .dataframe tbody tr th:only-of-type {\n",
       "        vertical-align: middle;\n",
       "    }\n",
       "\n",
       "    .dataframe tbody tr th {\n",
       "        vertical-align: top;\n",
       "    }\n",
       "\n",
       "    .dataframe thead th {\n",
       "        text-align: right;\n",
       "    }\n",
       "</style>\n",
       "<table border=\"1\" class=\"dataframe\">\n",
       "  <thead>\n",
       "    <tr style=\"text-align: right;\">\n",
       "      <th></th>\n",
       "      <th>thought</th>\n",
       "      <th>timeonplatform</th>\n",
       "      <th>lastmood</th>\n",
       "      <th>lastPhq8</th>\n",
       "      <th>lastGad7</th>\n",
       "      <th>age</th>\n",
       "      <th>gender</th>\n",
       "      <th>inTherapy</th>\n",
       "      <th>location</th>\n",
       "      <th>distortion0</th>\n",
       "      <th>...</th>\n",
       "      <th>distortion10</th>\n",
       "      <th>typeofthought0</th>\n",
       "      <th>typeofthought1</th>\n",
       "      <th>typeofthought2</th>\n",
       "      <th>typeofthought3</th>\n",
       "      <th>typeofthought4</th>\n",
       "      <th>typeofthought5</th>\n",
       "      <th>typeofthought6</th>\n",
       "      <th>typeofthought7</th>\n",
       "      <th>timeonplatform_hrs</th>\n",
       "    </tr>\n",
       "  </thead>\n",
       "  <tbody>\n",
       "    <tr>\n",
       "      <th>3904</th>\n",
       "      <td>i am not good enough</td>\n",
       "      <td>19598842125.65</td>\n",
       "      <td>1.00</td>\n",
       "      <td>NaN</td>\n",
       "      <td>NaN</td>\n",
       "      <td>25-34</td>\n",
       "      <td>Male</td>\n",
       "      <td>NaN</td>\n",
       "      <td>Europe/London</td>\n",
       "      <td>1</td>\n",
       "      <td>...</td>\n",
       "      <td>1</td>\n",
       "      <td>1</td>\n",
       "      <td>0</td>\n",
       "      <td>0</td>\n",
       "      <td>0</td>\n",
       "      <td>1</td>\n",
       "      <td>1</td>\n",
       "      <td>1</td>\n",
       "      <td>1</td>\n",
       "      <td>5444.12</td>\n",
       "    </tr>\n",
       "    <tr>\n",
       "      <th>6440</th>\n",
       "      <td>i am a failure</td>\n",
       "      <td>26297270404.23</td>\n",
       "      <td>1.00</td>\n",
       "      <td>NaN</td>\n",
       "      <td>NaN</td>\n",
       "      <td>35-44</td>\n",
       "      <td>Female</td>\n",
       "      <td>NaN</td>\n",
       "      <td>America/New_York</td>\n",
       "      <td>1</td>\n",
       "      <td>...</td>\n",
       "      <td>0</td>\n",
       "      <td>1</td>\n",
       "      <td>0</td>\n",
       "      <td>0</td>\n",
       "      <td>1</td>\n",
       "      <td>1</td>\n",
       "      <td>1</td>\n",
       "      <td>1</td>\n",
       "      <td>1</td>\n",
       "      <td>7304.80</td>\n",
       "    </tr>\n",
       "    <tr>\n",
       "      <th>16</th>\n",
       "      <td>i am worthless</td>\n",
       "      <td>18131973480.85</td>\n",
       "      <td>4.00</td>\n",
       "      <td>7.00</td>\n",
       "      <td>10.00</td>\n",
       "      <td>18-24</td>\n",
       "      <td>Female</td>\n",
       "      <td>Yes</td>\n",
       "      <td>America/New_York</td>\n",
       "      <td>0</td>\n",
       "      <td>...</td>\n",
       "      <td>0</td>\n",
       "      <td>0</td>\n",
       "      <td>0</td>\n",
       "      <td>0</td>\n",
       "      <td>0</td>\n",
       "      <td>1</td>\n",
       "      <td>0</td>\n",
       "      <td>0</td>\n",
       "      <td>1</td>\n",
       "      <td>5036.66</td>\n",
       "    </tr>\n",
       "    <tr>\n",
       "      <th>321</th>\n",
       "      <td>i am useless</td>\n",
       "      <td>17737195130.73</td>\n",
       "      <td>3.00</td>\n",
       "      <td>NaN</td>\n",
       "      <td>NaN</td>\n",
       "      <td>NaN</td>\n",
       "      <td>NaN</td>\n",
       "      <td>NaN</td>\n",
       "      <td>Europe/Stockholm</td>\n",
       "      <td>1</td>\n",
       "      <td>...</td>\n",
       "      <td>0</td>\n",
       "      <td>0</td>\n",
       "      <td>0</td>\n",
       "      <td>0</td>\n",
       "      <td>0</td>\n",
       "      <td>1</td>\n",
       "      <td>0</td>\n",
       "      <td>1</td>\n",
       "      <td>0</td>\n",
       "      <td>4927.00</td>\n",
       "    </tr>\n",
       "    <tr>\n",
       "      <th>11078</th>\n",
       "      <td>i am not enough</td>\n",
       "      <td>15970234607.18</td>\n",
       "      <td>NaN</td>\n",
       "      <td>NaN</td>\n",
       "      <td>NaN</td>\n",
       "      <td>NaN</td>\n",
       "      <td>NaN</td>\n",
       "      <td>NaN</td>\n",
       "      <td>America/Denver</td>\n",
       "      <td>1</td>\n",
       "      <td>...</td>\n",
       "      <td>1</td>\n",
       "      <td>1</td>\n",
       "      <td>0</td>\n",
       "      <td>0</td>\n",
       "      <td>1</td>\n",
       "      <td>1</td>\n",
       "      <td>1</td>\n",
       "      <td>1</td>\n",
       "      <td>0</td>\n",
       "      <td>4436.18</td>\n",
       "    </tr>\n",
       "    <tr>\n",
       "      <th>...</th>\n",
       "      <td>...</td>\n",
       "      <td>...</td>\n",
       "      <td>...</td>\n",
       "      <td>...</td>\n",
       "      <td>...</td>\n",
       "      <td>...</td>\n",
       "      <td>...</td>\n",
       "      <td>...</td>\n",
       "      <td>...</td>\n",
       "      <td>...</td>\n",
       "      <td>...</td>\n",
       "      <td>...</td>\n",
       "      <td>...</td>\n",
       "      <td>...</td>\n",
       "      <td>...</td>\n",
       "      <td>...</td>\n",
       "      <td>...</td>\n",
       "      <td>...</td>\n",
       "      <td>...</td>\n",
       "      <td>...</td>\n",
       "      <td>...</td>\n",
       "    </tr>\n",
       "    <tr>\n",
       "      <th>4807</th>\n",
       "      <td>todays going to suck</td>\n",
       "      <td>3096040767.64</td>\n",
       "      <td>3.00</td>\n",
       "      <td>7.00</td>\n",
       "      <td>NaN</td>\n",
       "      <td>NaN</td>\n",
       "      <td>Female</td>\n",
       "      <td>No</td>\n",
       "      <td>America/Los_Angeles</td>\n",
       "      <td>0</td>\n",
       "      <td>...</td>\n",
       "      <td>1</td>\n",
       "      <td>0</td>\n",
       "      <td>0</td>\n",
       "      <td>0</td>\n",
       "      <td>1</td>\n",
       "      <td>1</td>\n",
       "      <td>1</td>\n",
       "      <td>1</td>\n",
       "      <td>1</td>\n",
       "      <td>860.01</td>\n",
       "    </tr>\n",
       "    <tr>\n",
       "      <th>4808</th>\n",
       "      <td>i think i am useless</td>\n",
       "      <td>587128.82</td>\n",
       "      <td>NaN</td>\n",
       "      <td>NaN</td>\n",
       "      <td>NaN</td>\n",
       "      <td>NaN</td>\n",
       "      <td>NaN</td>\n",
       "      <td>NaN</td>\n",
       "      <td>Europe/Berlin</td>\n",
       "      <td>0</td>\n",
       "      <td>...</td>\n",
       "      <td>0</td>\n",
       "      <td>0</td>\n",
       "      <td>0</td>\n",
       "      <td>0</td>\n",
       "      <td>1</td>\n",
       "      <td>0</td>\n",
       "      <td>0</td>\n",
       "      <td>1</td>\n",
       "      <td>1</td>\n",
       "      <td>0.16</td>\n",
       "    </tr>\n",
       "    <tr>\n",
       "      <th>4809</th>\n",
       "      <td>my future is uncertain right now there is too ...</td>\n",
       "      <td>7525058523.11</td>\n",
       "      <td>2.00</td>\n",
       "      <td>NaN</td>\n",
       "      <td>NaN</td>\n",
       "      <td>NaN</td>\n",
       "      <td>NaN</td>\n",
       "      <td>NaN</td>\n",
       "      <td>Asia/Calcutta</td>\n",
       "      <td>0</td>\n",
       "      <td>...</td>\n",
       "      <td>0</td>\n",
       "      <td>0</td>\n",
       "      <td>0</td>\n",
       "      <td>0</td>\n",
       "      <td>1</td>\n",
       "      <td>0</td>\n",
       "      <td>1</td>\n",
       "      <td>0</td>\n",
       "      <td>0</td>\n",
       "      <td>2090.29</td>\n",
       "    </tr>\n",
       "    <tr>\n",
       "      <th>4811</th>\n",
       "      <td>i havent accomplished anything good enough in ...</td>\n",
       "      <td>1030010.19</td>\n",
       "      <td>4.00</td>\n",
       "      <td>NaN</td>\n",
       "      <td>NaN</td>\n",
       "      <td>NaN</td>\n",
       "      <td>NaN</td>\n",
       "      <td>NaN</td>\n",
       "      <td>America/Los_Angeles</td>\n",
       "      <td>1</td>\n",
       "      <td>...</td>\n",
       "      <td>0</td>\n",
       "      <td>0</td>\n",
       "      <td>0</td>\n",
       "      <td>0</td>\n",
       "      <td>0</td>\n",
       "      <td>1</td>\n",
       "      <td>1</td>\n",
       "      <td>1</td>\n",
       "      <td>0</td>\n",
       "      <td>0.29</td>\n",
       "    </tr>\n",
       "    <tr>\n",
       "      <th>13828</th>\n",
       "      <td>no matter how hard i try i will never match my...</td>\n",
       "      <td>215436878.64</td>\n",
       "      <td>2.00</td>\n",
       "      <td>NaN</td>\n",
       "      <td>NaN</td>\n",
       "      <td>NaN</td>\n",
       "      <td>NaN</td>\n",
       "      <td>NaN</td>\n",
       "      <td>Asia/Calcutta</td>\n",
       "      <td>1</td>\n",
       "      <td>...</td>\n",
       "      <td>1</td>\n",
       "      <td>0</td>\n",
       "      <td>0</td>\n",
       "      <td>0</td>\n",
       "      <td>0</td>\n",
       "      <td>1</td>\n",
       "      <td>1</td>\n",
       "      <td>1</td>\n",
       "      <td>0</td>\n",
       "      <td>59.84</td>\n",
       "    </tr>\n",
       "  </tbody>\n",
       "</table>\n",
       "<p>11268 rows × 29 columns</p>\n",
       "</div>"
      ],
      "text/plain": [
       "                                                 thought  timeonplatform  \\\n",
       "3904                                i am not good enough  19598842125.65   \n",
       "6440                                      i am a failure  26297270404.23   \n",
       "16                                        i am worthless  18131973480.85   \n",
       "321                                         i am useless  17737195130.73   \n",
       "11078                                    i am not enough  15970234607.18   \n",
       "...                                                  ...             ...   \n",
       "4807                                todays going to suck   3096040767.64   \n",
       "4808                                i think i am useless       587128.82   \n",
       "4809   my future is uncertain right now there is too ...   7525058523.11   \n",
       "4811   i havent accomplished anything good enough in ...      1030010.19   \n",
       "13828  no matter how hard i try i will never match my...    215436878.64   \n",
       "\n",
       "       lastmood  lastPhq8  lastGad7    age  gender inTherapy  \\\n",
       "3904       1.00       NaN       NaN  25-34    Male       NaN   \n",
       "6440       1.00       NaN       NaN  35-44  Female       NaN   \n",
       "16         4.00      7.00     10.00  18-24  Female       Yes   \n",
       "321        3.00       NaN       NaN    NaN     NaN       NaN   \n",
       "11078       NaN       NaN       NaN    NaN     NaN       NaN   \n",
       "...         ...       ...       ...    ...     ...       ...   \n",
       "4807       3.00      7.00       NaN    NaN  Female        No   \n",
       "4808        NaN       NaN       NaN    NaN     NaN       NaN   \n",
       "4809       2.00       NaN       NaN    NaN     NaN       NaN   \n",
       "4811       4.00       NaN       NaN    NaN     NaN       NaN   \n",
       "13828      2.00       NaN       NaN    NaN     NaN       NaN   \n",
       "\n",
       "                  location  distortion0  ...  distortion10  typeofthought0  \\\n",
       "3904         Europe/London            1  ...             1               1   \n",
       "6440      America/New_York            1  ...             0               1   \n",
       "16        America/New_York            0  ...             0               0   \n",
       "321       Europe/Stockholm            1  ...             0               0   \n",
       "11078       America/Denver            1  ...             1               1   \n",
       "...                    ...          ...  ...           ...             ...   \n",
       "4807   America/Los_Angeles            0  ...             1               0   \n",
       "4808         Europe/Berlin            0  ...             0               0   \n",
       "4809         Asia/Calcutta            0  ...             0               0   \n",
       "4811   America/Los_Angeles            1  ...             0               0   \n",
       "13828        Asia/Calcutta            1  ...             1               0   \n",
       "\n",
       "       typeofthought1  typeofthought2  typeofthought3  typeofthought4  \\\n",
       "3904                0               0               0               1   \n",
       "6440                0               0               1               1   \n",
       "16                  0               0               0               1   \n",
       "321                 0               0               0               1   \n",
       "11078               0               0               1               1   \n",
       "...               ...             ...             ...             ...   \n",
       "4807                0               0               1               1   \n",
       "4808                0               0               1               0   \n",
       "4809                0               0               1               0   \n",
       "4811                0               0               0               1   \n",
       "13828               0               0               0               1   \n",
       "\n",
       "       typeofthought5  typeofthought6  typeofthought7  timeonplatform_hrs  \n",
       "3904                1               1               1             5444.12  \n",
       "6440                1               1               1             7304.80  \n",
       "16                  0               0               1             5036.66  \n",
       "321                 0               1               0             4927.00  \n",
       "11078               1               1               0             4436.18  \n",
       "...               ...             ...             ...                 ...  \n",
       "4807                1               1               1              860.01  \n",
       "4808                0               1               1                0.16  \n",
       "4809                1               0               0             2090.29  \n",
       "4811                1               1               0                0.29  \n",
       "13828               1               1               0               59.84  \n",
       "\n",
       "[11268 rows x 29 columns]"
      ]
     },
     "execution_count": 284,
     "metadata": {},
     "output_type": "execute_result"
    }
   ],
   "source": [
    "bt_defined_data"
   ]
  },
  {
   "cell_type": "markdown",
   "id": "a6e65a43",
   "metadata": {},
   "source": [
    "## Stemming"
   ]
  },
  {
   "cell_type": "code",
   "execution_count": 37,
   "id": "8d74121a",
   "metadata": {},
   "outputs": [],
   "source": [
    "stemmer = SnowballStemmer(\"english\")\n",
    "def stemming(sentence):\n",
    "    stemSentence = \"\"\n",
    "    for word in sentence.split():\n",
    "        stem = stemmer.stem(word)\n",
    "        stemSentence += stem\n",
    "        stemSentence += \" \"\n",
    "    stemSentence = stemSentence.strip()\n",
    "    return stemSentence"
   ]
  },
  {
   "cell_type": "code",
   "execution_count": 38,
   "id": "fdfde3c3",
   "metadata": {},
   "outputs": [],
   "source": [
    "stemmed_data = bt_defined_data.copy()"
   ]
  },
  {
   "cell_type": "code",
   "execution_count": 39,
   "id": "87cc44f4",
   "metadata": {},
   "outputs": [],
   "source": [
    "stemmed_data['thought'] = bt_defined_data['thought'].apply(stemming)"
   ]
  },
  {
   "cell_type": "markdown",
   "id": "a2b07fa4",
   "metadata": {},
   "source": [
    "## Lexicon"
   ]
  },
  {
   "cell_type": "code",
   "execution_count": 37,
   "id": "cc86a02b",
   "metadata": {},
   "outputs": [],
   "source": [
    "def flatten(t):\n",
    "    return [item for sublist in t for item in sublist]"
   ]
  },
  {
   "cell_type": "code",
   "execution_count": 38,
   "id": "70836449",
   "metadata": {},
   "outputs": [],
   "source": [
    "lexicon_normal = flatten(list(bt_defined_data[\"thought\"].str.split(\" \").to_numpy()))"
   ]
  },
  {
   "cell_type": "code",
   "execution_count": 39,
   "id": "415145ec",
   "metadata": {},
   "outputs": [
    {
     "ename": "NameError",
     "evalue": "name 'stemmed_data' is not defined",
     "output_type": "error",
     "traceback": [
      "\u001b[0;31m---------------------------------------------------------------------------\u001b[0m",
      "\u001b[0;31mNameError\u001b[0m                                 Traceback (most recent call last)",
      "\u001b[0;32m/var/folders/3y/wzt94zvd3gvfx871mcf79txr0000gn/T/ipykernel_16837/2826415691.py\u001b[0m in \u001b[0;36m<module>\u001b[0;34m\u001b[0m\n\u001b[0;32m----> 1\u001b[0;31m \u001b[0mlexicon_stemmed\u001b[0m \u001b[0;34m=\u001b[0m \u001b[0mflatten\u001b[0m\u001b[0;34m(\u001b[0m\u001b[0mlist\u001b[0m\u001b[0;34m(\u001b[0m\u001b[0mstemmed_data\u001b[0m\u001b[0;34m[\u001b[0m\u001b[0;34m\"thought\"\u001b[0m\u001b[0;34m]\u001b[0m\u001b[0;34m.\u001b[0m\u001b[0mstr\u001b[0m\u001b[0;34m.\u001b[0m\u001b[0msplit\u001b[0m\u001b[0;34m(\u001b[0m\u001b[0;34m\" \"\u001b[0m\u001b[0;34m)\u001b[0m\u001b[0;34m.\u001b[0m\u001b[0mto_numpy\u001b[0m\u001b[0;34m(\u001b[0m\u001b[0;34m)\u001b[0m\u001b[0;34m)\u001b[0m\u001b[0;34m)\u001b[0m\u001b[0;34m\u001b[0m\u001b[0;34m\u001b[0m\u001b[0m\n\u001b[0m",
      "\u001b[0;31mNameError\u001b[0m: name 'stemmed_data' is not defined"
     ]
    }
   ],
   "source": [
    "lexicon_stemmed = flatten(list(stemmed_data[\"thought\"].str.split(\" \").to_numpy()))"
   ]
  },
  {
   "cell_type": "code",
   "execution_count": 41,
   "id": "e88eeea6",
   "metadata": {},
   "outputs": [
    {
     "data": {
      "text/plain": [
       "5819"
      ]
     },
     "execution_count": 41,
     "metadata": {},
     "output_type": "execute_result"
    }
   ],
   "source": [
    "sum(pd.DataFrame(pd.DataFrame(lexicon_normal).value_counts(dropna=False))[0] >= 1)"
   ]
  },
  {
   "cell_type": "code",
   "execution_count": 42,
   "id": "975a0c38",
   "metadata": {},
   "outputs": [
    {
     "ename": "NameError",
     "evalue": "name 'lexicon_stemmed' is not defined",
     "output_type": "error",
     "traceback": [
      "\u001b[0;31m---------------------------------------------------------------------------\u001b[0m",
      "\u001b[0;31mNameError\u001b[0m                                 Traceback (most recent call last)",
      "\u001b[0;32m/var/folders/3y/wzt94zvd3gvfx871mcf79txr0000gn/T/ipykernel_16837/2924933072.py\u001b[0m in \u001b[0;36m<module>\u001b[0;34m\u001b[0m\n\u001b[0;32m----> 1\u001b[0;31m \u001b[0msum\u001b[0m\u001b[0;34m(\u001b[0m\u001b[0mpd\u001b[0m\u001b[0;34m.\u001b[0m\u001b[0mDataFrame\u001b[0m\u001b[0;34m(\u001b[0m\u001b[0mpd\u001b[0m\u001b[0;34m.\u001b[0m\u001b[0mDataFrame\u001b[0m\u001b[0;34m(\u001b[0m\u001b[0mlexicon_stemmed\u001b[0m\u001b[0;34m)\u001b[0m\u001b[0;34m.\u001b[0m\u001b[0mvalue_counts\u001b[0m\u001b[0;34m(\u001b[0m\u001b[0mdropna\u001b[0m\u001b[0;34m=\u001b[0m\u001b[0;32mFalse\u001b[0m\u001b[0;34m)\u001b[0m\u001b[0;34m)\u001b[0m\u001b[0;34m[\u001b[0m\u001b[0;36m0\u001b[0m\u001b[0;34m]\u001b[0m \u001b[0;34m==\u001b[0m \u001b[0;36m1\u001b[0m\u001b[0;34m)\u001b[0m\u001b[0;34m\u001b[0m\u001b[0;34m\u001b[0m\u001b[0m\n\u001b[0m",
      "\u001b[0;31mNameError\u001b[0m: name 'lexicon_stemmed' is not defined"
     ]
    }
   ],
   "source": [
    "sum(pd.DataFrame(pd.DataFrame(lexicon_stemmed).value_counts(dropna=False))[0] == 1)"
   ]
  },
  {
   "cell_type": "markdown",
   "id": "1d963f33",
   "metadata": {},
   "source": [
    "## Grafikonok"
   ]
  },
  {
   "cell_type": "markdown",
   "id": "4a6de9c9",
   "metadata": {},
   "source": [
    "### Labelek eloszlása"
   ]
  },
  {
   "cell_type": "code",
   "execution_count": 43,
   "id": "71367cf5",
   "metadata": {},
   "outputs": [],
   "source": [
    "distortion_data = bt_defined_data[[\"thought\", \"distortion0\", \"distortion1\", \"distortion2\", \"distortion3\", \"distortion4\", \"distortion5\", \"distortion6\", \"distortion7\", \"distortion8\", \"distortion9\", \"distortion10\"]]"
   ]
  },
  {
   "cell_type": "code",
   "execution_count": 292,
   "id": "1d1ba794",
   "metadata": {},
   "outputs": [
    {
     "data": {
      "image/png": "[encoded data removed]",
      "text/plain": [
       "<Figure size 1080x576 with 1 Axes>"
      ]
     },
     "metadata": {
      "needs_background": "light"
     },
     "output_type": "display_data"
    }
   ],
   "source": [
    "categories = list(distortion_data.columns.values)\n",
    "plt.figure(figsize=(15,8))\n",
    "\n",
    "ax = sns.barplot(categories[1:], distortion_data.iloc[:,1:].sum().values)\n",
    "\n",
    "#plt.title('Torzítások eloszlása', fontsize=24)\n",
    "plt.ylabel('Bejegyzések száma', fontsize=18)\n",
    "plt.xlabel('Torzítás típusa', fontsize=18)\n",
    "\n",
    "#adding text labels\n",
    "rects = ax.patches\n",
    "labels = distortion_data.iloc[:,1:].sum().values\n",
    "for rect, label in zip(rects, labels):\n",
    "    height = rect.get_height()\n",
    "    ax.text(rect.get_x() + rect.get_width()/2, height + 5, label, ha='center', va='bottom', fontsize=18)\n",
    "plt.show()"
   ]
  },
  {
   "cell_type": "code",
   "execution_count": 295,
   "id": "302ba0ad",
   "metadata": {},
   "outputs": [
    {
     "data": {
      "text/plain": [
       "0.18619098331558395"
      ]
     },
     "execution_count": 295,
     "metadata": {},
     "output_type": "execute_result"
    }
   ],
   "source": [
    "2098/len(distortion_data)"
   ]
  },
  {
   "cell_type": "markdown",
   "id": "c234b20d",
   "metadata": {},
   "source": [
    "### Labelek számának eloszlása"
   ]
  },
  {
   "cell_type": "code",
   "execution_count": 291,
   "id": "4c3076f5",
   "metadata": {},
   "outputs": [
    {
     "data": {
      "image/png": "[encoded data removed]",
      "text/plain": [
       "<Figure size 1080x576 with 1 Axes>"
      ]
     },
     "metadata": {
      "needs_background": "light"
     },
     "output_type": "display_data"
    }
   ],
   "source": [
    "rowSums = distortion_data.iloc[:,1:].sum(axis=1)\n",
    "multiLabel_counts = rowSums.value_counts()\n",
    "multiLabel_counts = multiLabel_counts.sort_index()\n",
    "plt.figure(figsize=(15,8))\n",
    "ax = sns.barplot(multiLabel_counts.index, multiLabel_counts.values)\n",
    "#plt.title(\"Torzítások számának eloszlása\")\n",
    "plt.ylabel('Bejegyzések száma', fontsize=18)\n",
    "plt.xlabel('Torzítások száma', fontsize=18)\n",
    "#adding the text labels\n",
    "rects = ax.patches\n",
    "labels = multiLabel_counts.values\n",
    "for rect, label in zip(rects, labels):\n",
    "    height = rect.get_height()\n",
    "    ax.text(rect.get_x() + rect.get_width()/2, height + 5, label, ha='center', va='bottom')\n",
    "plt.show()"
   ]
  },
  {
   "cell_type": "markdown",
   "id": "4910ec8d",
   "metadata": {},
   "source": [
    "### Label kardinalitás és sűrűség"
   ]
  },
  {
   "cell_type": "code",
   "execution_count": 46,
   "id": "6e04d1af",
   "metadata": {},
   "outputs": [
    {
     "data": {
      "text/plain": [
       "4.442048278310259"
      ]
     },
     "execution_count": 46,
     "metadata": {},
     "output_type": "execute_result"
    }
   ],
   "source": [
    "# Label kardinalitás\n",
    "lab_card = distortion_data[distortion_list].sum(axis=1).values.mean()\n",
    "lab_card"
   ]
  },
  {
   "cell_type": "code",
   "execution_count": 47,
   "id": "b7ea590f",
   "metadata": {},
   "outputs": [
    {
     "data": {
      "text/plain": [
       "0.4038225707554781"
      ]
     },
     "execution_count": 47,
     "metadata": {},
     "output_type": "execute_result"
    }
   ],
   "source": [
    "# Label sűrűség\n",
    "lab_card / len(distortion_list)"
   ]
  },
  {
   "cell_type": "markdown",
   "id": "e4bdefd8",
   "metadata": {},
   "source": [
    "### Szavak száma bejegyzésenként"
   ]
  },
  {
   "cell_type": "code",
   "execution_count": 48,
   "id": "9ef0b74a",
   "metadata": {},
   "outputs": [],
   "source": [
    "wordcount = []\n",
    "for sentence in distortion_data.thought:\n",
    "    counter = 0\n",
    "    for word in sentence.split(' '):\n",
    "        counter += 1\n",
    "    wordcount.append([sentence, counter])\n",
    "wordcounts = pd.DataFrame(wordcount)\n",
    "wordcounts = wordcounts.rename(columns = {0:'thought', 1:'word_count'})"
   ]
  },
  {
   "cell_type": "code",
   "execution_count": 49,
   "id": "49249731",
   "metadata": {},
   "outputs": [],
   "source": [
    "word_count_counts = wordcounts.word_count.value_counts()"
   ]
  },
  {
   "cell_type": "code",
   "execution_count": 50,
   "id": "f3278293",
   "metadata": {},
   "outputs": [
    {
     "data": {
      "image/png": "[encoded data removed]",
      "text/plain": [
       "<Figure size 1080x576 with 1 Axes>"
      ]
     },
     "metadata": {
      "needs_background": "light"
     },
     "output_type": "display_data"
    }
   ],
   "source": [
    "plt.figure(figsize=(15,8))\n",
    "ax = sns.barplot(word_count_counts.index, word_count_counts.values)\n",
    "plt.title(\"Szavak számának eloszlása\")\n",
    "plt.ylabel('Előfordulás', fontsize=18)\n",
    "plt.xlabel('Szavak száma', fontsize=18)\n",
    "#adding the text labels\n",
    "rects = ax.patches\n",
    "labels = multiLabel_counts.values\n",
    "for rect, label in zip(rects, labels):\n",
    "    height = rect.get_height()\n",
    "    ax.text(rect.get_x() + rect.get_width()/2, height + 5, label, ha='center', va='bottom')\n",
    "\n",
    "plt.setp(ax.get_xticklabels(), rotation=270, horizontalalignment='right')\n",
    "plt.show()"
   ]
  },
  {
   "cell_type": "code",
   "execution_count": 51,
   "id": "0f24f88d",
   "metadata": {},
   "outputs": [
    {
     "data": {
      "text/plain": [
       "count   11268.00\n",
       "mean        9.90\n",
       "std         8.13\n",
       "min         1.00\n",
       "25%         5.00\n",
       "50%         8.00\n",
       "75%        12.00\n",
       "max       111.00\n",
       "Name: word_count, dtype: float64"
      ]
     },
     "execution_count": 51,
     "metadata": {},
     "output_type": "execute_result"
    }
   ],
   "source": [
    "wordcounts.word_count.describe()"
   ]
  },
  {
   "cell_type": "code",
   "execution_count": 52,
   "id": "5aec7386",
   "metadata": {},
   "outputs": [
    {
     "data": {
      "text/plain": [
       "8.0"
      ]
     },
     "execution_count": 52,
     "metadata": {},
     "output_type": "execute_result"
    }
   ],
   "source": [
    "wordcounts.word_count.median()"
   ]
  },
  {
   "cell_type": "markdown",
   "id": "d4590301",
   "metadata": {},
   "source": [
    "## Tanuló és teszt adatbázis elválasztása"
   ]
  },
  {
   "cell_type": "code",
   "execution_count": 53,
   "id": "56f4fffd",
   "metadata": {},
   "outputs": [],
   "source": [
    "from sklearn.model_selection import train_test_split"
   ]
  },
  {
   "cell_type": "code",
   "execution_count": 54,
   "id": "50ec0758",
   "metadata": {},
   "outputs": [],
   "source": [
    "train, test = train_test_split(bt_defined_data, random_state=42, test_size=0.20, shuffle=True)"
   ]
  },
  {
   "cell_type": "markdown",
   "id": "a82c5e96",
   "metadata": {},
   "source": [
    "# Vektorizálás"
   ]
  },
  {
   "cell_type": "code",
   "execution_count": 55,
   "id": "e1af8760",
   "metadata": {},
   "outputs": [],
   "source": [
    "from sklearn.feature_extraction.text import TfidfVectorizer, CountVectorizer"
   ]
  },
  {
   "cell_type": "code",
   "execution_count": 56,
   "id": "5e9f2fff",
   "metadata": {},
   "outputs": [],
   "source": [
    "no_distortion_cols = ['thought', 'timeonplatform', 'lastmood', 'lastPhq8', 'lastGad7', 'age', 'gender', 'inTherapy', 'location', 'timeonplatform_hrs']"
   ]
  },
  {
   "cell_type": "code",
   "execution_count": 57,
   "id": "f857254b",
   "metadata": {},
   "outputs": [],
   "source": [
    "y_train = train[distortion_list]"
   ]
  },
  {
   "cell_type": "code",
   "execution_count": 58,
   "id": "c433971a",
   "metadata": {},
   "outputs": [],
   "source": [
    "y_test = test[distortion_list]"
   ]
  },
  {
   "cell_type": "markdown",
   "id": "d2686309",
   "metadata": {},
   "source": [
    "## Szógyakoriság"
   ]
  },
  {
   "cell_type": "code",
   "execution_count": 59,
   "id": "97a360f5",
   "metadata": {},
   "outputs": [
    {
     "data": {
      "text/plain": [
       "CountVectorizer()"
      ]
     },
     "execution_count": 59,
     "metadata": {},
     "output_type": "execute_result"
    }
   ],
   "source": [
    "countVectorizer = CountVectorizer()\n",
    "countVectorizer.fit(train.thought)"
   ]
  },
  {
   "cell_type": "markdown",
   "id": "197fadfb",
   "metadata": {},
   "source": [
    "#### Tanuló halmaz"
   ]
  },
  {
   "cell_type": "code",
   "execution_count": 60,
   "id": "1f9b56e9",
   "metadata": {},
   "outputs": [],
   "source": [
    "count_x_train = countVectorizer.transform(train.thought)"
   ]
  },
  {
   "cell_type": "markdown",
   "id": "cd2ce96d",
   "metadata": {},
   "source": [
    "#### Teszthalmaz"
   ]
  },
  {
   "cell_type": "code",
   "execution_count": 61,
   "id": "6c2d49cc",
   "metadata": {},
   "outputs": [],
   "source": [
    "count_x_test = countVectorizer.transform(test.thought)"
   ]
  },
  {
   "cell_type": "markdown",
   "id": "b8709a59",
   "metadata": {},
   "source": [
    "## TF-IDF"
   ]
  },
  {
   "cell_type": "code",
   "execution_count": 62,
   "id": "217fa351",
   "metadata": {},
   "outputs": [
    {
     "data": {
      "text/plain": [
       "TfidfVectorizer()"
      ]
     },
     "execution_count": 62,
     "metadata": {},
     "output_type": "execute_result"
    }
   ],
   "source": [
    "vectorizer = TfidfVectorizer()\n",
    "vectorizer.fit(train.thought)"
   ]
  },
  {
   "cell_type": "markdown",
   "id": "7de18702",
   "metadata": {},
   "source": [
    "#### Tanuló halmaz"
   ]
  },
  {
   "cell_type": "code",
   "execution_count": 63,
   "id": "ee530ece",
   "metadata": {},
   "outputs": [],
   "source": [
    "tf_idf_x_train = vectorizer.transform(train.thought)"
   ]
  },
  {
   "cell_type": "markdown",
   "id": "f46c3556",
   "metadata": {},
   "source": [
    "#### Teszthalmaz"
   ]
  },
  {
   "cell_type": "code",
   "execution_count": 64,
   "id": "50c10f57",
   "metadata": {},
   "outputs": [],
   "source": [
    "tf_idf_x_test = vectorizer.transform(test.thought)"
   ]
  },
  {
   "cell_type": "markdown",
   "id": "f21a8db2",
   "metadata": {},
   "source": [
    "# Szóbeágyazás"
   ]
  },
  {
   "cell_type": "code",
   "execution_count": 65,
   "id": "502b409c",
   "metadata": {},
   "outputs": [],
   "source": [
    "from gensim.models import KeyedVectors"
   ]
  },
  {
   "cell_type": "markdown",
   "id": "cce5d80f",
   "metadata": {},
   "source": [
    "## Word2Vec"
   ]
  },
  {
   "cell_type": "code",
   "execution_count": 66,
   "id": "46669996",
   "metadata": {},
   "outputs": [],
   "source": [
    "# load Googel News model\n",
    "filename = 'GoogleNews-vectors-negative300.bin'\n",
    "model = KeyedVectors.load_word2vec_format(filename, binary=True)"
   ]
  },
  {
   "cell_type": "markdown",
   "id": "da42e27c",
   "metadata": {},
   "source": [
    "#### szótáron kívüli szavak kiszórása"
   ]
  },
  {
   "cell_type": "code",
   "execution_count": 67,
   "id": "520eedaa",
   "metadata": {},
   "outputs": [
    {
     "name": "stdout",
     "output_type": "stream",
     "text": [
      "found\n",
      "found\n",
      "['lihava', 'hhg']\n"
     ]
    }
   ],
   "source": [
    "out_of_vocab = []\n",
    "for thought in bt_defined_data['thought']:\n",
    "    thought_all_words = thought.split()\n",
    "    thought_vectorized = []\n",
    "    for thought_w in thought_all_words:\n",
    "        if thought_w in model:\n",
    "            thought_vectorized.append(model[thought_w])\n",
    "    if not thought_vectorized:\n",
    "        print(\"found\")\n",
    "        out_of_vocab.append(thought_w)\n",
    "print(out_of_vocab)"
   ]
  },
  {
   "cell_type": "code",
   "execution_count": 68,
   "id": "65e28489",
   "metadata": {},
   "outputs": [
    {
     "data": {
      "text/html": [
       "<div>\n",
       "<style scoped>\n",
       "    .dataframe tbody tr th:only-of-type {\n",
       "        vertical-align: middle;\n",
       "    }\n",
       "\n",
       "    .dataframe tbody tr th {\n",
       "        vertical-align: top;\n",
       "    }\n",
       "\n",
       "    .dataframe thead th {\n",
       "        text-align: right;\n",
       "    }\n",
       "</style>\n",
       "<table border=\"1\" class=\"dataframe\">\n",
       "  <thead>\n",
       "    <tr style=\"text-align: right;\">\n",
       "      <th></th>\n",
       "      <th>thought</th>\n",
       "      <th>timeonplatform</th>\n",
       "      <th>lastmood</th>\n",
       "      <th>lastPhq8</th>\n",
       "      <th>lastGad7</th>\n",
       "      <th>age</th>\n",
       "      <th>gender</th>\n",
       "      <th>inTherapy</th>\n",
       "      <th>location</th>\n",
       "      <th>distortion0</th>\n",
       "      <th>...</th>\n",
       "      <th>distortion10</th>\n",
       "      <th>typeofthought0</th>\n",
       "      <th>typeofthought1</th>\n",
       "      <th>typeofthought2</th>\n",
       "      <th>typeofthought3</th>\n",
       "      <th>typeofthought4</th>\n",
       "      <th>typeofthought5</th>\n",
       "      <th>typeofthought6</th>\n",
       "      <th>typeofthought7</th>\n",
       "      <th>timeonplatform_hrs</th>\n",
       "    </tr>\n",
       "  </thead>\n",
       "  <tbody>\n",
       "    <tr>\n",
       "      <th>1005</th>\n",
       "      <td>hhg</td>\n",
       "      <td>14135414241.17</td>\n",
       "      <td>2.00</td>\n",
       "      <td>NaN</td>\n",
       "      <td>NaN</td>\n",
       "      <td>NaN</td>\n",
       "      <td>NaN</td>\n",
       "      <td>NaN</td>\n",
       "      <td>Australia/Darwin</td>\n",
       "      <td>0</td>\n",
       "      <td>...</td>\n",
       "      <td>0</td>\n",
       "      <td>1</td>\n",
       "      <td>0</td>\n",
       "      <td>0</td>\n",
       "      <td>0</td>\n",
       "      <td>0</td>\n",
       "      <td>0</td>\n",
       "      <td>0</td>\n",
       "      <td>1</td>\n",
       "      <td>3926.50</td>\n",
       "    </tr>\n",
       "  </tbody>\n",
       "</table>\n",
       "<p>1 rows × 29 columns</p>\n",
       "</div>"
      ],
      "text/plain": [
       "     thought  timeonplatform  lastmood  lastPhq8  lastGad7  age gender  \\\n",
       "1005     hhg  14135414241.17      2.00       NaN       NaN  NaN    NaN   \n",
       "\n",
       "     inTherapy          location  distortion0  ...  distortion10  \\\n",
       "1005       NaN  Australia/Darwin            0  ...             0   \n",
       "\n",
       "      typeofthought0  typeofthought1  typeofthought2  typeofthought3  \\\n",
       "1005               1               0               0               0   \n",
       "\n",
       "      typeofthought4  typeofthought5  typeofthought6  typeofthought7  \\\n",
       "1005               0               0               0               1   \n",
       "\n",
       "      timeonplatform_hrs  \n",
       "1005             3926.50  \n",
       "\n",
       "[1 rows x 29 columns]"
      ]
     },
     "execution_count": 68,
     "metadata": {},
     "output_type": "execute_result"
    }
   ],
   "source": [
    "train[train['thought'].isin(out_of_vocab)]"
   ]
  },
  {
   "cell_type": "code",
   "execution_count": 69,
   "id": "260897ad",
   "metadata": {},
   "outputs": [
    {
     "data": {
      "text/html": [
       "<div>\n",
       "<style scoped>\n",
       "    .dataframe tbody tr th:only-of-type {\n",
       "        vertical-align: middle;\n",
       "    }\n",
       "\n",
       "    .dataframe tbody tr th {\n",
       "        vertical-align: top;\n",
       "    }\n",
       "\n",
       "    .dataframe thead th {\n",
       "        text-align: right;\n",
       "    }\n",
       "</style>\n",
       "<table border=\"1\" class=\"dataframe\">\n",
       "  <thead>\n",
       "    <tr style=\"text-align: right;\">\n",
       "      <th></th>\n",
       "      <th>thought</th>\n",
       "      <th>timeonplatform</th>\n",
       "      <th>lastmood</th>\n",
       "      <th>lastPhq8</th>\n",
       "      <th>lastGad7</th>\n",
       "      <th>age</th>\n",
       "      <th>gender</th>\n",
       "      <th>inTherapy</th>\n",
       "      <th>location</th>\n",
       "      <th>distortion0</th>\n",
       "      <th>...</th>\n",
       "      <th>distortion10</th>\n",
       "      <th>typeofthought0</th>\n",
       "      <th>typeofthought1</th>\n",
       "      <th>typeofthought2</th>\n",
       "      <th>typeofthought3</th>\n",
       "      <th>typeofthought4</th>\n",
       "      <th>typeofthought5</th>\n",
       "      <th>typeofthought6</th>\n",
       "      <th>typeofthought7</th>\n",
       "      <th>timeonplatform_hrs</th>\n",
       "    </tr>\n",
       "  </thead>\n",
       "  <tbody>\n",
       "    <tr>\n",
       "      <th>2187</th>\n",
       "      <td>olen lihava</td>\n",
       "      <td>84871449.33</td>\n",
       "      <td>2.00</td>\n",
       "      <td>16.00</td>\n",
       "      <td>14.00</td>\n",
       "      <td>NaN</td>\n",
       "      <td>NaN</td>\n",
       "      <td>NaN</td>\n",
       "      <td>Europe/Helsinki</td>\n",
       "      <td>0</td>\n",
       "      <td>...</td>\n",
       "      <td>0</td>\n",
       "      <td>0</td>\n",
       "      <td>0</td>\n",
       "      <td>0</td>\n",
       "      <td>1</td>\n",
       "      <td>1</td>\n",
       "      <td>0</td>\n",
       "      <td>0</td>\n",
       "      <td>1</td>\n",
       "      <td>23.58</td>\n",
       "    </tr>\n",
       "  </tbody>\n",
       "</table>\n",
       "<p>1 rows × 29 columns</p>\n",
       "</div>"
      ],
      "text/plain": [
       "          thought  timeonplatform  lastmood  lastPhq8  lastGad7  age gender  \\\n",
       "2187  olen lihava     84871449.33      2.00     16.00     14.00  NaN    NaN   \n",
       "\n",
       "     inTherapy         location  distortion0  ...  distortion10  \\\n",
       "2187       NaN  Europe/Helsinki            0  ...             0   \n",
       "\n",
       "      typeofthought0  typeofthought1  typeofthought2  typeofthought3  \\\n",
       "2187               0               0               0               1   \n",
       "\n",
       "      typeofthought4  typeofthought5  typeofthought6  typeofthought7  \\\n",
       "2187               1               0               0               1   \n",
       "\n",
       "      timeonplatform_hrs  \n",
       "2187               23.58  \n",
       "\n",
       "[1 rows x 29 columns]"
      ]
     },
     "execution_count": 69,
     "metadata": {},
     "output_type": "execute_result"
    }
   ],
   "source": [
    "train[train['thought'].str.contains('lihava')]"
   ]
  },
  {
   "cell_type": "code",
   "execution_count": 70,
   "id": "2cb2abf6",
   "metadata": {},
   "outputs": [],
   "source": [
    "train_wo_oov = train.drop([1005, 2187])"
   ]
  },
  {
   "cell_type": "markdown",
   "id": "d015ee00",
   "metadata": {},
   "source": [
    "#### Tanuló halmaz vektorizálása"
   ]
  },
  {
   "cell_type": "code",
   "execution_count": 71,
   "id": "6c2c84ce",
   "metadata": {},
   "outputs": [],
   "source": [
    "w2v_x_train = []\n",
    "for thought in train_wo_oov['thought']:\n",
    "    thought_all_words = thought.split()\n",
    "    thought_vectorized = []\n",
    "    for thought_w in thought_all_words:\n",
    "        if thought_w in model:\n",
    "            thought_vectorized.append(model[thought_w])\n",
    "    thought_vectorized_mean = np.mean(thought_vectorized, axis=0)\n",
    "    w2v_x_train.append(thought_vectorized_mean)"
   ]
  },
  {
   "cell_type": "code",
   "execution_count": 72,
   "id": "d7980f4f",
   "metadata": {},
   "outputs": [
    {
     "data": {
      "text/html": [
       "<div>\n",
       "<style scoped>\n",
       "    .dataframe tbody tr th:only-of-type {\n",
       "        vertical-align: middle;\n",
       "    }\n",
       "\n",
       "    .dataframe tbody tr th {\n",
       "        vertical-align: top;\n",
       "    }\n",
       "\n",
       "    .dataframe thead th {\n",
       "        text-align: right;\n",
       "    }\n",
       "</style>\n",
       "<table border=\"1\" class=\"dataframe\">\n",
       "  <thead>\n",
       "    <tr style=\"text-align: right;\">\n",
       "      <th></th>\n",
       "      <th>0</th>\n",
       "      <th>1</th>\n",
       "      <th>2</th>\n",
       "      <th>3</th>\n",
       "      <th>4</th>\n",
       "      <th>5</th>\n",
       "      <th>6</th>\n",
       "      <th>7</th>\n",
       "      <th>8</th>\n",
       "      <th>9</th>\n",
       "      <th>...</th>\n",
       "      <th>290</th>\n",
       "      <th>291</th>\n",
       "      <th>292</th>\n",
       "      <th>293</th>\n",
       "      <th>294</th>\n",
       "      <th>295</th>\n",
       "      <th>296</th>\n",
       "      <th>297</th>\n",
       "      <th>298</th>\n",
       "      <th>299</th>\n",
       "    </tr>\n",
       "  </thead>\n",
       "  <tbody>\n",
       "    <tr>\n",
       "      <th>0</th>\n",
       "      <td>-0.07</td>\n",
       "      <td>0.01</td>\n",
       "      <td>0.08</td>\n",
       "      <td>0.01</td>\n",
       "      <td>-0.05</td>\n",
       "      <td>0.07</td>\n",
       "      <td>0.06</td>\n",
       "      <td>-0.01</td>\n",
       "      <td>0.05</td>\n",
       "      <td>0.11</td>\n",
       "      <td>...</td>\n",
       "      <td>-0.02</td>\n",
       "      <td>0.12</td>\n",
       "      <td>-0.12</td>\n",
       "      <td>0.00</td>\n",
       "      <td>-0.08</td>\n",
       "      <td>0.04</td>\n",
       "      <td>-0.15</td>\n",
       "      <td>-0.05</td>\n",
       "      <td>-0.00</td>\n",
       "      <td>0.02</td>\n",
       "    </tr>\n",
       "    <tr>\n",
       "      <th>1</th>\n",
       "      <td>-0.04</td>\n",
       "      <td>0.08</td>\n",
       "      <td>-0.01</td>\n",
       "      <td>0.10</td>\n",
       "      <td>-0.07</td>\n",
       "      <td>-0.02</td>\n",
       "      <td>0.08</td>\n",
       "      <td>-0.07</td>\n",
       "      <td>-0.02</td>\n",
       "      <td>0.06</td>\n",
       "      <td>...</td>\n",
       "      <td>-0.16</td>\n",
       "      <td>0.11</td>\n",
       "      <td>-0.14</td>\n",
       "      <td>-0.05</td>\n",
       "      <td>-0.13</td>\n",
       "      <td>-0.05</td>\n",
       "      <td>0.11</td>\n",
       "      <td>0.02</td>\n",
       "      <td>-0.01</td>\n",
       "      <td>-0.01</td>\n",
       "    </tr>\n",
       "    <tr>\n",
       "      <th>2</th>\n",
       "      <td>0.02</td>\n",
       "      <td>0.03</td>\n",
       "      <td>0.04</td>\n",
       "      <td>0.12</td>\n",
       "      <td>-0.07</td>\n",
       "      <td>0.02</td>\n",
       "      <td>0.05</td>\n",
       "      <td>-0.09</td>\n",
       "      <td>0.05</td>\n",
       "      <td>0.05</td>\n",
       "      <td>...</td>\n",
       "      <td>-0.02</td>\n",
       "      <td>0.08</td>\n",
       "      <td>-0.11</td>\n",
       "      <td>0.01</td>\n",
       "      <td>-0.02</td>\n",
       "      <td>-0.04</td>\n",
       "      <td>-0.00</td>\n",
       "      <td>-0.04</td>\n",
       "      <td>0.01</td>\n",
       "      <td>-0.04</td>\n",
       "    </tr>\n",
       "    <tr>\n",
       "      <th>3</th>\n",
       "      <td>0.08</td>\n",
       "      <td>0.08</td>\n",
       "      <td>0.03</td>\n",
       "      <td>0.07</td>\n",
       "      <td>-0.11</td>\n",
       "      <td>0.12</td>\n",
       "      <td>0.04</td>\n",
       "      <td>-0.14</td>\n",
       "      <td>0.10</td>\n",
       "      <td>0.11</td>\n",
       "      <td>...</td>\n",
       "      <td>-0.06</td>\n",
       "      <td>-0.06</td>\n",
       "      <td>-0.08</td>\n",
       "      <td>-0.06</td>\n",
       "      <td>-0.05</td>\n",
       "      <td>0.10</td>\n",
       "      <td>-0.03</td>\n",
       "      <td>0.02</td>\n",
       "      <td>-0.02</td>\n",
       "      <td>0.12</td>\n",
       "    </tr>\n",
       "    <tr>\n",
       "      <th>4</th>\n",
       "      <td>0.01</td>\n",
       "      <td>-0.07</td>\n",
       "      <td>0.08</td>\n",
       "      <td>0.17</td>\n",
       "      <td>-0.07</td>\n",
       "      <td>-0.00</td>\n",
       "      <td>-0.02</td>\n",
       "      <td>-0.07</td>\n",
       "      <td>0.05</td>\n",
       "      <td>0.15</td>\n",
       "      <td>...</td>\n",
       "      <td>-0.05</td>\n",
       "      <td>0.17</td>\n",
       "      <td>-0.14</td>\n",
       "      <td>0.03</td>\n",
       "      <td>-0.10</td>\n",
       "      <td>0.01</td>\n",
       "      <td>0.02</td>\n",
       "      <td>-0.01</td>\n",
       "      <td>-0.02</td>\n",
       "      <td>-0.06</td>\n",
       "    </tr>\n",
       "    <tr>\n",
       "      <th>...</th>\n",
       "      <td>...</td>\n",
       "      <td>...</td>\n",
       "      <td>...</td>\n",
       "      <td>...</td>\n",
       "      <td>...</td>\n",
       "      <td>...</td>\n",
       "      <td>...</td>\n",
       "      <td>...</td>\n",
       "      <td>...</td>\n",
       "      <td>...</td>\n",
       "      <td>...</td>\n",
       "      <td>...</td>\n",
       "      <td>...</td>\n",
       "      <td>...</td>\n",
       "      <td>...</td>\n",
       "      <td>...</td>\n",
       "      <td>...</td>\n",
       "      <td>...</td>\n",
       "      <td>...</td>\n",
       "      <td>...</td>\n",
       "      <td>...</td>\n",
       "    </tr>\n",
       "    <tr>\n",
       "      <th>9007</th>\n",
       "      <td>0.04</td>\n",
       "      <td>0.06</td>\n",
       "      <td>-0.03</td>\n",
       "      <td>0.11</td>\n",
       "      <td>-0.06</td>\n",
       "      <td>-0.03</td>\n",
       "      <td>0.10</td>\n",
       "      <td>-0.07</td>\n",
       "      <td>0.01</td>\n",
       "      <td>-0.01</td>\n",
       "      <td>...</td>\n",
       "      <td>-0.06</td>\n",
       "      <td>0.13</td>\n",
       "      <td>-0.16</td>\n",
       "      <td>0.05</td>\n",
       "      <td>-0.10</td>\n",
       "      <td>0.02</td>\n",
       "      <td>0.10</td>\n",
       "      <td>-0.07</td>\n",
       "      <td>-0.08</td>\n",
       "      <td>-0.00</td>\n",
       "    </tr>\n",
       "    <tr>\n",
       "      <th>9008</th>\n",
       "      <td>0.01</td>\n",
       "      <td>0.07</td>\n",
       "      <td>0.04</td>\n",
       "      <td>0.08</td>\n",
       "      <td>-0.06</td>\n",
       "      <td>0.01</td>\n",
       "      <td>0.00</td>\n",
       "      <td>-0.08</td>\n",
       "      <td>0.08</td>\n",
       "      <td>0.08</td>\n",
       "      <td>...</td>\n",
       "      <td>-0.04</td>\n",
       "      <td>0.05</td>\n",
       "      <td>-0.09</td>\n",
       "      <td>0.04</td>\n",
       "      <td>-0.02</td>\n",
       "      <td>0.03</td>\n",
       "      <td>-0.03</td>\n",
       "      <td>0.00</td>\n",
       "      <td>0.05</td>\n",
       "      <td>-0.04</td>\n",
       "    </tr>\n",
       "    <tr>\n",
       "      <th>9009</th>\n",
       "      <td>0.07</td>\n",
       "      <td>0.00</td>\n",
       "      <td>0.02</td>\n",
       "      <td>0.08</td>\n",
       "      <td>-0.01</td>\n",
       "      <td>-0.02</td>\n",
       "      <td>0.02</td>\n",
       "      <td>-0.10</td>\n",
       "      <td>0.04</td>\n",
       "      <td>0.07</td>\n",
       "      <td>...</td>\n",
       "      <td>-0.06</td>\n",
       "      <td>0.06</td>\n",
       "      <td>-0.11</td>\n",
       "      <td>-0.03</td>\n",
       "      <td>-0.08</td>\n",
       "      <td>-0.03</td>\n",
       "      <td>0.04</td>\n",
       "      <td>-0.05</td>\n",
       "      <td>0.04</td>\n",
       "      <td>-0.03</td>\n",
       "    </tr>\n",
       "    <tr>\n",
       "      <th>9010</th>\n",
       "      <td>-0.03</td>\n",
       "      <td>-0.10</td>\n",
       "      <td>-0.01</td>\n",
       "      <td>0.16</td>\n",
       "      <td>-0.11</td>\n",
       "      <td>0.06</td>\n",
       "      <td>0.09</td>\n",
       "      <td>0.01</td>\n",
       "      <td>0.05</td>\n",
       "      <td>-0.05</td>\n",
       "      <td>...</td>\n",
       "      <td>-0.07</td>\n",
       "      <td>0.11</td>\n",
       "      <td>-0.09</td>\n",
       "      <td>-0.11</td>\n",
       "      <td>-0.13</td>\n",
       "      <td>-0.01</td>\n",
       "      <td>-0.08</td>\n",
       "      <td>-0.01</td>\n",
       "      <td>-0.07</td>\n",
       "      <td>0.09</td>\n",
       "    </tr>\n",
       "    <tr>\n",
       "      <th>9011</th>\n",
       "      <td>0.01</td>\n",
       "      <td>-0.02</td>\n",
       "      <td>-0.01</td>\n",
       "      <td>0.06</td>\n",
       "      <td>-0.13</td>\n",
       "      <td>0.04</td>\n",
       "      <td>0.12</td>\n",
       "      <td>-0.09</td>\n",
       "      <td>0.01</td>\n",
       "      <td>-0.06</td>\n",
       "      <td>...</td>\n",
       "      <td>-0.05</td>\n",
       "      <td>0.16</td>\n",
       "      <td>-0.05</td>\n",
       "      <td>0.02</td>\n",
       "      <td>-0.08</td>\n",
       "      <td>0.06</td>\n",
       "      <td>0.03</td>\n",
       "      <td>-0.06</td>\n",
       "      <td>-0.03</td>\n",
       "      <td>-0.04</td>\n",
       "    </tr>\n",
       "  </tbody>\n",
       "</table>\n",
       "<p>9012 rows × 300 columns</p>\n",
       "</div>"
      ],
      "text/plain": [
       "       0     1     2    3     4     5     6     7     8     9    ...   290  \\\n",
       "0    -0.07  0.01  0.08 0.01 -0.05  0.07  0.06 -0.01  0.05  0.11  ... -0.02   \n",
       "1    -0.04  0.08 -0.01 0.10 -0.07 -0.02  0.08 -0.07 -0.02  0.06  ... -0.16   \n",
       "2     0.02  0.03  0.04 0.12 -0.07  0.02  0.05 -0.09  0.05  0.05  ... -0.02   \n",
       "3     0.08  0.08  0.03 0.07 -0.11  0.12  0.04 -0.14  0.10  0.11  ... -0.06   \n",
       "4     0.01 -0.07  0.08 0.17 -0.07 -0.00 -0.02 -0.07  0.05  0.15  ... -0.05   \n",
       "...    ...   ...   ...  ...   ...   ...   ...   ...   ...   ...  ...   ...   \n",
       "9007  0.04  0.06 -0.03 0.11 -0.06 -0.03  0.10 -0.07  0.01 -0.01  ... -0.06   \n",
       "9008  0.01  0.07  0.04 0.08 -0.06  0.01  0.00 -0.08  0.08  0.08  ... -0.04   \n",
       "9009  0.07  0.00  0.02 0.08 -0.01 -0.02  0.02 -0.10  0.04  0.07  ... -0.06   \n",
       "9010 -0.03 -0.10 -0.01 0.16 -0.11  0.06  0.09  0.01  0.05 -0.05  ... -0.07   \n",
       "9011  0.01 -0.02 -0.01 0.06 -0.13  0.04  0.12 -0.09  0.01 -0.06  ... -0.05   \n",
       "\n",
       "       291   292   293   294   295   296   297   298   299  \n",
       "0     0.12 -0.12  0.00 -0.08  0.04 -0.15 -0.05 -0.00  0.02  \n",
       "1     0.11 -0.14 -0.05 -0.13 -0.05  0.11  0.02 -0.01 -0.01  \n",
       "2     0.08 -0.11  0.01 -0.02 -0.04 -0.00 -0.04  0.01 -0.04  \n",
       "3    -0.06 -0.08 -0.06 -0.05  0.10 -0.03  0.02 -0.02  0.12  \n",
       "4     0.17 -0.14  0.03 -0.10  0.01  0.02 -0.01 -0.02 -0.06  \n",
       "...    ...   ...   ...   ...   ...   ...   ...   ...   ...  \n",
       "9007  0.13 -0.16  0.05 -0.10  0.02  0.10 -0.07 -0.08 -0.00  \n",
       "9008  0.05 -0.09  0.04 -0.02  0.03 -0.03  0.00  0.05 -0.04  \n",
       "9009  0.06 -0.11 -0.03 -0.08 -0.03  0.04 -0.05  0.04 -0.03  \n",
       "9010  0.11 -0.09 -0.11 -0.13 -0.01 -0.08 -0.01 -0.07  0.09  \n",
       "9011  0.16 -0.05  0.02 -0.08  0.06  0.03 -0.06 -0.03 -0.04  \n",
       "\n",
       "[9012 rows x 300 columns]"
      ]
     },
     "execution_count": 72,
     "metadata": {},
     "output_type": "execute_result"
    }
   ],
   "source": [
    "w2v_x_train_df = pd.DataFrame(w2v_x_train)\n",
    "w2v_x_train_df"
   ]
  },
  {
   "cell_type": "code",
   "execution_count": 73,
   "id": "b9dd33ce",
   "metadata": {},
   "outputs": [],
   "source": [
    "w2v_y_train = train_wo_oov[distortion_list]"
   ]
  },
  {
   "cell_type": "code",
   "execution_count": 74,
   "id": "2ec04455",
   "metadata": {},
   "outputs": [],
   "source": [
    "w2v_y_train = w2v_y_train.reset_index().drop([\"index\"], axis=1)"
   ]
  },
  {
   "cell_type": "markdown",
   "id": "9afa1fbc",
   "metadata": {},
   "source": [
    "#### Teszthalmaz vektorizálása"
   ]
  },
  {
   "cell_type": "code",
   "execution_count": 75,
   "id": "4784f062",
   "metadata": {},
   "outputs": [],
   "source": [
    "w2v_x_test = []\n",
    "for thought in test['thought']:\n",
    "    thought_all_words = thought.split()\n",
    "    thought_vectorized = []\n",
    "    for thought_w in thought_all_words:\n",
    "        if thought_w in model:\n",
    "            thought_vectorized.append(model[thought_w])\n",
    "    thought_vectorized_mean = np.mean(thought_vectorized, axis=0)\n",
    "    w2v_x_test.append(thought_vectorized_mean)"
   ]
  },
  {
   "cell_type": "code",
   "execution_count": 76,
   "id": "556980ca",
   "metadata": {},
   "outputs": [
    {
     "data": {
      "text/html": [
       "<div>\n",
       "<style scoped>\n",
       "    .dataframe tbody tr th:only-of-type {\n",
       "        vertical-align: middle;\n",
       "    }\n",
       "\n",
       "    .dataframe tbody tr th {\n",
       "        vertical-align: top;\n",
       "    }\n",
       "\n",
       "    .dataframe thead th {\n",
       "        text-align: right;\n",
       "    }\n",
       "</style>\n",
       "<table border=\"1\" class=\"dataframe\">\n",
       "  <thead>\n",
       "    <tr style=\"text-align: right;\">\n",
       "      <th></th>\n",
       "      <th>0</th>\n",
       "      <th>1</th>\n",
       "      <th>2</th>\n",
       "      <th>3</th>\n",
       "      <th>4</th>\n",
       "      <th>5</th>\n",
       "      <th>6</th>\n",
       "      <th>7</th>\n",
       "      <th>8</th>\n",
       "      <th>9</th>\n",
       "      <th>...</th>\n",
       "      <th>290</th>\n",
       "      <th>291</th>\n",
       "      <th>292</th>\n",
       "      <th>293</th>\n",
       "      <th>294</th>\n",
       "      <th>295</th>\n",
       "      <th>296</th>\n",
       "      <th>297</th>\n",
       "      <th>298</th>\n",
       "      <th>299</th>\n",
       "    </tr>\n",
       "  </thead>\n",
       "  <tbody>\n",
       "    <tr>\n",
       "      <th>0</th>\n",
       "      <td>0.00</td>\n",
       "      <td>0.01</td>\n",
       "      <td>0.06</td>\n",
       "      <td>0.11</td>\n",
       "      <td>-0.04</td>\n",
       "      <td>0.03</td>\n",
       "      <td>0.05</td>\n",
       "      <td>-0.04</td>\n",
       "      <td>0.04</td>\n",
       "      <td>0.06</td>\n",
       "      <td>...</td>\n",
       "      <td>-0.08</td>\n",
       "      <td>0.12</td>\n",
       "      <td>-0.11</td>\n",
       "      <td>0.01</td>\n",
       "      <td>-0.06</td>\n",
       "      <td>0.04</td>\n",
       "      <td>0.00</td>\n",
       "      <td>-0.04</td>\n",
       "      <td>0.07</td>\n",
       "      <td>-0.01</td>\n",
       "    </tr>\n",
       "    <tr>\n",
       "      <th>1</th>\n",
       "      <td>0.08</td>\n",
       "      <td>0.01</td>\n",
       "      <td>0.03</td>\n",
       "      <td>0.10</td>\n",
       "      <td>-0.10</td>\n",
       "      <td>0.04</td>\n",
       "      <td>0.04</td>\n",
       "      <td>-0.06</td>\n",
       "      <td>0.05</td>\n",
       "      <td>0.08</td>\n",
       "      <td>...</td>\n",
       "      <td>0.03</td>\n",
       "      <td>0.13</td>\n",
       "      <td>-0.07</td>\n",
       "      <td>0.00</td>\n",
       "      <td>-0.07</td>\n",
       "      <td>-0.06</td>\n",
       "      <td>-0.11</td>\n",
       "      <td>0.01</td>\n",
       "      <td>-0.01</td>\n",
       "      <td>-0.02</td>\n",
       "    </tr>\n",
       "    <tr>\n",
       "      <th>2</th>\n",
       "      <td>0.02</td>\n",
       "      <td>-0.04</td>\n",
       "      <td>0.01</td>\n",
       "      <td>0.08</td>\n",
       "      <td>-0.06</td>\n",
       "      <td>0.05</td>\n",
       "      <td>0.00</td>\n",
       "      <td>-0.02</td>\n",
       "      <td>0.12</td>\n",
       "      <td>-0.04</td>\n",
       "      <td>...</td>\n",
       "      <td>0.06</td>\n",
       "      <td>0.11</td>\n",
       "      <td>-0.15</td>\n",
       "      <td>-0.04</td>\n",
       "      <td>-0.04</td>\n",
       "      <td>0.01</td>\n",
       "      <td>-0.05</td>\n",
       "      <td>-0.04</td>\n",
       "      <td>0.01</td>\n",
       "      <td>-0.06</td>\n",
       "    </tr>\n",
       "    <tr>\n",
       "      <th>3</th>\n",
       "      <td>-0.08</td>\n",
       "      <td>0.03</td>\n",
       "      <td>0.02</td>\n",
       "      <td>0.14</td>\n",
       "      <td>-0.05</td>\n",
       "      <td>0.03</td>\n",
       "      <td>-0.02</td>\n",
       "      <td>-0.03</td>\n",
       "      <td>0.06</td>\n",
       "      <td>0.10</td>\n",
       "      <td>...</td>\n",
       "      <td>-0.04</td>\n",
       "      <td>0.16</td>\n",
       "      <td>-0.13</td>\n",
       "      <td>0.07</td>\n",
       "      <td>-0.12</td>\n",
       "      <td>-0.01</td>\n",
       "      <td>-0.04</td>\n",
       "      <td>0.02</td>\n",
       "      <td>-0.04</td>\n",
       "      <td>0.03</td>\n",
       "    </tr>\n",
       "    <tr>\n",
       "      <th>4</th>\n",
       "      <td>0.03</td>\n",
       "      <td>-0.04</td>\n",
       "      <td>0.09</td>\n",
       "      <td>0.16</td>\n",
       "      <td>-0.09</td>\n",
       "      <td>0.07</td>\n",
       "      <td>0.04</td>\n",
       "      <td>-0.08</td>\n",
       "      <td>0.01</td>\n",
       "      <td>0.10</td>\n",
       "      <td>...</td>\n",
       "      <td>-0.05</td>\n",
       "      <td>0.17</td>\n",
       "      <td>-0.25</td>\n",
       "      <td>-0.02</td>\n",
       "      <td>-0.18</td>\n",
       "      <td>-0.09</td>\n",
       "      <td>-0.03</td>\n",
       "      <td>0.01</td>\n",
       "      <td>-0.06</td>\n",
       "      <td>-0.03</td>\n",
       "    </tr>\n",
       "    <tr>\n",
       "      <th>...</th>\n",
       "      <td>...</td>\n",
       "      <td>...</td>\n",
       "      <td>...</td>\n",
       "      <td>...</td>\n",
       "      <td>...</td>\n",
       "      <td>...</td>\n",
       "      <td>...</td>\n",
       "      <td>...</td>\n",
       "      <td>...</td>\n",
       "      <td>...</td>\n",
       "      <td>...</td>\n",
       "      <td>...</td>\n",
       "      <td>...</td>\n",
       "      <td>...</td>\n",
       "      <td>...</td>\n",
       "      <td>...</td>\n",
       "      <td>...</td>\n",
       "      <td>...</td>\n",
       "      <td>...</td>\n",
       "      <td>...</td>\n",
       "      <td>...</td>\n",
       "    </tr>\n",
       "    <tr>\n",
       "      <th>2249</th>\n",
       "      <td>-0.03</td>\n",
       "      <td>0.02</td>\n",
       "      <td>0.04</td>\n",
       "      <td>0.18</td>\n",
       "      <td>-0.09</td>\n",
       "      <td>0.07</td>\n",
       "      <td>0.08</td>\n",
       "      <td>-0.09</td>\n",
       "      <td>0.08</td>\n",
       "      <td>0.06</td>\n",
       "      <td>...</td>\n",
       "      <td>-0.00</td>\n",
       "      <td>0.12</td>\n",
       "      <td>-0.10</td>\n",
       "      <td>-0.00</td>\n",
       "      <td>-0.08</td>\n",
       "      <td>-0.05</td>\n",
       "      <td>-0.04</td>\n",
       "      <td>0.01</td>\n",
       "      <td>-0.00</td>\n",
       "      <td>0.08</td>\n",
       "    </tr>\n",
       "    <tr>\n",
       "      <th>2250</th>\n",
       "      <td>0.05</td>\n",
       "      <td>-0.00</td>\n",
       "      <td>0.00</td>\n",
       "      <td>0.09</td>\n",
       "      <td>-0.08</td>\n",
       "      <td>0.03</td>\n",
       "      <td>0.03</td>\n",
       "      <td>-0.04</td>\n",
       "      <td>0.06</td>\n",
       "      <td>0.09</td>\n",
       "      <td>...</td>\n",
       "      <td>-0.09</td>\n",
       "      <td>0.09</td>\n",
       "      <td>-0.07</td>\n",
       "      <td>0.03</td>\n",
       "      <td>-0.08</td>\n",
       "      <td>-0.02</td>\n",
       "      <td>-0.13</td>\n",
       "      <td>-0.05</td>\n",
       "      <td>0.01</td>\n",
       "      <td>-0.00</td>\n",
       "    </tr>\n",
       "    <tr>\n",
       "      <th>2251</th>\n",
       "      <td>-0.03</td>\n",
       "      <td>-0.01</td>\n",
       "      <td>-0.03</td>\n",
       "      <td>0.11</td>\n",
       "      <td>-0.04</td>\n",
       "      <td>0.10</td>\n",
       "      <td>0.04</td>\n",
       "      <td>-0.11</td>\n",
       "      <td>0.03</td>\n",
       "      <td>0.10</td>\n",
       "      <td>...</td>\n",
       "      <td>-0.03</td>\n",
       "      <td>0.05</td>\n",
       "      <td>-0.12</td>\n",
       "      <td>0.01</td>\n",
       "      <td>-0.01</td>\n",
       "      <td>0.01</td>\n",
       "      <td>-0.12</td>\n",
       "      <td>-0.14</td>\n",
       "      <td>0.08</td>\n",
       "      <td>-0.12</td>\n",
       "    </tr>\n",
       "    <tr>\n",
       "      <th>2252</th>\n",
       "      <td>0.03</td>\n",
       "      <td>0.08</td>\n",
       "      <td>0.04</td>\n",
       "      <td>0.08</td>\n",
       "      <td>-0.05</td>\n",
       "      <td>0.04</td>\n",
       "      <td>0.08</td>\n",
       "      <td>-0.06</td>\n",
       "      <td>-0.01</td>\n",
       "      <td>0.04</td>\n",
       "      <td>...</td>\n",
       "      <td>-0.08</td>\n",
       "      <td>0.08</td>\n",
       "      <td>-0.15</td>\n",
       "      <td>-0.08</td>\n",
       "      <td>-0.03</td>\n",
       "      <td>-0.03</td>\n",
       "      <td>-0.07</td>\n",
       "      <td>-0.09</td>\n",
       "      <td>0.01</td>\n",
       "      <td>-0.09</td>\n",
       "    </tr>\n",
       "    <tr>\n",
       "      <th>2253</th>\n",
       "      <td>0.04</td>\n",
       "      <td>-0.01</td>\n",
       "      <td>0.06</td>\n",
       "      <td>0.16</td>\n",
       "      <td>-0.12</td>\n",
       "      <td>0.02</td>\n",
       "      <td>0.07</td>\n",
       "      <td>-0.04</td>\n",
       "      <td>0.02</td>\n",
       "      <td>-0.01</td>\n",
       "      <td>...</td>\n",
       "      <td>0.01</td>\n",
       "      <td>0.12</td>\n",
       "      <td>-0.07</td>\n",
       "      <td>0.05</td>\n",
       "      <td>-0.05</td>\n",
       "      <td>0.00</td>\n",
       "      <td>-0.03</td>\n",
       "      <td>0.01</td>\n",
       "      <td>-0.04</td>\n",
       "      <td>-0.06</td>\n",
       "    </tr>\n",
       "  </tbody>\n",
       "</table>\n",
       "<p>2254 rows × 300 columns</p>\n",
       "</div>"
      ],
      "text/plain": [
       "       0     1     2    3     4    5     6     7     8     9    ...   290  \\\n",
       "0     0.00  0.01  0.06 0.11 -0.04 0.03  0.05 -0.04  0.04  0.06  ... -0.08   \n",
       "1     0.08  0.01  0.03 0.10 -0.10 0.04  0.04 -0.06  0.05  0.08  ...  0.03   \n",
       "2     0.02 -0.04  0.01 0.08 -0.06 0.05  0.00 -0.02  0.12 -0.04  ...  0.06   \n",
       "3    -0.08  0.03  0.02 0.14 -0.05 0.03 -0.02 -0.03  0.06  0.10  ... -0.04   \n",
       "4     0.03 -0.04  0.09 0.16 -0.09 0.07  0.04 -0.08  0.01  0.10  ... -0.05   \n",
       "...    ...   ...   ...  ...   ...  ...   ...   ...   ...   ...  ...   ...   \n",
       "2249 -0.03  0.02  0.04 0.18 -0.09 0.07  0.08 -0.09  0.08  0.06  ... -0.00   \n",
       "2250  0.05 -0.00  0.00 0.09 -0.08 0.03  0.03 -0.04  0.06  0.09  ... -0.09   \n",
       "2251 -0.03 -0.01 -0.03 0.11 -0.04 0.10  0.04 -0.11  0.03  0.10  ... -0.03   \n",
       "2252  0.03  0.08  0.04 0.08 -0.05 0.04  0.08 -0.06 -0.01  0.04  ... -0.08   \n",
       "2253  0.04 -0.01  0.06 0.16 -0.12 0.02  0.07 -0.04  0.02 -0.01  ...  0.01   \n",
       "\n",
       "      291   292   293   294   295   296   297   298   299  \n",
       "0    0.12 -0.11  0.01 -0.06  0.04  0.00 -0.04  0.07 -0.01  \n",
       "1    0.13 -0.07  0.00 -0.07 -0.06 -0.11  0.01 -0.01 -0.02  \n",
       "2    0.11 -0.15 -0.04 -0.04  0.01 -0.05 -0.04  0.01 -0.06  \n",
       "3    0.16 -0.13  0.07 -0.12 -0.01 -0.04  0.02 -0.04  0.03  \n",
       "4    0.17 -0.25 -0.02 -0.18 -0.09 -0.03  0.01 -0.06 -0.03  \n",
       "...   ...   ...   ...   ...   ...   ...   ...   ...   ...  \n",
       "2249 0.12 -0.10 -0.00 -0.08 -0.05 -0.04  0.01 -0.00  0.08  \n",
       "2250 0.09 -0.07  0.03 -0.08 -0.02 -0.13 -0.05  0.01 -0.00  \n",
       "2251 0.05 -0.12  0.01 -0.01  0.01 -0.12 -0.14  0.08 -0.12  \n",
       "2252 0.08 -0.15 -0.08 -0.03 -0.03 -0.07 -0.09  0.01 -0.09  \n",
       "2253 0.12 -0.07  0.05 -0.05  0.00 -0.03  0.01 -0.04 -0.06  \n",
       "\n",
       "[2254 rows x 300 columns]"
      ]
     },
     "execution_count": 76,
     "metadata": {},
     "output_type": "execute_result"
    }
   ],
   "source": [
    "w2v_x_test_df = pd.DataFrame(w2v_x_test)\n",
    "w2v_x_test_df"
   ]
  },
  {
   "cell_type": "code",
   "execution_count": 77,
   "id": "c2b31c98",
   "metadata": {},
   "outputs": [],
   "source": [
    "w2v_y_test = y_test.reset_index().drop([\"index\"], axis=1)"
   ]
  },
  {
   "cell_type": "markdown",
   "id": "ff25ddf2",
   "metadata": {},
   "source": [
    "## GloVe"
   ]
  },
  {
   "cell_type": "code",
   "execution_count": 78,
   "id": "a6dd0742",
   "metadata": {},
   "outputs": [],
   "source": [
    "from gensim.scripts.glove2word2vec import glove2word2vec"
   ]
  },
  {
   "cell_type": "code",
   "execution_count": 79,
   "id": "63bb6dff",
   "metadata": {},
   "outputs": [],
   "source": [
    "glove_input_file = './glove/glove.6B.300d.txt'"
   ]
  },
  {
   "cell_type": "code",
   "execution_count": 80,
   "id": "2956ac58",
   "metadata": {},
   "outputs": [
    {
     "data": {
      "text/plain": [
       "(400000, 300)"
      ]
     },
     "execution_count": 80,
     "metadata": {},
     "output_type": "execute_result"
    }
   ],
   "source": [
    "word2vec_output_file = 'word2vec.txt.word2vec'\n",
    "glove2word2vec(glove_input_file, word2vec_output_file)"
   ]
  },
  {
   "cell_type": "code",
   "execution_count": 81,
   "id": "872e0d63",
   "metadata": {},
   "outputs": [],
   "source": [
    "# load Stanford GloVe\n",
    "filename = 'word2vec.txt.word2vec'\n",
    "glove_model = KeyedVectors.load_word2vec_format(filename, binary=False)"
   ]
  },
  {
   "cell_type": "markdown",
   "id": "6a1a2aba",
   "metadata": {},
   "source": [
    "#### szótáron kívüli szavak kiszórása"
   ]
  },
  {
   "cell_type": "code",
   "execution_count": 82,
   "id": "b8b87a60",
   "metadata": {},
   "outputs": [
    {
     "name": "stdout",
     "output_type": "stream",
     "text": [
      "[]\n"
     ]
    }
   ],
   "source": [
    "out_of_vocab_glove = []\n",
    "for thought in bt_defined_data['thought']:\n",
    "    thought_all_words = thought.split()\n",
    "    thought_vectorized = []\n",
    "    for thought_w in thought_all_words:\n",
    "        if thought_w in glove_model:\n",
    "            thought_vectorized.append(glove_model[thought_w])\n",
    "    if not thought_vectorized:\n",
    "        print(\"found\")\n",
    "        out_of_vocab_glove.append(thought_w)\n",
    "print(out_of_vocab_glove)"
   ]
  },
  {
   "cell_type": "markdown",
   "id": "78c15edc",
   "metadata": {},
   "source": [
    "#### Tanuló halmaz vektorizálása"
   ]
  },
  {
   "cell_type": "code",
   "execution_count": 83,
   "id": "bd47aa22",
   "metadata": {},
   "outputs": [],
   "source": [
    "glove_x_train = []\n",
    "for thought in train['thought']:\n",
    "    thought_all_words = thought.split()\n",
    "    thought_vectorized = []\n",
    "    for thought_w in thought_all_words:\n",
    "        if thought_w in glove_model:\n",
    "            thought_vectorized.append(glove_model[thought_w])\n",
    "    thought_vectorized_mean = np.mean(thought_vectorized, axis=0)\n",
    "    glove_x_train.append(thought_vectorized_mean)"
   ]
  },
  {
   "cell_type": "code",
   "execution_count": 84,
   "id": "b4a8f68e",
   "metadata": {},
   "outputs": [
    {
     "data": {
      "text/html": [
       "<div>\n",
       "<style scoped>\n",
       "    .dataframe tbody tr th:only-of-type {\n",
       "        vertical-align: middle;\n",
       "    }\n",
       "\n",
       "    .dataframe tbody tr th {\n",
       "        vertical-align: top;\n",
       "    }\n",
       "\n",
       "    .dataframe thead th {\n",
       "        text-align: right;\n",
       "    }\n",
       "</style>\n",
       "<table border=\"1\" class=\"dataframe\">\n",
       "  <thead>\n",
       "    <tr style=\"text-align: right;\">\n",
       "      <th></th>\n",
       "      <th>0</th>\n",
       "      <th>1</th>\n",
       "      <th>2</th>\n",
       "      <th>3</th>\n",
       "      <th>4</th>\n",
       "      <th>5</th>\n",
       "      <th>6</th>\n",
       "      <th>7</th>\n",
       "      <th>8</th>\n",
       "      <th>9</th>\n",
       "      <th>...</th>\n",
       "      <th>290</th>\n",
       "      <th>291</th>\n",
       "      <th>292</th>\n",
       "      <th>293</th>\n",
       "      <th>294</th>\n",
       "      <th>295</th>\n",
       "      <th>296</th>\n",
       "      <th>297</th>\n",
       "      <th>298</th>\n",
       "      <th>299</th>\n",
       "    </tr>\n",
       "  </thead>\n",
       "  <tbody>\n",
       "    <tr>\n",
       "      <th>0</th>\n",
       "      <td>0.12</td>\n",
       "      <td>0.11</td>\n",
       "      <td>0.04</td>\n",
       "      <td>-0.11</td>\n",
       "      <td>-0.02</td>\n",
       "      <td>0.00</td>\n",
       "      <td>0.05</td>\n",
       "      <td>0.34</td>\n",
       "      <td>0.01</td>\n",
       "      <td>-1.69</td>\n",
       "      <td>...</td>\n",
       "      <td>0.09</td>\n",
       "      <td>-0.36</td>\n",
       "      <td>-0.02</td>\n",
       "      <td>-0.06</td>\n",
       "      <td>-0.00</td>\n",
       "      <td>-0.33</td>\n",
       "      <td>0.18</td>\n",
       "      <td>-0.18</td>\n",
       "      <td>0.09</td>\n",
       "      <td>0.20</td>\n",
       "    </tr>\n",
       "    <tr>\n",
       "      <th>1</th>\n",
       "      <td>-0.09</td>\n",
       "      <td>-0.04</td>\n",
       "      <td>-0.05</td>\n",
       "      <td>-0.16</td>\n",
       "      <td>0.08</td>\n",
       "      <td>-0.06</td>\n",
       "      <td>-0.15</td>\n",
       "      <td>0.04</td>\n",
       "      <td>0.08</td>\n",
       "      <td>-1.65</td>\n",
       "      <td>...</td>\n",
       "      <td>0.06</td>\n",
       "      <td>-0.24</td>\n",
       "      <td>-0.18</td>\n",
       "      <td>0.01</td>\n",
       "      <td>0.07</td>\n",
       "      <td>-0.32</td>\n",
       "      <td>0.14</td>\n",
       "      <td>-0.05</td>\n",
       "      <td>-0.20</td>\n",
       "      <td>0.33</td>\n",
       "    </tr>\n",
       "    <tr>\n",
       "      <th>2</th>\n",
       "      <td>-0.09</td>\n",
       "      <td>0.08</td>\n",
       "      <td>-0.12</td>\n",
       "      <td>-0.12</td>\n",
       "      <td>-0.05</td>\n",
       "      <td>0.08</td>\n",
       "      <td>-0.04</td>\n",
       "      <td>0.03</td>\n",
       "      <td>0.07</td>\n",
       "      <td>-1.56</td>\n",
       "      <td>...</td>\n",
       "      <td>0.06</td>\n",
       "      <td>-0.24</td>\n",
       "      <td>0.04</td>\n",
       "      <td>-0.01</td>\n",
       "      <td>0.13</td>\n",
       "      <td>-0.14</td>\n",
       "      <td>0.05</td>\n",
       "      <td>-0.24</td>\n",
       "      <td>-0.06</td>\n",
       "      <td>0.17</td>\n",
       "    </tr>\n",
       "    <tr>\n",
       "      <th>3</th>\n",
       "      <td>-0.29</td>\n",
       "      <td>0.09</td>\n",
       "      <td>0.03</td>\n",
       "      <td>-0.08</td>\n",
       "      <td>-0.05</td>\n",
       "      <td>-0.02</td>\n",
       "      <td>-0.10</td>\n",
       "      <td>-0.07</td>\n",
       "      <td>-0.07</td>\n",
       "      <td>-1.62</td>\n",
       "      <td>...</td>\n",
       "      <td>0.05</td>\n",
       "      <td>-0.15</td>\n",
       "      <td>-0.02</td>\n",
       "      <td>-0.14</td>\n",
       "      <td>-0.04</td>\n",
       "      <td>0.02</td>\n",
       "      <td>0.15</td>\n",
       "      <td>-0.01</td>\n",
       "      <td>-0.21</td>\n",
       "      <td>0.12</td>\n",
       "    </tr>\n",
       "    <tr>\n",
       "      <th>4</th>\n",
       "      <td>-0.14</td>\n",
       "      <td>-0.01</td>\n",
       "      <td>-0.09</td>\n",
       "      <td>-0.04</td>\n",
       "      <td>-0.10</td>\n",
       "      <td>-0.01</td>\n",
       "      <td>-0.08</td>\n",
       "      <td>-0.03</td>\n",
       "      <td>0.16</td>\n",
       "      <td>-1.69</td>\n",
       "      <td>...</td>\n",
       "      <td>0.17</td>\n",
       "      <td>-0.22</td>\n",
       "      <td>-0.15</td>\n",
       "      <td>0.09</td>\n",
       "      <td>0.14</td>\n",
       "      <td>-0.23</td>\n",
       "      <td>0.11</td>\n",
       "      <td>-0.09</td>\n",
       "      <td>-0.02</td>\n",
       "      <td>0.24</td>\n",
       "    </tr>\n",
       "    <tr>\n",
       "      <th>...</th>\n",
       "      <td>...</td>\n",
       "      <td>...</td>\n",
       "      <td>...</td>\n",
       "      <td>...</td>\n",
       "      <td>...</td>\n",
       "      <td>...</td>\n",
       "      <td>...</td>\n",
       "      <td>...</td>\n",
       "      <td>...</td>\n",
       "      <td>...</td>\n",
       "      <td>...</td>\n",
       "      <td>...</td>\n",
       "      <td>...</td>\n",
       "      <td>...</td>\n",
       "      <td>...</td>\n",
       "      <td>...</td>\n",
       "      <td>...</td>\n",
       "      <td>...</td>\n",
       "      <td>...</td>\n",
       "      <td>...</td>\n",
       "      <td>...</td>\n",
       "    </tr>\n",
       "    <tr>\n",
       "      <th>9009</th>\n",
       "      <td>-0.12</td>\n",
       "      <td>0.06</td>\n",
       "      <td>-0.03</td>\n",
       "      <td>-0.11</td>\n",
       "      <td>-0.05</td>\n",
       "      <td>-0.03</td>\n",
       "      <td>-0.12</td>\n",
       "      <td>-0.00</td>\n",
       "      <td>0.14</td>\n",
       "      <td>-1.82</td>\n",
       "      <td>...</td>\n",
       "      <td>-0.07</td>\n",
       "      <td>-0.16</td>\n",
       "      <td>-0.02</td>\n",
       "      <td>-0.01</td>\n",
       "      <td>0.18</td>\n",
       "      <td>-0.20</td>\n",
       "      <td>0.04</td>\n",
       "      <td>-0.04</td>\n",
       "      <td>-0.08</td>\n",
       "      <td>0.17</td>\n",
       "    </tr>\n",
       "    <tr>\n",
       "      <th>9010</th>\n",
       "      <td>-0.01</td>\n",
       "      <td>0.07</td>\n",
       "      <td>0.03</td>\n",
       "      <td>-0.15</td>\n",
       "      <td>0.01</td>\n",
       "      <td>0.09</td>\n",
       "      <td>-0.14</td>\n",
       "      <td>0.03</td>\n",
       "      <td>0.07</td>\n",
       "      <td>-1.70</td>\n",
       "      <td>...</td>\n",
       "      <td>-0.02</td>\n",
       "      <td>-0.25</td>\n",
       "      <td>-0.05</td>\n",
       "      <td>0.05</td>\n",
       "      <td>0.08</td>\n",
       "      <td>-0.01</td>\n",
       "      <td>0.09</td>\n",
       "      <td>-0.14</td>\n",
       "      <td>0.07</td>\n",
       "      <td>0.12</td>\n",
       "    </tr>\n",
       "    <tr>\n",
       "      <th>9011</th>\n",
       "      <td>-0.21</td>\n",
       "      <td>0.11</td>\n",
       "      <td>-0.10</td>\n",
       "      <td>-0.06</td>\n",
       "      <td>-0.10</td>\n",
       "      <td>-0.02</td>\n",
       "      <td>-0.08</td>\n",
       "      <td>-0.10</td>\n",
       "      <td>0.09</td>\n",
       "      <td>-1.50</td>\n",
       "      <td>...</td>\n",
       "      <td>-0.04</td>\n",
       "      <td>-0.16</td>\n",
       "      <td>-0.00</td>\n",
       "      <td>-0.05</td>\n",
       "      <td>0.10</td>\n",
       "      <td>-0.12</td>\n",
       "      <td>0.11</td>\n",
       "      <td>-0.14</td>\n",
       "      <td>-0.07</td>\n",
       "      <td>0.22</td>\n",
       "    </tr>\n",
       "    <tr>\n",
       "      <th>9012</th>\n",
       "      <td>-0.03</td>\n",
       "      <td>0.01</td>\n",
       "      <td>0.02</td>\n",
       "      <td>-0.07</td>\n",
       "      <td>-0.05</td>\n",
       "      <td>0.11</td>\n",
       "      <td>-0.00</td>\n",
       "      <td>0.02</td>\n",
       "      <td>-0.17</td>\n",
       "      <td>-1.25</td>\n",
       "      <td>...</td>\n",
       "      <td>-0.06</td>\n",
       "      <td>-0.37</td>\n",
       "      <td>-0.11</td>\n",
       "      <td>-0.24</td>\n",
       "      <td>0.04</td>\n",
       "      <td>-0.33</td>\n",
       "      <td>0.11</td>\n",
       "      <td>0.12</td>\n",
       "      <td>0.16</td>\n",
       "      <td>0.29</td>\n",
       "    </tr>\n",
       "    <tr>\n",
       "      <th>9013</th>\n",
       "      <td>-0.20</td>\n",
       "      <td>0.27</td>\n",
       "      <td>-0.12</td>\n",
       "      <td>-0.08</td>\n",
       "      <td>-0.01</td>\n",
       "      <td>0.15</td>\n",
       "      <td>0.15</td>\n",
       "      <td>0.06</td>\n",
       "      <td>0.10</td>\n",
       "      <td>-2.05</td>\n",
       "      <td>...</td>\n",
       "      <td>-0.04</td>\n",
       "      <td>-0.28</td>\n",
       "      <td>0.00</td>\n",
       "      <td>-0.16</td>\n",
       "      <td>0.12</td>\n",
       "      <td>-0.34</td>\n",
       "      <td>0.16</td>\n",
       "      <td>-0.38</td>\n",
       "      <td>0.07</td>\n",
       "      <td>0.14</td>\n",
       "    </tr>\n",
       "  </tbody>\n",
       "</table>\n",
       "<p>9014 rows × 300 columns</p>\n",
       "</div>"
      ],
      "text/plain": [
       "       0     1     2     3     4     5     6     7     8     9    ...   290  \\\n",
       "0     0.12  0.11  0.04 -0.11 -0.02  0.00  0.05  0.34  0.01 -1.69  ...  0.09   \n",
       "1    -0.09 -0.04 -0.05 -0.16  0.08 -0.06 -0.15  0.04  0.08 -1.65  ...  0.06   \n",
       "2    -0.09  0.08 -0.12 -0.12 -0.05  0.08 -0.04  0.03  0.07 -1.56  ...  0.06   \n",
       "3    -0.29  0.09  0.03 -0.08 -0.05 -0.02 -0.10 -0.07 -0.07 -1.62  ...  0.05   \n",
       "4    -0.14 -0.01 -0.09 -0.04 -0.10 -0.01 -0.08 -0.03  0.16 -1.69  ...  0.17   \n",
       "...    ...   ...   ...   ...   ...   ...   ...   ...   ...   ...  ...   ...   \n",
       "9009 -0.12  0.06 -0.03 -0.11 -0.05 -0.03 -0.12 -0.00  0.14 -1.82  ... -0.07   \n",
       "9010 -0.01  0.07  0.03 -0.15  0.01  0.09 -0.14  0.03  0.07 -1.70  ... -0.02   \n",
       "9011 -0.21  0.11 -0.10 -0.06 -0.10 -0.02 -0.08 -0.10  0.09 -1.50  ... -0.04   \n",
       "9012 -0.03  0.01  0.02 -0.07 -0.05  0.11 -0.00  0.02 -0.17 -1.25  ... -0.06   \n",
       "9013 -0.20  0.27 -0.12 -0.08 -0.01  0.15  0.15  0.06  0.10 -2.05  ... -0.04   \n",
       "\n",
       "       291   292   293   294   295  296   297   298  299  \n",
       "0    -0.36 -0.02 -0.06 -0.00 -0.33 0.18 -0.18  0.09 0.20  \n",
       "1    -0.24 -0.18  0.01  0.07 -0.32 0.14 -0.05 -0.20 0.33  \n",
       "2    -0.24  0.04 -0.01  0.13 -0.14 0.05 -0.24 -0.06 0.17  \n",
       "3    -0.15 -0.02 -0.14 -0.04  0.02 0.15 -0.01 -0.21 0.12  \n",
       "4    -0.22 -0.15  0.09  0.14 -0.23 0.11 -0.09 -0.02 0.24  \n",
       "...    ...   ...   ...   ...   ...  ...   ...   ...  ...  \n",
       "9009 -0.16 -0.02 -0.01  0.18 -0.20 0.04 -0.04 -0.08 0.17  \n",
       "9010 -0.25 -0.05  0.05  0.08 -0.01 0.09 -0.14  0.07 0.12  \n",
       "9011 -0.16 -0.00 -0.05  0.10 -0.12 0.11 -0.14 -0.07 0.22  \n",
       "9012 -0.37 -0.11 -0.24  0.04 -0.33 0.11  0.12  0.16 0.29  \n",
       "9013 -0.28  0.00 -0.16  0.12 -0.34 0.16 -0.38  0.07 0.14  \n",
       "\n",
       "[9014 rows x 300 columns]"
      ]
     },
     "execution_count": 84,
     "metadata": {},
     "output_type": "execute_result"
    }
   ],
   "source": [
    "glove_x_train_df = pd.DataFrame(glove_x_train)\n",
    "glove_x_train_df"
   ]
  },
  {
   "cell_type": "code",
   "execution_count": 85,
   "id": "692ed356",
   "metadata": {},
   "outputs": [],
   "source": [
    "glove_y_train = y_train.reset_index().drop([\"index\"], axis=1)"
   ]
  },
  {
   "cell_type": "markdown",
   "id": "b1487b8c",
   "metadata": {},
   "source": [
    "#### Teszt halmaz vektorizálása"
   ]
  },
  {
   "cell_type": "code",
   "execution_count": 86,
   "id": "0937b77b",
   "metadata": {},
   "outputs": [],
   "source": [
    "glove_x_test = []\n",
    "for thought in test['thought']:\n",
    "    thought_all_words = thought.split()\n",
    "    thought_vectorized = []\n",
    "    for thought_w in thought_all_words:\n",
    "        if thought_w in glove_model:\n",
    "            thought_vectorized.append(glove_model[thought_w])\n",
    "    thought_vectorized_mean = np.mean(thought_vectorized, axis=0)\n",
    "    glove_x_test.append(thought_vectorized_mean)"
   ]
  },
  {
   "cell_type": "code",
   "execution_count": 87,
   "id": "798f2d2f",
   "metadata": {},
   "outputs": [
    {
     "data": {
      "text/html": [
       "<div>\n",
       "<style scoped>\n",
       "    .dataframe tbody tr th:only-of-type {\n",
       "        vertical-align: middle;\n",
       "    }\n",
       "\n",
       "    .dataframe tbody tr th {\n",
       "        vertical-align: top;\n",
       "    }\n",
       "\n",
       "    .dataframe thead th {\n",
       "        text-align: right;\n",
       "    }\n",
       "</style>\n",
       "<table border=\"1\" class=\"dataframe\">\n",
       "  <thead>\n",
       "    <tr style=\"text-align: right;\">\n",
       "      <th></th>\n",
       "      <th>0</th>\n",
       "      <th>1</th>\n",
       "      <th>2</th>\n",
       "      <th>3</th>\n",
       "      <th>4</th>\n",
       "      <th>5</th>\n",
       "      <th>6</th>\n",
       "      <th>7</th>\n",
       "      <th>8</th>\n",
       "      <th>9</th>\n",
       "      <th>...</th>\n",
       "      <th>290</th>\n",
       "      <th>291</th>\n",
       "      <th>292</th>\n",
       "      <th>293</th>\n",
       "      <th>294</th>\n",
       "      <th>295</th>\n",
       "      <th>296</th>\n",
       "      <th>297</th>\n",
       "      <th>298</th>\n",
       "      <th>299</th>\n",
       "    </tr>\n",
       "  </thead>\n",
       "  <tbody>\n",
       "    <tr>\n",
       "      <th>0</th>\n",
       "      <td>-0.17</td>\n",
       "      <td>0.14</td>\n",
       "      <td>-0.12</td>\n",
       "      <td>-0.10</td>\n",
       "      <td>-0.02</td>\n",
       "      <td>-0.05</td>\n",
       "      <td>0.05</td>\n",
       "      <td>0.02</td>\n",
       "      <td>-0.04</td>\n",
       "      <td>-1.83</td>\n",
       "      <td>...</td>\n",
       "      <td>-0.02</td>\n",
       "      <td>-0.23</td>\n",
       "      <td>0.07</td>\n",
       "      <td>-0.06</td>\n",
       "      <td>0.18</td>\n",
       "      <td>-0.10</td>\n",
       "      <td>0.02</td>\n",
       "      <td>-0.20</td>\n",
       "      <td>-0.12</td>\n",
       "      <td>0.06</td>\n",
       "    </tr>\n",
       "    <tr>\n",
       "      <th>1</th>\n",
       "      <td>0.03</td>\n",
       "      <td>-0.02</td>\n",
       "      <td>0.07</td>\n",
       "      <td>-0.02</td>\n",
       "      <td>0.21</td>\n",
       "      <td>-0.16</td>\n",
       "      <td>0.11</td>\n",
       "      <td>0.08</td>\n",
       "      <td>0.10</td>\n",
       "      <td>-1.67</td>\n",
       "      <td>...</td>\n",
       "      <td>-0.06</td>\n",
       "      <td>-0.24</td>\n",
       "      <td>0.05</td>\n",
       "      <td>-0.21</td>\n",
       "      <td>0.19</td>\n",
       "      <td>-0.12</td>\n",
       "      <td>0.10</td>\n",
       "      <td>-0.34</td>\n",
       "      <td>0.01</td>\n",
       "      <td>0.10</td>\n",
       "    </tr>\n",
       "    <tr>\n",
       "      <th>2</th>\n",
       "      <td>-0.17</td>\n",
       "      <td>0.07</td>\n",
       "      <td>-0.09</td>\n",
       "      <td>-0.31</td>\n",
       "      <td>0.00</td>\n",
       "      <td>-0.08</td>\n",
       "      <td>-0.02</td>\n",
       "      <td>0.09</td>\n",
       "      <td>0.16</td>\n",
       "      <td>-1.67</td>\n",
       "      <td>...</td>\n",
       "      <td>0.06</td>\n",
       "      <td>-0.51</td>\n",
       "      <td>-0.03</td>\n",
       "      <td>-0.29</td>\n",
       "      <td>0.25</td>\n",
       "      <td>-0.06</td>\n",
       "      <td>0.09</td>\n",
       "      <td>-0.09</td>\n",
       "      <td>0.06</td>\n",
       "      <td>0.09</td>\n",
       "    </tr>\n",
       "    <tr>\n",
       "      <th>3</th>\n",
       "      <td>-0.04</td>\n",
       "      <td>0.10</td>\n",
       "      <td>0.03</td>\n",
       "      <td>0.00</td>\n",
       "      <td>0.07</td>\n",
       "      <td>-0.07</td>\n",
       "      <td>0.09</td>\n",
       "      <td>0.04</td>\n",
       "      <td>0.07</td>\n",
       "      <td>-1.73</td>\n",
       "      <td>...</td>\n",
       "      <td>-0.00</td>\n",
       "      <td>-0.20</td>\n",
       "      <td>0.04</td>\n",
       "      <td>0.02</td>\n",
       "      <td>0.16</td>\n",
       "      <td>-0.17</td>\n",
       "      <td>0.06</td>\n",
       "      <td>-0.35</td>\n",
       "      <td>-0.15</td>\n",
       "      <td>0.08</td>\n",
       "    </tr>\n",
       "    <tr>\n",
       "      <th>4</th>\n",
       "      <td>-0.12</td>\n",
       "      <td>0.03</td>\n",
       "      <td>-0.01</td>\n",
       "      <td>0.19</td>\n",
       "      <td>-0.22</td>\n",
       "      <td>0.05</td>\n",
       "      <td>-0.09</td>\n",
       "      <td>0.03</td>\n",
       "      <td>-0.09</td>\n",
       "      <td>-1.34</td>\n",
       "      <td>...</td>\n",
       "      <td>-0.02</td>\n",
       "      <td>-0.24</td>\n",
       "      <td>-0.14</td>\n",
       "      <td>-0.17</td>\n",
       "      <td>0.02</td>\n",
       "      <td>-0.66</td>\n",
       "      <td>0.23</td>\n",
       "      <td>0.08</td>\n",
       "      <td>-0.10</td>\n",
       "      <td>0.36</td>\n",
       "    </tr>\n",
       "    <tr>\n",
       "      <th>...</th>\n",
       "      <td>...</td>\n",
       "      <td>...</td>\n",
       "      <td>...</td>\n",
       "      <td>...</td>\n",
       "      <td>...</td>\n",
       "      <td>...</td>\n",
       "      <td>...</td>\n",
       "      <td>...</td>\n",
       "      <td>...</td>\n",
       "      <td>...</td>\n",
       "      <td>...</td>\n",
       "      <td>...</td>\n",
       "      <td>...</td>\n",
       "      <td>...</td>\n",
       "      <td>...</td>\n",
       "      <td>...</td>\n",
       "      <td>...</td>\n",
       "      <td>...</td>\n",
       "      <td>...</td>\n",
       "      <td>...</td>\n",
       "      <td>...</td>\n",
       "    </tr>\n",
       "    <tr>\n",
       "      <th>2249</th>\n",
       "      <td>0.06</td>\n",
       "      <td>-0.01</td>\n",
       "      <td>0.14</td>\n",
       "      <td>-0.19</td>\n",
       "      <td>0.17</td>\n",
       "      <td>-0.09</td>\n",
       "      <td>0.08</td>\n",
       "      <td>0.19</td>\n",
       "      <td>0.10</td>\n",
       "      <td>-2.06</td>\n",
       "      <td>...</td>\n",
       "      <td>0.04</td>\n",
       "      <td>-0.29</td>\n",
       "      <td>-0.06</td>\n",
       "      <td>-0.04</td>\n",
       "      <td>0.23</td>\n",
       "      <td>-0.28</td>\n",
       "      <td>0.10</td>\n",
       "      <td>-0.12</td>\n",
       "      <td>0.17</td>\n",
       "      <td>0.41</td>\n",
       "    </tr>\n",
       "    <tr>\n",
       "      <th>2250</th>\n",
       "      <td>-0.18</td>\n",
       "      <td>0.06</td>\n",
       "      <td>-0.04</td>\n",
       "      <td>-0.08</td>\n",
       "      <td>-0.06</td>\n",
       "      <td>0.05</td>\n",
       "      <td>-0.03</td>\n",
       "      <td>-0.03</td>\n",
       "      <td>-0.01</td>\n",
       "      <td>-1.50</td>\n",
       "      <td>...</td>\n",
       "      <td>-0.01</td>\n",
       "      <td>-0.21</td>\n",
       "      <td>0.02</td>\n",
       "      <td>0.09</td>\n",
       "      <td>0.21</td>\n",
       "      <td>-0.18</td>\n",
       "      <td>0.05</td>\n",
       "      <td>-0.20</td>\n",
       "      <td>-0.06</td>\n",
       "      <td>0.12</td>\n",
       "    </tr>\n",
       "    <tr>\n",
       "      <th>2251</th>\n",
       "      <td>-0.21</td>\n",
       "      <td>0.09</td>\n",
       "      <td>-0.13</td>\n",
       "      <td>-0.22</td>\n",
       "      <td>0.11</td>\n",
       "      <td>0.11</td>\n",
       "      <td>0.09</td>\n",
       "      <td>-0.03</td>\n",
       "      <td>0.03</td>\n",
       "      <td>-1.59</td>\n",
       "      <td>...</td>\n",
       "      <td>0.16</td>\n",
       "      <td>-0.20</td>\n",
       "      <td>0.16</td>\n",
       "      <td>-0.05</td>\n",
       "      <td>0.02</td>\n",
       "      <td>-0.10</td>\n",
       "      <td>0.08</td>\n",
       "      <td>-0.32</td>\n",
       "      <td>-0.05</td>\n",
       "      <td>0.16</td>\n",
       "    </tr>\n",
       "    <tr>\n",
       "      <th>2252</th>\n",
       "      <td>-0.02</td>\n",
       "      <td>0.12</td>\n",
       "      <td>-0.19</td>\n",
       "      <td>-0.15</td>\n",
       "      <td>-0.01</td>\n",
       "      <td>0.13</td>\n",
       "      <td>0.03</td>\n",
       "      <td>0.08</td>\n",
       "      <td>-0.00</td>\n",
       "      <td>-1.43</td>\n",
       "      <td>...</td>\n",
       "      <td>-0.08</td>\n",
       "      <td>-0.26</td>\n",
       "      <td>-0.01</td>\n",
       "      <td>-0.16</td>\n",
       "      <td>0.13</td>\n",
       "      <td>0.03</td>\n",
       "      <td>-0.10</td>\n",
       "      <td>-0.28</td>\n",
       "      <td>-0.06</td>\n",
       "      <td>-0.14</td>\n",
       "    </tr>\n",
       "    <tr>\n",
       "      <th>2253</th>\n",
       "      <td>-0.17</td>\n",
       "      <td>0.27</td>\n",
       "      <td>-0.15</td>\n",
       "      <td>-0.07</td>\n",
       "      <td>0.03</td>\n",
       "      <td>0.08</td>\n",
       "      <td>0.02</td>\n",
       "      <td>-0.03</td>\n",
       "      <td>0.14</td>\n",
       "      <td>-2.09</td>\n",
       "      <td>...</td>\n",
       "      <td>-0.05</td>\n",
       "      <td>-0.31</td>\n",
       "      <td>-0.00</td>\n",
       "      <td>0.03</td>\n",
       "      <td>0.18</td>\n",
       "      <td>-0.16</td>\n",
       "      <td>0.05</td>\n",
       "      <td>-0.44</td>\n",
       "      <td>-0.07</td>\n",
       "      <td>0.13</td>\n",
       "    </tr>\n",
       "  </tbody>\n",
       "</table>\n",
       "<p>2254 rows × 300 columns</p>\n",
       "</div>"
      ],
      "text/plain": [
       "       0     1     2     3     4     5     6     7     8     9    ...   290  \\\n",
       "0    -0.17  0.14 -0.12 -0.10 -0.02 -0.05  0.05  0.02 -0.04 -1.83  ... -0.02   \n",
       "1     0.03 -0.02  0.07 -0.02  0.21 -0.16  0.11  0.08  0.10 -1.67  ... -0.06   \n",
       "2    -0.17  0.07 -0.09 -0.31  0.00 -0.08 -0.02  0.09  0.16 -1.67  ...  0.06   \n",
       "3    -0.04  0.10  0.03  0.00  0.07 -0.07  0.09  0.04  0.07 -1.73  ... -0.00   \n",
       "4    -0.12  0.03 -0.01  0.19 -0.22  0.05 -0.09  0.03 -0.09 -1.34  ... -0.02   \n",
       "...    ...   ...   ...   ...   ...   ...   ...   ...   ...   ...  ...   ...   \n",
       "2249  0.06 -0.01  0.14 -0.19  0.17 -0.09  0.08  0.19  0.10 -2.06  ...  0.04   \n",
       "2250 -0.18  0.06 -0.04 -0.08 -0.06  0.05 -0.03 -0.03 -0.01 -1.50  ... -0.01   \n",
       "2251 -0.21  0.09 -0.13 -0.22  0.11  0.11  0.09 -0.03  0.03 -1.59  ...  0.16   \n",
       "2252 -0.02  0.12 -0.19 -0.15 -0.01  0.13  0.03  0.08 -0.00 -1.43  ... -0.08   \n",
       "2253 -0.17  0.27 -0.15 -0.07  0.03  0.08  0.02 -0.03  0.14 -2.09  ... -0.05   \n",
       "\n",
       "       291   292   293  294   295   296   297   298   299  \n",
       "0    -0.23  0.07 -0.06 0.18 -0.10  0.02 -0.20 -0.12  0.06  \n",
       "1    -0.24  0.05 -0.21 0.19 -0.12  0.10 -0.34  0.01  0.10  \n",
       "2    -0.51 -0.03 -0.29 0.25 -0.06  0.09 -0.09  0.06  0.09  \n",
       "3    -0.20  0.04  0.02 0.16 -0.17  0.06 -0.35 -0.15  0.08  \n",
       "4    -0.24 -0.14 -0.17 0.02 -0.66  0.23  0.08 -0.10  0.36  \n",
       "...    ...   ...   ...  ...   ...   ...   ...   ...   ...  \n",
       "2249 -0.29 -0.06 -0.04 0.23 -0.28  0.10 -0.12  0.17  0.41  \n",
       "2250 -0.21  0.02  0.09 0.21 -0.18  0.05 -0.20 -0.06  0.12  \n",
       "2251 -0.20  0.16 -0.05 0.02 -0.10  0.08 -0.32 -0.05  0.16  \n",
       "2252 -0.26 -0.01 -0.16 0.13  0.03 -0.10 -0.28 -0.06 -0.14  \n",
       "2253 -0.31 -0.00  0.03 0.18 -0.16  0.05 -0.44 -0.07  0.13  \n",
       "\n",
       "[2254 rows x 300 columns]"
      ]
     },
     "execution_count": 87,
     "metadata": {},
     "output_type": "execute_result"
    }
   ],
   "source": [
    "glove_x_test_df = pd.DataFrame(glove_x_test)\n",
    "glove_x_test_df"
   ]
  },
  {
   "cell_type": "code",
   "execution_count": 88,
   "id": "324ca97b",
   "metadata": {},
   "outputs": [],
   "source": [
    "glove_y_test = y_test.reset_index().drop([\"index\"], axis=1)"
   ]
  },
  {
   "cell_type": "markdown",
   "id": "de4d3ed4",
   "metadata": {},
   "source": [
    "# Baseline számítás"
   ]
  },
  {
   "cell_type": "code",
   "execution_count": 89,
   "id": "3bb6842d",
   "metadata": {},
   "outputs": [],
   "source": [
    "from sklearn.metrics import classification_report, hamming_loss, f1_score"
   ]
  },
  {
   "cell_type": "code",
   "execution_count": 97,
   "id": "ea2aea40",
   "metadata": {},
   "outputs": [],
   "source": [
    "def F1Measure(y_true, y_pred):\n",
    "    temp = 0\n",
    "    for i in range(y_true.shape[0]):\n",
    "        if (sum(y_true[i]) == 0) and (sum(y_pred[i]) == 0):\n",
    "            continue\n",
    "        temp+= (2*sum(np.logical_and(y_true[i], y_pred[i])))/ (sum(y_true[i])+sum(y_pred[i]))\n",
    "    return temp/ y_true.shape[0]"
   ]
  },
  {
   "cell_type": "code",
   "execution_count": 94,
   "id": "1615f77a",
   "metadata": {},
   "outputs": [
    {
     "data": {
      "text/html": [
       "<div>\n",
       "<style scoped>\n",
       "    .dataframe tbody tr th:only-of-type {\n",
       "        vertical-align: middle;\n",
       "    }\n",
       "\n",
       "    .dataframe tbody tr th {\n",
       "        vertical-align: top;\n",
       "    }\n",
       "\n",
       "    .dataframe thead th {\n",
       "        text-align: right;\n",
       "    }\n",
       "</style>\n",
       "<table border=\"1\" class=\"dataframe\">\n",
       "  <thead>\n",
       "    <tr style=\"text-align: right;\">\n",
       "      <th></th>\n",
       "      <th>distortion0</th>\n",
       "      <th>distortion1</th>\n",
       "      <th>distortion2</th>\n",
       "      <th>distortion3</th>\n",
       "      <th>distortion4</th>\n",
       "      <th>distortion5</th>\n",
       "      <th>distortion6</th>\n",
       "      <th>distortion7</th>\n",
       "      <th>distortion8</th>\n",
       "      <th>distortion9</th>\n",
       "      <th>distortion10</th>\n",
       "    </tr>\n",
       "  </thead>\n",
       "  <tbody>\n",
       "    <tr>\n",
       "      <th>11993</th>\n",
       "      <td>1</td>\n",
       "      <td>1</td>\n",
       "      <td>1</td>\n",
       "      <td>1</td>\n",
       "      <td>0</td>\n",
       "      <td>0</td>\n",
       "      <td>1</td>\n",
       "      <td>1</td>\n",
       "      <td>1</td>\n",
       "      <td>1</td>\n",
       "      <td>1</td>\n",
       "    </tr>\n",
       "    <tr>\n",
       "      <th>7769</th>\n",
       "      <td>0</td>\n",
       "      <td>1</td>\n",
       "      <td>0</td>\n",
       "      <td>0</td>\n",
       "      <td>0</td>\n",
       "      <td>0</td>\n",
       "      <td>0</td>\n",
       "      <td>0</td>\n",
       "      <td>0</td>\n",
       "      <td>0</td>\n",
       "      <td>0</td>\n",
       "    </tr>\n",
       "    <tr>\n",
       "      <th>13150</th>\n",
       "      <td>1</td>\n",
       "      <td>1</td>\n",
       "      <td>1</td>\n",
       "      <td>1</td>\n",
       "      <td>1</td>\n",
       "      <td>0</td>\n",
       "      <td>0</td>\n",
       "      <td>1</td>\n",
       "      <td>0</td>\n",
       "      <td>1</td>\n",
       "      <td>1</td>\n",
       "    </tr>\n",
       "    <tr>\n",
       "      <th>10400</th>\n",
       "      <td>1</td>\n",
       "      <td>0</td>\n",
       "      <td>0</td>\n",
       "      <td>0</td>\n",
       "      <td>0</td>\n",
       "      <td>0</td>\n",
       "      <td>0</td>\n",
       "      <td>1</td>\n",
       "      <td>0</td>\n",
       "      <td>0</td>\n",
       "      <td>0</td>\n",
       "    </tr>\n",
       "    <tr>\n",
       "      <th>5281</th>\n",
       "      <td>0</td>\n",
       "      <td>1</td>\n",
       "      <td>0</td>\n",
       "      <td>0</td>\n",
       "      <td>0</td>\n",
       "      <td>0</td>\n",
       "      <td>0</td>\n",
       "      <td>1</td>\n",
       "      <td>1</td>\n",
       "      <td>0</td>\n",
       "      <td>0</td>\n",
       "    </tr>\n",
       "    <tr>\n",
       "      <th>...</th>\n",
       "      <td>...</td>\n",
       "      <td>...</td>\n",
       "      <td>...</td>\n",
       "      <td>...</td>\n",
       "      <td>...</td>\n",
       "      <td>...</td>\n",
       "      <td>...</td>\n",
       "      <td>...</td>\n",
       "      <td>...</td>\n",
       "      <td>...</td>\n",
       "      <td>...</td>\n",
       "    </tr>\n",
       "    <tr>\n",
       "      <th>11816</th>\n",
       "      <td>0</td>\n",
       "      <td>0</td>\n",
       "      <td>1</td>\n",
       "      <td>0</td>\n",
       "      <td>0</td>\n",
       "      <td>0</td>\n",
       "      <td>0</td>\n",
       "      <td>1</td>\n",
       "      <td>0</td>\n",
       "      <td>0</td>\n",
       "      <td>0</td>\n",
       "    </tr>\n",
       "    <tr>\n",
       "      <th>2398</th>\n",
       "      <td>0</td>\n",
       "      <td>1</td>\n",
       "      <td>0</td>\n",
       "      <td>0</td>\n",
       "      <td>0</td>\n",
       "      <td>0</td>\n",
       "      <td>1</td>\n",
       "      <td>0</td>\n",
       "      <td>1</td>\n",
       "      <td>0</td>\n",
       "      <td>0</td>\n",
       "    </tr>\n",
       "    <tr>\n",
       "      <th>7583</th>\n",
       "      <td>1</td>\n",
       "      <td>1</td>\n",
       "      <td>1</td>\n",
       "      <td>1</td>\n",
       "      <td>1</td>\n",
       "      <td>0</td>\n",
       "      <td>0</td>\n",
       "      <td>0</td>\n",
       "      <td>1</td>\n",
       "      <td>1</td>\n",
       "      <td>1</td>\n",
       "    </tr>\n",
       "    <tr>\n",
       "      <th>11355</th>\n",
       "      <td>1</td>\n",
       "      <td>1</td>\n",
       "      <td>0</td>\n",
       "      <td>1</td>\n",
       "      <td>1</td>\n",
       "      <td>0</td>\n",
       "      <td>0</td>\n",
       "      <td>0</td>\n",
       "      <td>1</td>\n",
       "      <td>1</td>\n",
       "      <td>0</td>\n",
       "    </tr>\n",
       "    <tr>\n",
       "      <th>11014</th>\n",
       "      <td>1</td>\n",
       "      <td>1</td>\n",
       "      <td>1</td>\n",
       "      <td>0</td>\n",
       "      <td>0</td>\n",
       "      <td>0</td>\n",
       "      <td>0</td>\n",
       "      <td>0</td>\n",
       "      <td>0</td>\n",
       "      <td>1</td>\n",
       "      <td>0</td>\n",
       "    </tr>\n",
       "  </tbody>\n",
       "</table>\n",
       "<p>2254 rows × 11 columns</p>\n",
       "</div>"
      ],
      "text/plain": [
       "       distortion0  distortion1  distortion2  distortion3  distortion4  \\\n",
       "11993            1            1            1            1            0   \n",
       "7769             0            1            0            0            0   \n",
       "13150            1            1            1            1            1   \n",
       "10400            1            0            0            0            0   \n",
       "5281             0            1            0            0            0   \n",
       "...            ...          ...          ...          ...          ...   \n",
       "11816            0            0            1            0            0   \n",
       "2398             0            1            0            0            0   \n",
       "7583             1            1            1            1            1   \n",
       "11355            1            1            0            1            1   \n",
       "11014            1            1            1            0            0   \n",
       "\n",
       "       distortion5  distortion6  distortion7  distortion8  distortion9  \\\n",
       "11993            0            1            1            1            1   \n",
       "7769             0            0            0            0            0   \n",
       "13150            0            0            1            0            1   \n",
       "10400            0            0            1            0            0   \n",
       "5281             0            0            1            1            0   \n",
       "...            ...          ...          ...          ...          ...   \n",
       "11816            0            0            1            0            0   \n",
       "2398             0            1            0            1            0   \n",
       "7583             0            0            0            1            1   \n",
       "11355            0            0            0            1            1   \n",
       "11014            0            0            0            0            1   \n",
       "\n",
       "       distortion10  \n",
       "11993             1  \n",
       "7769              0  \n",
       "13150             1  \n",
       "10400             0  \n",
       "5281              0  \n",
       "...             ...  \n",
       "11816             0  \n",
       "2398              0  \n",
       "7583              1  \n",
       "11355             0  \n",
       "11014             0  \n",
       "\n",
       "[2254 rows x 11 columns]"
      ]
     },
     "execution_count": 94,
     "metadata": {},
     "output_type": "execute_result"
    }
   ],
   "source": [
    "y_test"
   ]
  },
  {
   "cell_type": "code",
   "execution_count": 99,
   "id": "aac60a1a",
   "metadata": {},
   "outputs": [],
   "source": [
    "random_basline_df = pd.DataFrame(np.random.randint(0,2,size=(2254, 11)), columns=distortion_list)"
   ]
  },
  {
   "cell_type": "code",
   "execution_count": 100,
   "id": "f28f0d1b",
   "metadata": {},
   "outputs": [
    {
     "name": "stdout",
     "output_type": "stream",
     "text": [
      "              precision    recall  f1-score   support\n",
      "\n",
      " distortion0       0.48      0.49      0.48      1090\n",
      " distortion1       0.79      0.50      0.61      1773\n",
      " distortion2       0.29      0.50      0.37       647\n",
      " distortion3       0.40      0.49      0.44       938\n",
      " distortion4       0.31      0.52      0.39       683\n",
      " distortion5       0.18      0.51      0.27       401\n",
      " distortion6       0.35      0.54      0.43       738\n",
      " distortion7       0.32      0.49      0.39       726\n",
      " distortion8       0.41      0.50      0.45       915\n",
      " distortion9       0.49      0.49      0.49      1119\n",
      "distortion10       0.45      0.47      0.46      1042\n",
      "\n",
      "   micro avg       0.41      0.50      0.45     10072\n",
      "   macro avg       0.41      0.50      0.43     10072\n",
      "weighted avg       0.46      0.50      0.46     10072\n",
      " samples avg       0.40      0.47      0.40     10072\n",
      "\n"
     ]
    }
   ],
   "source": [
    "print(classification_report(y_test,random_basline_df,target_names = distortion_list))"
   ]
  },
  {
   "cell_type": "code",
   "execution_count": 101,
   "id": "4e474e95",
   "metadata": {},
   "outputs": [
    {
     "data": {
      "text/plain": [
       "0.49963700895377916"
      ]
     },
     "execution_count": 101,
     "metadata": {},
     "output_type": "execute_result"
    }
   ],
   "source": [
    "hamming_loss(y_test,random_basline_df)"
   ]
  },
  {
   "cell_type": "code",
   "execution_count": 102,
   "id": "e6e2cc5a",
   "metadata": {},
   "outputs": [
    {
     "data": {
      "text/plain": [
       "0.39735120384746375"
      ]
     },
     "execution_count": 102,
     "metadata": {},
     "output_type": "execute_result"
    }
   ],
   "source": [
    "F1Measure(np.array(y_test),np.array(random_basline_df))"
   ]
  },
  {
   "cell_type": "code",
   "execution_count": 103,
   "id": "fed1f0fc",
   "metadata": {},
   "outputs": [],
   "source": [
    "always_positive_basline_df = pd.DataFrame(np.random.randint(1,2,size=(2254, 11)), columns=distortion_list)"
   ]
  },
  {
   "cell_type": "code",
   "execution_count": 104,
   "id": "78acf60e",
   "metadata": {},
   "outputs": [
    {
     "name": "stdout",
     "output_type": "stream",
     "text": [
      "              precision    recall  f1-score   support\n",
      "\n",
      " distortion0       0.48      1.00      0.65      1090\n",
      " distortion1       0.79      1.00      0.88      1773\n",
      " distortion2       0.29      1.00      0.45       647\n",
      " distortion3       0.42      1.00      0.59       938\n",
      " distortion4       0.30      1.00      0.47       683\n",
      " distortion5       0.18      1.00      0.30       401\n",
      " distortion6       0.33      1.00      0.49       738\n",
      " distortion7       0.32      1.00      0.49       726\n",
      " distortion8       0.41      1.00      0.58       915\n",
      " distortion9       0.50      1.00      0.66      1119\n",
      "distortion10       0.46      1.00      0.63      1042\n",
      "\n",
      "   micro avg       0.41      1.00      0.58     10072\n",
      "   macro avg       0.41      1.00      0.56     10072\n",
      "weighted avg       0.46      1.00      0.62     10072\n",
      " samples avg       0.41      0.94      0.54     10072\n",
      "\n"
     ]
    }
   ],
   "source": [
    "print(classification_report(y_test,always_positive_basline_df,target_names = distortion_list))"
   ]
  },
  {
   "cell_type": "code",
   "execution_count": 304,
   "id": "2f7bdc8c",
   "metadata": {},
   "outputs": [
    {
     "data": {
      "text/html": [
       "<div>\n",
       "<style scoped>\n",
       "    .dataframe tbody tr th:only-of-type {\n",
       "        vertical-align: middle;\n",
       "    }\n",
       "\n",
       "    .dataframe tbody tr th {\n",
       "        vertical-align: top;\n",
       "    }\n",
       "\n",
       "    .dataframe thead th {\n",
       "        text-align: right;\n",
       "    }\n",
       "</style>\n",
       "<table border=\"1\" class=\"dataframe\">\n",
       "  <thead>\n",
       "    <tr style=\"text-align: right;\">\n",
       "      <th></th>\n",
       "      <th>distortion0</th>\n",
       "      <th>distortion2</th>\n",
       "      <th>distortion3</th>\n",
       "      <th>distortion4</th>\n",
       "      <th>distortion5</th>\n",
       "      <th>distortion6</th>\n",
       "      <th>distortion7</th>\n",
       "      <th>distortion8</th>\n",
       "      <th>distortion9</th>\n",
       "      <th>distortion10</th>\n",
       "    </tr>\n",
       "  </thead>\n",
       "  <tbody>\n",
       "    <tr>\n",
       "      <th>11993</th>\n",
       "      <td>1</td>\n",
       "      <td>1</td>\n",
       "      <td>1</td>\n",
       "      <td>0</td>\n",
       "      <td>0</td>\n",
       "      <td>1</td>\n",
       "      <td>1</td>\n",
       "      <td>1</td>\n",
       "      <td>1</td>\n",
       "      <td>1</td>\n",
       "    </tr>\n",
       "    <tr>\n",
       "      <th>7769</th>\n",
       "      <td>0</td>\n",
       "      <td>0</td>\n",
       "      <td>0</td>\n",
       "      <td>0</td>\n",
       "      <td>0</td>\n",
       "      <td>0</td>\n",
       "      <td>0</td>\n",
       "      <td>0</td>\n",
       "      <td>0</td>\n",
       "      <td>0</td>\n",
       "    </tr>\n",
       "    <tr>\n",
       "      <th>13150</th>\n",
       "      <td>1</td>\n",
       "      <td>1</td>\n",
       "      <td>1</td>\n",
       "      <td>1</td>\n",
       "      <td>0</td>\n",
       "      <td>0</td>\n",
       "      <td>1</td>\n",
       "      <td>0</td>\n",
       "      <td>1</td>\n",
       "      <td>1</td>\n",
       "    </tr>\n",
       "    <tr>\n",
       "      <th>10400</th>\n",
       "      <td>1</td>\n",
       "      <td>0</td>\n",
       "      <td>0</td>\n",
       "      <td>0</td>\n",
       "      <td>0</td>\n",
       "      <td>0</td>\n",
       "      <td>1</td>\n",
       "      <td>0</td>\n",
       "      <td>0</td>\n",
       "      <td>0</td>\n",
       "    </tr>\n",
       "    <tr>\n",
       "      <th>5281</th>\n",
       "      <td>0</td>\n",
       "      <td>0</td>\n",
       "      <td>0</td>\n",
       "      <td>0</td>\n",
       "      <td>0</td>\n",
       "      <td>0</td>\n",
       "      <td>1</td>\n",
       "      <td>1</td>\n",
       "      <td>0</td>\n",
       "      <td>0</td>\n",
       "    </tr>\n",
       "    <tr>\n",
       "      <th>...</th>\n",
       "      <td>...</td>\n",
       "      <td>...</td>\n",
       "      <td>...</td>\n",
       "      <td>...</td>\n",
       "      <td>...</td>\n",
       "      <td>...</td>\n",
       "      <td>...</td>\n",
       "      <td>...</td>\n",
       "      <td>...</td>\n",
       "      <td>...</td>\n",
       "    </tr>\n",
       "    <tr>\n",
       "      <th>11816</th>\n",
       "      <td>0</td>\n",
       "      <td>1</td>\n",
       "      <td>0</td>\n",
       "      <td>0</td>\n",
       "      <td>0</td>\n",
       "      <td>0</td>\n",
       "      <td>1</td>\n",
       "      <td>0</td>\n",
       "      <td>0</td>\n",
       "      <td>0</td>\n",
       "    </tr>\n",
       "    <tr>\n",
       "      <th>2398</th>\n",
       "      <td>0</td>\n",
       "      <td>0</td>\n",
       "      <td>0</td>\n",
       "      <td>0</td>\n",
       "      <td>0</td>\n",
       "      <td>1</td>\n",
       "      <td>0</td>\n",
       "      <td>1</td>\n",
       "      <td>0</td>\n",
       "      <td>0</td>\n",
       "    </tr>\n",
       "    <tr>\n",
       "      <th>7583</th>\n",
       "      <td>1</td>\n",
       "      <td>1</td>\n",
       "      <td>1</td>\n",
       "      <td>1</td>\n",
       "      <td>0</td>\n",
       "      <td>0</td>\n",
       "      <td>0</td>\n",
       "      <td>1</td>\n",
       "      <td>1</td>\n",
       "      <td>1</td>\n",
       "    </tr>\n",
       "    <tr>\n",
       "      <th>11355</th>\n",
       "      <td>1</td>\n",
       "      <td>0</td>\n",
       "      <td>1</td>\n",
       "      <td>1</td>\n",
       "      <td>0</td>\n",
       "      <td>0</td>\n",
       "      <td>0</td>\n",
       "      <td>1</td>\n",
       "      <td>1</td>\n",
       "      <td>0</td>\n",
       "    </tr>\n",
       "    <tr>\n",
       "      <th>11014</th>\n",
       "      <td>1</td>\n",
       "      <td>1</td>\n",
       "      <td>0</td>\n",
       "      <td>0</td>\n",
       "      <td>0</td>\n",
       "      <td>0</td>\n",
       "      <td>0</td>\n",
       "      <td>0</td>\n",
       "      <td>1</td>\n",
       "      <td>0</td>\n",
       "    </tr>\n",
       "  </tbody>\n",
       "</table>\n",
       "<p>2254 rows × 10 columns</p>\n",
       "</div>"
      ],
      "text/plain": [
       "       distortion0  distortion2  distortion3  distortion4  distortion5  \\\n",
       "11993            1            1            1            0            0   \n",
       "7769             0            0            0            0            0   \n",
       "13150            1            1            1            1            0   \n",
       "10400            1            0            0            0            0   \n",
       "5281             0            0            0            0            0   \n",
       "...            ...          ...          ...          ...          ...   \n",
       "11816            0            1            0            0            0   \n",
       "2398             0            0            0            0            0   \n",
       "7583             1            1            1            1            0   \n",
       "11355            1            0            1            1            0   \n",
       "11014            1            1            0            0            0   \n",
       "\n",
       "       distortion6  distortion7  distortion8  distortion9  distortion10  \n",
       "11993            1            1            1            1             1  \n",
       "7769             0            0            0            0             0  \n",
       "13150            0            1            0            1             1  \n",
       "10400            0            1            0            0             0  \n",
       "5281             0            1            1            0             0  \n",
       "...            ...          ...          ...          ...           ...  \n",
       "11816            0            1            0            0             0  \n",
       "2398             1            0            1            0             0  \n",
       "7583             0            0            1            1             1  \n",
       "11355            0            0            1            1             0  \n",
       "11014            0            0            0            1             0  \n",
       "\n",
       "[2254 rows x 10 columns]"
      ]
     },
     "execution_count": 304,
     "metadata": {},
     "output_type": "execute_result"
    }
   ],
   "source": [
    "no1 = y_test.drop([\"distortion1\"],axis=1)"
   ]
  },
  {
   "cell_type": "code",
   "execution_count": 105,
   "id": "4b78c77b",
   "metadata": {},
   "outputs": [
    {
     "data": {
      "text/plain": [
       "0.5937726869403888"
      ]
     },
     "execution_count": 105,
     "metadata": {},
     "output_type": "execute_result"
    }
   ],
   "source": [
    "hamming_loss(y_test,always_positive_basline_df)"
   ]
  },
  {
   "cell_type": "code",
   "execution_count": 106,
   "id": "1fb44aad",
   "metadata": {},
   "outputs": [
    {
     "data": {
      "text/plain": [
       "0.5368914696078542"
      ]
     },
     "execution_count": 106,
     "metadata": {},
     "output_type": "execute_result"
    }
   ],
   "source": [
    "F1Measure(np.array(y_test),np.array(always_positive_basline_df))"
   ]
  },
  {
   "cell_type": "markdown",
   "id": "1f0f5736",
   "metadata": {},
   "source": [
    "### Drop d1"
   ]
  },
  {
   "cell_type": "code",
   "execution_count": 311,
   "id": "26230378",
   "metadata": {},
   "outputs": [],
   "source": [
    "distortion_list_no1 = ['distortion0',\n",
    " 'distortion2',\n",
    " 'distortion3',\n",
    " 'distortion4',\n",
    " 'distortion5',\n",
    " 'distortion6',\n",
    " 'distortion7',\n",
    " 'distortion8',\n",
    " 'distortion9',\n",
    " 'distortion10']"
   ]
  },
  {
   "cell_type": "code",
   "execution_count": 306,
   "id": "a458e80a",
   "metadata": {},
   "outputs": [],
   "source": [
    "no1 = y_test.drop([\"distortion1\"],axis=1)"
   ]
  },
  {
   "cell_type": "code",
   "execution_count": 308,
   "id": "a7031f3d",
   "metadata": {},
   "outputs": [
    {
     "data": {
      "text/html": [
       "<div>\n",
       "<style scoped>\n",
       "    .dataframe tbody tr th:only-of-type {\n",
       "        vertical-align: middle;\n",
       "    }\n",
       "\n",
       "    .dataframe tbody tr th {\n",
       "        vertical-align: top;\n",
       "    }\n",
       "\n",
       "    .dataframe thead th {\n",
       "        text-align: right;\n",
       "    }\n",
       "</style>\n",
       "<table border=\"1\" class=\"dataframe\">\n",
       "  <thead>\n",
       "    <tr style=\"text-align: right;\">\n",
       "      <th></th>\n",
       "      <th>distortion0</th>\n",
       "      <th>distortion2</th>\n",
       "      <th>distortion3</th>\n",
       "      <th>distortion4</th>\n",
       "      <th>distortion5</th>\n",
       "      <th>distortion6</th>\n",
       "      <th>distortion7</th>\n",
       "      <th>distortion8</th>\n",
       "      <th>distortion9</th>\n",
       "      <th>distortion10</th>\n",
       "    </tr>\n",
       "  </thead>\n",
       "  <tbody>\n",
       "    <tr>\n",
       "      <th>11993</th>\n",
       "      <td>1</td>\n",
       "      <td>1</td>\n",
       "      <td>1</td>\n",
       "      <td>0</td>\n",
       "      <td>0</td>\n",
       "      <td>1</td>\n",
       "      <td>1</td>\n",
       "      <td>1</td>\n",
       "      <td>1</td>\n",
       "      <td>1</td>\n",
       "    </tr>\n",
       "    <tr>\n",
       "      <th>7769</th>\n",
       "      <td>0</td>\n",
       "      <td>0</td>\n",
       "      <td>0</td>\n",
       "      <td>0</td>\n",
       "      <td>0</td>\n",
       "      <td>0</td>\n",
       "      <td>0</td>\n",
       "      <td>0</td>\n",
       "      <td>0</td>\n",
       "      <td>0</td>\n",
       "    </tr>\n",
       "    <tr>\n",
       "      <th>13150</th>\n",
       "      <td>1</td>\n",
       "      <td>1</td>\n",
       "      <td>1</td>\n",
       "      <td>1</td>\n",
       "      <td>0</td>\n",
       "      <td>0</td>\n",
       "      <td>1</td>\n",
       "      <td>0</td>\n",
       "      <td>1</td>\n",
       "      <td>1</td>\n",
       "    </tr>\n",
       "    <tr>\n",
       "      <th>10400</th>\n",
       "      <td>1</td>\n",
       "      <td>0</td>\n",
       "      <td>0</td>\n",
       "      <td>0</td>\n",
       "      <td>0</td>\n",
       "      <td>0</td>\n",
       "      <td>1</td>\n",
       "      <td>0</td>\n",
       "      <td>0</td>\n",
       "      <td>0</td>\n",
       "    </tr>\n",
       "    <tr>\n",
       "      <th>5281</th>\n",
       "      <td>0</td>\n",
       "      <td>0</td>\n",
       "      <td>0</td>\n",
       "      <td>0</td>\n",
       "      <td>0</td>\n",
       "      <td>0</td>\n",
       "      <td>1</td>\n",
       "      <td>1</td>\n",
       "      <td>0</td>\n",
       "      <td>0</td>\n",
       "    </tr>\n",
       "    <tr>\n",
       "      <th>...</th>\n",
       "      <td>...</td>\n",
       "      <td>...</td>\n",
       "      <td>...</td>\n",
       "      <td>...</td>\n",
       "      <td>...</td>\n",
       "      <td>...</td>\n",
       "      <td>...</td>\n",
       "      <td>...</td>\n",
       "      <td>...</td>\n",
       "      <td>...</td>\n",
       "    </tr>\n",
       "    <tr>\n",
       "      <th>11816</th>\n",
       "      <td>0</td>\n",
       "      <td>1</td>\n",
       "      <td>0</td>\n",
       "      <td>0</td>\n",
       "      <td>0</td>\n",
       "      <td>0</td>\n",
       "      <td>1</td>\n",
       "      <td>0</td>\n",
       "      <td>0</td>\n",
       "      <td>0</td>\n",
       "    </tr>\n",
       "    <tr>\n",
       "      <th>2398</th>\n",
       "      <td>0</td>\n",
       "      <td>0</td>\n",
       "      <td>0</td>\n",
       "      <td>0</td>\n",
       "      <td>0</td>\n",
       "      <td>1</td>\n",
       "      <td>0</td>\n",
       "      <td>1</td>\n",
       "      <td>0</td>\n",
       "      <td>0</td>\n",
       "    </tr>\n",
       "    <tr>\n",
       "      <th>7583</th>\n",
       "      <td>1</td>\n",
       "      <td>1</td>\n",
       "      <td>1</td>\n",
       "      <td>1</td>\n",
       "      <td>0</td>\n",
       "      <td>0</td>\n",
       "      <td>0</td>\n",
       "      <td>1</td>\n",
       "      <td>1</td>\n",
       "      <td>1</td>\n",
       "    </tr>\n",
       "    <tr>\n",
       "      <th>11355</th>\n",
       "      <td>1</td>\n",
       "      <td>0</td>\n",
       "      <td>1</td>\n",
       "      <td>1</td>\n",
       "      <td>0</td>\n",
       "      <td>0</td>\n",
       "      <td>0</td>\n",
       "      <td>1</td>\n",
       "      <td>1</td>\n",
       "      <td>0</td>\n",
       "    </tr>\n",
       "    <tr>\n",
       "      <th>11014</th>\n",
       "      <td>1</td>\n",
       "      <td>1</td>\n",
       "      <td>0</td>\n",
       "      <td>0</td>\n",
       "      <td>0</td>\n",
       "      <td>0</td>\n",
       "      <td>0</td>\n",
       "      <td>0</td>\n",
       "      <td>1</td>\n",
       "      <td>0</td>\n",
       "    </tr>\n",
       "  </tbody>\n",
       "</table>\n",
       "<p>2254 rows × 10 columns</p>\n",
       "</div>"
      ],
      "text/plain": [
       "       distortion0  distortion2  distortion3  distortion4  distortion5  \\\n",
       "11993            1            1            1            0            0   \n",
       "7769             0            0            0            0            0   \n",
       "13150            1            1            1            1            0   \n",
       "10400            1            0            0            0            0   \n",
       "5281             0            0            0            0            0   \n",
       "...            ...          ...          ...          ...          ...   \n",
       "11816            0            1            0            0            0   \n",
       "2398             0            0            0            0            0   \n",
       "7583             1            1            1            1            0   \n",
       "11355            1            0            1            1            0   \n",
       "11014            1            1            0            0            0   \n",
       "\n",
       "       distortion6  distortion7  distortion8  distortion9  distortion10  \n",
       "11993            1            1            1            1             1  \n",
       "7769             0            0            0            0             0  \n",
       "13150            0            1            0            1             1  \n",
       "10400            0            1            0            0             0  \n",
       "5281             0            1            1            0             0  \n",
       "...            ...          ...          ...          ...           ...  \n",
       "11816            0            1            0            0             0  \n",
       "2398             1            0            1            0             0  \n",
       "7583             0            0            1            1             1  \n",
       "11355            0            0            1            1             0  \n",
       "11014            0            0            0            1             0  \n",
       "\n",
       "[2254 rows x 10 columns]"
      ]
     },
     "execution_count": 308,
     "metadata": {},
     "output_type": "execute_result"
    }
   ],
   "source": [
    "no1"
   ]
  },
  {
   "cell_type": "code",
   "execution_count": 312,
   "id": "5ee20c89",
   "metadata": {},
   "outputs": [],
   "source": [
    "no1_random_basline_df = pd.DataFrame(np.random.randint(0,2,size=(2254, 10)), columns=distortion_list_no1)"
   ]
  },
  {
   "cell_type": "code",
   "execution_count": 314,
   "id": "4ade4d71",
   "metadata": {},
   "outputs": [
    {
     "name": "stdout",
     "output_type": "stream",
     "text": [
      "              precision    recall  f1-score   support\n",
      "\n",
      " distortion0       0.49      0.49      0.49      1090\n",
      " distortion2       0.30      0.51      0.37       647\n",
      " distortion3       0.41      0.49      0.45       938\n",
      " distortion4       0.30      0.49      0.37       683\n",
      " distortion5       0.18      0.50      0.26       401\n",
      " distortion6       0.31      0.48      0.38       738\n",
      " distortion7       0.32      0.52      0.40       726\n",
      " distortion8       0.41      0.52      0.46       915\n",
      " distortion9       0.49      0.49      0.49      1119\n",
      "distortion10       0.46      0.51      0.48      1042\n",
      "\n",
      "   micro avg       0.37      0.50      0.42      8299\n",
      "   macro avg       0.37      0.50      0.42      8299\n",
      "weighted avg       0.39      0.50      0.43      8299\n",
      " samples avg       0.37      0.46      0.37      8299\n",
      "\n"
     ]
    }
   ],
   "source": [
    "print(classification_report(no1,no1_random_basline_df,target_names = distortion_list_no1))"
   ]
  },
  {
   "cell_type": "code",
   "execution_count": 315,
   "id": "68bb99fc",
   "metadata": {},
   "outputs": [],
   "source": [
    "no1_always_positive_basline_df = pd.DataFrame(np.random.randint(1,2,size=(2254, 10)), columns=distortion_list_no1)"
   ]
  },
  {
   "cell_type": "code",
   "execution_count": 316,
   "id": "bb14972a",
   "metadata": {},
   "outputs": [
    {
     "name": "stdout",
     "output_type": "stream",
     "text": [
      "              precision    recall  f1-score   support\n",
      "\n",
      " distortion0       0.48      1.00      0.65      1090\n",
      " distortion2       0.29      1.00      0.45       647\n",
      " distortion3       0.42      1.00      0.59       938\n",
      " distortion4       0.30      1.00      0.47       683\n",
      " distortion5       0.18      1.00      0.30       401\n",
      " distortion6       0.33      1.00      0.49       738\n",
      " distortion7       0.32      1.00      0.49       726\n",
      " distortion8       0.41      1.00      0.58       915\n",
      " distortion9       0.50      1.00      0.66      1119\n",
      "distortion10       0.46      1.00      0.63      1042\n",
      "\n",
      "   micro avg       0.37      1.00      0.54      8299\n",
      "   macro avg       0.37      1.00      0.53      8299\n",
      "weighted avg       0.39      1.00      0.56      8299\n",
      " samples avg       0.37      0.91      0.49      8299\n",
      "\n"
     ]
    }
   ],
   "source": [
    "print(classification_report(no1,no1_always_positive_basline_df,target_names = distortion_list_no1))"
   ]
  },
  {
   "cell_type": "markdown",
   "id": "7f1e3ff2",
   "metadata": {},
   "source": [
    "# Problem átalakítása"
   ]
  },
  {
   "cell_type": "markdown",
   "id": "0fba5184",
   "metadata": {},
   "source": [
    "# Bináris relevancia"
   ]
  },
  {
   "cell_type": "code",
   "execution_count": 107,
   "id": "7ee0c40b",
   "metadata": {},
   "outputs": [],
   "source": [
    "from skmultilearn.problem_transform import BinaryRelevance"
   ]
  },
  {
   "cell_type": "markdown",
   "id": "fe93f08e",
   "metadata": {},
   "source": [
    "#### Modellek importálása"
   ]
  },
  {
   "cell_type": "code",
   "execution_count": 108,
   "id": "3262b182",
   "metadata": {},
   "outputs": [],
   "source": [
    "from sklearn.naive_bayes import GaussianNB"
   ]
  },
  {
   "cell_type": "code",
   "execution_count": 109,
   "id": "e44c8497",
   "metadata": {},
   "outputs": [],
   "source": [
    "from sklearn.naive_bayes import MultinomialNB"
   ]
  },
  {
   "cell_type": "code",
   "execution_count": 110,
   "id": "08bbb450",
   "metadata": {},
   "outputs": [],
   "source": [
    "from sklearn.linear_model import LogisticRegression"
   ]
  },
  {
   "cell_type": "code",
   "execution_count": 111,
   "id": "db124da0",
   "metadata": {},
   "outputs": [],
   "source": [
    "from sklearn.svm import SVC"
   ]
  },
  {
   "cell_type": "markdown",
   "id": "668cef10",
   "metadata": {},
   "source": [
    "## Szógyakoriság"
   ]
  },
  {
   "cell_type": "code",
   "execution_count": 112,
   "id": "dca10070",
   "metadata": {
    "scrolled": true
   },
   "outputs": [],
   "source": [
    "# count_x_train, y_train\n",
    "# count_x_test, y_test"
   ]
  },
  {
   "cell_type": "markdown",
   "id": "f59f3253",
   "metadata": {},
   "source": [
    "### Logisztikus regresszió"
   ]
  },
  {
   "cell_type": "code",
   "execution_count": 850,
   "id": "51779ae0",
   "metadata": {},
   "outputs": [],
   "source": [
    "# binary relevance ml classifier\n",
    "# inicializálása logreg base klasszifikálóval\n",
    "classifier = BinaryRelevance(LogisticRegression(solver='saga'))"
   ]
  },
  {
   "cell_type": "code",
   "execution_count": 852,
   "id": "56ee29b9",
   "metadata": {},
   "outputs": [
    {
     "data": {
      "text/plain": [
       "BinaryRelevance(classifier=LogisticRegression(solver='saga'),\n",
       "                require_dense=[True, True])"
      ]
     },
     "execution_count": 852,
     "metadata": {},
     "output_type": "execute_result"
    }
   ],
   "source": [
    "# tanítás\n",
    "classifier.fit(count_x_train, y_train)"
   ]
  },
  {
   "cell_type": "code",
   "execution_count": 853,
   "id": "c52bb971",
   "metadata": {},
   "outputs": [],
   "source": [
    "# becslés a teszthalmazon\n",
    "predikcio_br_lr = classifier.predict(count_x_test)"
   ]
  },
  {
   "cell_type": "code",
   "execution_count": 854,
   "id": "68cded56",
   "metadata": {},
   "outputs": [
    {
     "data": {
      "text/plain": [
       "<2254x11 sparse matrix of type '<class 'numpy.int64'>'\n",
       "\twith 7272 stored elements in Compressed Sparse Column format>"
      ]
     },
     "execution_count": 854,
     "metadata": {},
     "output_type": "execute_result"
    }
   ],
   "source": [
    "# összehaonlítani: y_test\n",
    "predikcio_br_lr"
   ]
  },
  {
   "cell_type": "markdown",
   "id": "0b4ab2dd",
   "metadata": {},
   "source": [
    "#### Értékelés"
   ]
  },
  {
   "cell_type": "code",
   "execution_count": 934,
   "id": "f144fbad",
   "metadata": {},
   "outputs": [
    {
     "name": "stdout",
     "output_type": "stream",
     "text": [
      "              precision    recall  f1-score   support\n",
      "\n",
      " distortion0       0.55      0.47      0.51      1090\n",
      " distortion1       0.79      0.98      0.88      1773\n",
      " distortion2       0.56      0.25      0.34       647\n",
      " distortion3       0.67      0.47      0.55       938\n",
      " distortion4       0.42      0.12      0.19       683\n",
      " distortion5       0.49      0.10      0.17       401\n",
      " distortion6       0.41      0.12      0.19       738\n",
      " distortion7       0.45      0.19      0.27       726\n",
      " distortion8       0.47      0.25      0.33       915\n",
      " distortion9       0.58      0.58      0.58      1119\n",
      "distortion10       0.55      0.40      0.47      1042\n",
      "\n",
      "   micro avg       0.62      0.45      0.52     10072\n",
      "   macro avg       0.54      0.36      0.41     10072\n",
      "weighted avg       0.57      0.45      0.48     10072\n",
      " samples avg       0.64      0.46      0.47     10072\n",
      "\n"
     ]
    }
   ],
   "source": [
    "print(classification_report(y_test,predikcio_br_lr,target_names = distortion_list))"
   ]
  },
  {
   "cell_type": "code",
   "execution_count": 981,
   "id": "1678b78f",
   "metadata": {},
   "outputs": [
    {
     "data": {
      "text/plain": [
       "0.3358070500927644"
      ]
     },
     "execution_count": 981,
     "metadata": {},
     "output_type": "execute_result"
    }
   ],
   "source": [
    "hamming_loss(y_test,predikcio_br_lr)"
   ]
  },
  {
   "cell_type": "code",
   "execution_count": 987,
   "id": "2ff2afe1",
   "metadata": {},
   "outputs": [
    {
     "data": {
      "text/plain": [
       "0.47141916938487555"
      ]
     },
     "execution_count": 987,
     "metadata": {},
     "output_type": "execute_result"
    }
   ],
   "source": [
    "F1Measure(np.array(y_test),np.array(predikcio_br_lr.todense()))"
   ]
  },
  {
   "cell_type": "markdown",
   "id": "7f72ac58",
   "metadata": {},
   "source": [
    "### SVM"
   ]
  },
  {
   "cell_type": "code",
   "execution_count": 856,
   "id": "97f2edc9",
   "metadata": {},
   "outputs": [],
   "source": [
    "# binary relevance ml classifier\n",
    "# inicializálása svm base klasszifikálóval\n",
    "classifier = BinaryRelevance(SVC(kernel='linear'))"
   ]
  },
  {
   "cell_type": "code",
   "execution_count": 857,
   "id": "f1ee32c9",
   "metadata": {},
   "outputs": [
    {
     "data": {
      "text/plain": [
       "BinaryRelevance(classifier=SVC(kernel='linear'), require_dense=[True, True])"
      ]
     },
     "execution_count": 857,
     "metadata": {},
     "output_type": "execute_result"
    }
   ],
   "source": [
    "# tanítás\n",
    "classifier.fit(count_x_train, y_train)"
   ]
  },
  {
   "cell_type": "code",
   "execution_count": 858,
   "id": "b75c54e6",
   "metadata": {},
   "outputs": [],
   "source": [
    "# becslés a teszthalmazon\n",
    "predikcio_br_svm = classifier.predict(count_x_test)"
   ]
  },
  {
   "cell_type": "code",
   "execution_count": 860,
   "id": "c512df12",
   "metadata": {},
   "outputs": [
    {
     "data": {
      "text/plain": [
       "<2254x11 sparse matrix of type '<class 'numpy.int64'>'\n",
       "\twith 7588 stored elements in Compressed Sparse Column format>"
      ]
     },
     "execution_count": 860,
     "metadata": {},
     "output_type": "execute_result"
    }
   ],
   "source": [
    "# összehaonlítani: y_test\n",
    "predikcio_br_svm"
   ]
  },
  {
   "cell_type": "markdown",
   "id": "129012e0",
   "metadata": {},
   "source": [
    "#### Értékelés"
   ]
  },
  {
   "cell_type": "code",
   "execution_count": 988,
   "id": "cda3c9b7",
   "metadata": {},
   "outputs": [
    {
     "name": "stdout",
     "output_type": "stream",
     "text": [
      "              precision    recall  f1-score   support\n",
      "\n",
      " distortion0       0.55      0.48      0.52      1090\n",
      " distortion1       0.79      0.96      0.87      1773\n",
      " distortion2       0.52      0.26      0.34       647\n",
      " distortion3       0.64      0.46      0.54       938\n",
      " distortion4       0.44      0.17      0.24       683\n",
      " distortion5       0.40      0.13      0.20       401\n",
      " distortion6       0.34      0.14      0.19       738\n",
      " distortion7       0.42      0.19      0.26       726\n",
      " distortion8       0.47      0.29      0.36       915\n",
      " distortion9       0.59      0.58      0.58      1119\n",
      "distortion10       0.54      0.42      0.47      1042\n",
      "\n",
      "   micro avg       0.60      0.45      0.52     10072\n",
      "   macro avg       0.52      0.37      0.42     10072\n",
      "weighted avg       0.56      0.45      0.48     10072\n",
      " samples avg       0.63      0.46      0.47     10072\n",
      "\n"
     ]
    }
   ],
   "source": [
    "print(classification_report(y_test,predikcio_br_svm,target_names = distortion_list))"
   ]
  },
  {
   "cell_type": "code",
   "execution_count": 989,
   "id": "f222ec42",
   "metadata": {},
   "outputs": [
    {
     "data": {
      "text/plain": [
       "0.34266354763249174"
      ]
     },
     "execution_count": 989,
     "metadata": {},
     "output_type": "execute_result"
    }
   ],
   "source": [
    "hamming_loss(y_test,predikcio_br_svm)"
   ]
  },
  {
   "cell_type": "code",
   "execution_count": 990,
   "id": "6d036bac",
   "metadata": {},
   "outputs": [
    {
     "data": {
      "text/plain": [
       "0.46869425106435914"
      ]
     },
     "execution_count": 990,
     "metadata": {},
     "output_type": "execute_result"
    }
   ],
   "source": [
    "F1Measure(np.array(y_test),np.array(predikcio_br_svm.todense()))"
   ]
  },
  {
   "cell_type": "markdown",
   "id": "53dd005a",
   "metadata": {},
   "source": [
    "### Naive Bayes"
   ]
  },
  {
   "cell_type": "code",
   "execution_count": 862,
   "id": "273367e5",
   "metadata": {},
   "outputs": [],
   "source": [
    "# binary relevance ml classifier\n",
    "# inicializálása nb base klasszifikálóval\n",
    "classifier = BinaryRelevance(MultinomialNB())"
   ]
  },
  {
   "cell_type": "code",
   "execution_count": 863,
   "id": "2ad9d5af",
   "metadata": {},
   "outputs": [
    {
     "data": {
      "text/plain": [
       "BinaryRelevance(classifier=MultinomialNB(), require_dense=[True, True])"
      ]
     },
     "execution_count": 863,
     "metadata": {},
     "output_type": "execute_result"
    }
   ],
   "source": [
    "# tanítás\n",
    "classifier.fit(count_x_train, y_train)"
   ]
  },
  {
   "cell_type": "code",
   "execution_count": 864,
   "id": "8a968053",
   "metadata": {},
   "outputs": [],
   "source": [
    "# becslés a teszthalmazon\n",
    "predikcio_br_nb = classifier.predict(count_x_test)"
   ]
  },
  {
   "cell_type": "code",
   "execution_count": 865,
   "id": "46aa6903",
   "metadata": {},
   "outputs": [
    {
     "data": {
      "text/plain": [
       "<2254x11 sparse matrix of type '<class 'numpy.int64'>'\n",
       "\twith 7663 stored elements in Compressed Sparse Column format>"
      ]
     },
     "execution_count": 865,
     "metadata": {},
     "output_type": "execute_result"
    }
   ],
   "source": [
    "# összehaonlítani: y_test\n",
    "predikcio_br_nb"
   ]
  },
  {
   "cell_type": "markdown",
   "id": "124d2613",
   "metadata": {},
   "source": [
    "#### Értékelés"
   ]
  },
  {
   "cell_type": "code",
   "execution_count": 991,
   "id": "77edcd69",
   "metadata": {},
   "outputs": [
    {
     "name": "stdout",
     "output_type": "stream",
     "text": [
      "              precision    recall  f1-score   support\n",
      "\n",
      " distortion0       0.56      0.54      0.55      1090\n",
      " distortion1       0.79      0.97      0.87      1773\n",
      " distortion2       0.56      0.29      0.38       647\n",
      " distortion3       0.65      0.50      0.56       938\n",
      " distortion4       0.50      0.18      0.26       683\n",
      " distortion5       0.39      0.08      0.14       401\n",
      " distortion6       0.40      0.12      0.18       738\n",
      " distortion7       0.43      0.20      0.27       726\n",
      " distortion8       0.46      0.25      0.32       915\n",
      " distortion9       0.59      0.60      0.60      1119\n",
      "distortion10       0.57      0.45      0.50      1042\n",
      "\n",
      "   micro avg       0.62      0.47      0.53     10072\n",
      "   macro avg       0.53      0.38      0.42     10072\n",
      "weighted avg       0.57      0.47      0.49     10072\n",
      " samples avg       0.63      0.47      0.48     10072\n",
      "\n"
     ]
    }
   ],
   "source": [
    "print(classification_report(y_test,predikcio_br_nb,target_names = distortion_list))"
   ]
  },
  {
   "cell_type": "code",
   "execution_count": 992,
   "id": "40b2f197",
   "metadata": {},
   "outputs": [
    {
     "data": {
      "text/plain": [
       "0.33407275953859805"
      ]
     },
     "execution_count": 992,
     "metadata": {},
     "output_type": "execute_result"
    }
   ],
   "source": [
    "hamming_loss(y_test,predikcio_br_nb)"
   ]
  },
  {
   "cell_type": "code",
   "execution_count": 993,
   "id": "ccd4bc8b",
   "metadata": {},
   "outputs": [
    {
     "data": {
      "text/plain": [
       "0.4820605802442004"
      ]
     },
     "execution_count": 993,
     "metadata": {},
     "output_type": "execute_result"
    }
   ],
   "source": [
    "F1Measure(np.array(y_test),np.array(predikcio_br_nb.todense()))"
   ]
  },
  {
   "cell_type": "markdown",
   "id": "4049a4b4",
   "metadata": {},
   "source": [
    "## TF-IDF"
   ]
  },
  {
   "cell_type": "code",
   "execution_count": 868,
   "id": "1fc0b32a",
   "metadata": {},
   "outputs": [],
   "source": [
    "# tf_idf_x_train, y_train\n",
    "# tf_idf_x_test, y_test"
   ]
  },
  {
   "cell_type": "markdown",
   "id": "e0d6814f",
   "metadata": {},
   "source": [
    "### Logisztikus regresszió"
   ]
  },
  {
   "cell_type": "code",
   "execution_count": 873,
   "id": "21eb8323",
   "metadata": {},
   "outputs": [],
   "source": [
    "# binary relevance ml classifier\n",
    "# inicializálása logreg base klasszifikálóval\n",
    "classifier = BinaryRelevance(LogisticRegression(solver='saga'))"
   ]
  },
  {
   "cell_type": "code",
   "execution_count": 874,
   "id": "158725de",
   "metadata": {},
   "outputs": [
    {
     "data": {
      "text/plain": [
       "BinaryRelevance(classifier=LogisticRegression(solver='saga'),\n",
       "                require_dense=[True, True])"
      ]
     },
     "execution_count": 874,
     "metadata": {},
     "output_type": "execute_result"
    }
   ],
   "source": [
    "# tanítás\n",
    "classifier.fit(tf_idf_x_train, y_train)"
   ]
  },
  {
   "cell_type": "code",
   "execution_count": 875,
   "id": "c71b4d0c",
   "metadata": {},
   "outputs": [],
   "source": [
    "# becslés a teszthalmazon\n",
    "predikcio_br_lr_tfidf = classifier.predict(tf_idf_x_test)"
   ]
  },
  {
   "cell_type": "code",
   "execution_count": 876,
   "id": "113ea674",
   "metadata": {},
   "outputs": [
    {
     "data": {
      "text/plain": [
       "<2254x11 sparse matrix of type '<class 'numpy.int64'>'\n",
       "\twith 6823 stored elements in Compressed Sparse Column format>"
      ]
     },
     "execution_count": 876,
     "metadata": {},
     "output_type": "execute_result"
    }
   ],
   "source": [
    "# összehaonlítani: y_test\n",
    "predikcio_br_lr_tfidf"
   ]
  },
  {
   "cell_type": "markdown",
   "id": "a1fb7e86",
   "metadata": {},
   "source": [
    "#### Értékelés"
   ]
  },
  {
   "cell_type": "code",
   "execution_count": 995,
   "id": "7d29dbe1",
   "metadata": {},
   "outputs": [
    {
     "name": "stdout",
     "output_type": "stream",
     "text": [
      "              precision    recall  f1-score   support\n",
      "\n",
      " distortion0       0.57      0.50      0.54      1090\n",
      " distortion1       0.79      1.00      0.88      1773\n",
      " distortion2       0.58      0.21      0.31       647\n",
      " distortion3       0.71      0.46      0.56       938\n",
      " distortion4       0.54      0.09      0.15       683\n",
      " distortion5       0.72      0.07      0.13       401\n",
      " distortion6       0.47      0.08      0.14       738\n",
      " distortion7       0.46      0.14      0.22       726\n",
      " distortion8       0.46      0.21      0.28       915\n",
      " distortion9       0.60      0.60      0.60      1119\n",
      "distortion10       0.55      0.39      0.46      1042\n",
      "\n",
      "   micro avg       0.65      0.44      0.52     10072\n",
      "   macro avg       0.59      0.34      0.39     10072\n",
      "weighted avg       0.60      0.44      0.47     10072\n",
      " samples avg       0.66      0.45      0.48     10072\n",
      "\n"
     ]
    }
   ],
   "source": [
    "print(classification_report(y_test,predikcio_br_lr_tfidf,target_names = distortion_list))"
   ]
  },
  {
   "cell_type": "code",
   "execution_count": 996,
   "id": "095b692a",
   "metadata": {},
   "outputs": [
    {
     "data": {
      "text/plain": [
       "0.3261676211986771"
      ]
     },
     "execution_count": 996,
     "metadata": {},
     "output_type": "execute_result"
    }
   ],
   "source": [
    "hamming_loss(y_test,predikcio_br_lr_tfidf)"
   ]
  },
  {
   "cell_type": "code",
   "execution_count": 997,
   "id": "a6877d2d",
   "metadata": {},
   "outputs": [
    {
     "data": {
      "text/plain": [
       "0.4767003674162168"
      ]
     },
     "execution_count": 997,
     "metadata": {},
     "output_type": "execute_result"
    }
   ],
   "source": [
    "F1Measure(np.array(y_test),np.array(predikcio_br_lr_tfidf.todense()))"
   ]
  },
  {
   "cell_type": "markdown",
   "id": "51334a55",
   "metadata": {},
   "source": [
    "### SVM"
   ]
  },
  {
   "cell_type": "code",
   "execution_count": 878,
   "id": "7e52cb58",
   "metadata": {},
   "outputs": [],
   "source": [
    "# binary relevance ml classifier\n",
    "# inicializálása svm base klasszifikálóval\n",
    "classifier = BinaryRelevance(SVC(kernel='linear'))"
   ]
  },
  {
   "cell_type": "code",
   "execution_count": 879,
   "id": "3c45581b",
   "metadata": {},
   "outputs": [
    {
     "data": {
      "text/plain": [
       "BinaryRelevance(classifier=SVC(kernel='linear'), require_dense=[True, True])"
      ]
     },
     "execution_count": 879,
     "metadata": {},
     "output_type": "execute_result"
    }
   ],
   "source": [
    "# tanítás\n",
    "classifier.fit(tf_idf_x_train, y_train)"
   ]
  },
  {
   "cell_type": "code",
   "execution_count": 883,
   "id": "84b7f3eb",
   "metadata": {},
   "outputs": [],
   "source": [
    "# becslés a teszthalmazon\n",
    "predikcio_br_svm_tf_idf = classifier.predict(tf_idf_x_test)"
   ]
  },
  {
   "cell_type": "code",
   "execution_count": 884,
   "id": "75539086",
   "metadata": {},
   "outputs": [
    {
     "data": {
      "text/plain": [
       "<2254x11 sparse matrix of type '<class 'numpy.int64'>'\n",
       "\twith 6537 stored elements in Compressed Sparse Column format>"
      ]
     },
     "execution_count": 884,
     "metadata": {},
     "output_type": "execute_result"
    }
   ],
   "source": [
    "# összehaonlítani: y_test\n",
    "predikcio_br_svm_tf_idf"
   ]
  },
  {
   "cell_type": "markdown",
   "id": "0a55359b",
   "metadata": {},
   "source": [
    "#### Értékelés"
   ]
  },
  {
   "cell_type": "code",
   "execution_count": 999,
   "id": "a54c9c04",
   "metadata": {},
   "outputs": [
    {
     "name": "stdout",
     "output_type": "stream",
     "text": [
      "              precision    recall  f1-score   support\n",
      "\n",
      " distortion0       0.56      0.50      0.53      1090\n",
      " distortion1       0.79      1.00      0.88      1773\n",
      " distortion2       0.54      0.17      0.26       647\n",
      " distortion3       0.72      0.44      0.55       938\n",
      " distortion4       0.51      0.05      0.09       683\n",
      " distortion5       0.73      0.09      0.16       401\n",
      " distortion6       0.38      0.03      0.06       738\n",
      " distortion7       0.41      0.08      0.13       726\n",
      " distortion8       0.48      0.18      0.27       915\n",
      " distortion9       0.60      0.59      0.59      1119\n",
      "distortion10       0.56      0.41      0.47      1042\n",
      "\n",
      "   micro avg       0.65      0.42      0.51     10072\n",
      "   macro avg       0.57      0.32      0.36     10072\n",
      "weighted avg       0.59      0.42      0.44     10072\n",
      " samples avg       0.66      0.43      0.47     10072\n",
      "\n"
     ]
    }
   ],
   "source": [
    "print(classification_report(y_test,predikcio_br_svm_tf_idf,target_names = distortion_list))"
   ]
  },
  {
   "cell_type": "code",
   "execution_count": 1000,
   "id": "b692a85a",
   "metadata": {},
   "outputs": [
    {
     "data": {
      "text/plain": [
       "0.32753892070662255"
      ]
     },
     "execution_count": 1000,
     "metadata": {},
     "output_type": "execute_result"
    }
   ],
   "source": [
    "hamming_loss(y_test,predikcio_br_svm_tf_idf)"
   ]
  },
  {
   "cell_type": "code",
   "execution_count": 1001,
   "id": "dc8e5903",
   "metadata": {},
   "outputs": [
    {
     "data": {
      "text/plain": [
       "0.4698987321984326"
      ]
     },
     "execution_count": 1001,
     "metadata": {},
     "output_type": "execute_result"
    }
   ],
   "source": [
    "F1Measure(np.array(y_test),np.array(predikcio_br_svm_tf_idf.todense()))"
   ]
  },
  {
   "cell_type": "markdown",
   "id": "4fdfb25d",
   "metadata": {},
   "source": [
    "### Naive Bayes"
   ]
  },
  {
   "cell_type": "code",
   "execution_count": 885,
   "id": "3443425c",
   "metadata": {},
   "outputs": [],
   "source": [
    "# binary relevance ml classifier\n",
    "# inicializálása nb base klasszifikálóval\n",
    "classifier = BinaryRelevance(MultinomialNB())"
   ]
  },
  {
   "cell_type": "code",
   "execution_count": 886,
   "id": "c3e70755",
   "metadata": {},
   "outputs": [
    {
     "data": {
      "text/plain": [
       "BinaryRelevance(classifier=MultinomialNB(), require_dense=[True, True])"
      ]
     },
     "execution_count": 886,
     "metadata": {},
     "output_type": "execute_result"
    }
   ],
   "source": [
    "# tanítás\n",
    "classifier.fit(tf_idf_x_train, y_train)"
   ]
  },
  {
   "cell_type": "code",
   "execution_count": 887,
   "id": "81d9b98d",
   "metadata": {},
   "outputs": [],
   "source": [
    "# becslés a teszthalmazon\n",
    "predikcio_br_nb_tf_idf = classifier.predict(tf_idf_x_test)"
   ]
  },
  {
   "cell_type": "code",
   "execution_count": 888,
   "id": "83072b63",
   "metadata": {},
   "outputs": [
    {
     "data": {
      "text/plain": [
       "<2254x11 sparse matrix of type '<class 'numpy.int64'>'\n",
       "\twith 5668 stored elements in Compressed Sparse Column format>"
      ]
     },
     "execution_count": 888,
     "metadata": {},
     "output_type": "execute_result"
    }
   ],
   "source": [
    "# összehaonlítani: y_test\n",
    "predikcio_br_nb_tf_idf"
   ]
  },
  {
   "cell_type": "markdown",
   "id": "da195865",
   "metadata": {},
   "source": [
    "#### Értékelés"
   ]
  },
  {
   "cell_type": "code",
   "execution_count": 1003,
   "id": "7ffed95d",
   "metadata": {},
   "outputs": [
    {
     "name": "stdout",
     "output_type": "stream",
     "text": [
      "              precision    recall  f1-score   support\n",
      "\n",
      " distortion0       0.56      0.46      0.51      1090\n",
      " distortion1       0.79      1.00      0.88      1773\n",
      " distortion2       0.63      0.06      0.11       647\n",
      " distortion3       0.68      0.36      0.47       938\n",
      " distortion4       0.64      0.02      0.05       683\n",
      " distortion5       0.75      0.01      0.01       401\n",
      " distortion6       0.36      0.01      0.03       738\n",
      " distortion7       0.45      0.03      0.05       726\n",
      " distortion8       0.48      0.09      0.16       915\n",
      " distortion9       0.58      0.61      0.59      1119\n",
      "distortion10       0.57      0.28      0.37      1042\n",
      "\n",
      "   micro avg       0.66      0.37      0.48     10072\n",
      "   macro avg       0.59      0.27      0.29     10072\n",
      "weighted avg       0.60      0.37      0.39     10072\n",
      " samples avg       0.68      0.39      0.44     10072\n",
      "\n"
     ]
    }
   ],
   "source": [
    "print(classification_report(y_test,predikcio_br_nb_tf_idf,target_names = distortion_list))"
   ]
  },
  {
   "cell_type": "code",
   "execution_count": 1004,
   "id": "41b75ae3",
   "metadata": {},
   "outputs": [
    {
     "data": {
      "text/plain": [
       "0.3321771396305558"
      ]
     },
     "execution_count": 1004,
     "metadata": {},
     "output_type": "execute_result"
    }
   ],
   "source": [
    "hamming_loss(y_test,predikcio_br_nb_tf_idf)"
   ]
  },
  {
   "cell_type": "code",
   "execution_count": 1005,
   "id": "6790fce0",
   "metadata": {},
   "outputs": [
    {
     "data": {
      "text/plain": [
       "0.4419226917771965"
      ]
     },
     "execution_count": 1005,
     "metadata": {},
     "output_type": "execute_result"
    }
   ],
   "source": [
    "F1Measure(np.array(y_test),np.array(predikcio_br_nb_tf_idf.todense()))"
   ]
  },
  {
   "cell_type": "markdown",
   "id": "4ab3733e",
   "metadata": {},
   "source": [
    "## Word2Vec"
   ]
  },
  {
   "cell_type": "code",
   "execution_count": 889,
   "id": "d994ea3b",
   "metadata": {},
   "outputs": [],
   "source": [
    "# w2v_x_train_df, w2v_y_train\n",
    "# w2v_x_test_df, w2v_y_test"
   ]
  },
  {
   "cell_type": "markdown",
   "id": "0e8439d0",
   "metadata": {},
   "source": [
    "### Logisztikus regresszió"
   ]
  },
  {
   "cell_type": "code",
   "execution_count": 890,
   "id": "85a94651",
   "metadata": {},
   "outputs": [],
   "source": [
    "# binary relevance ml classifier\n",
    "# inicializálása logreg base klasszifikálóval\n",
    "classifier = BinaryRelevance(LogisticRegression(solver='saga'))"
   ]
  },
  {
   "cell_type": "code",
   "execution_count": 891,
   "id": "1f537f48",
   "metadata": {},
   "outputs": [
    {
     "data": {
      "text/plain": [
       "BinaryRelevance(classifier=LogisticRegression(solver='saga'),\n",
       "                require_dense=[True, True])"
      ]
     },
     "execution_count": 891,
     "metadata": {},
     "output_type": "execute_result"
    }
   ],
   "source": [
    "# tanítás\n",
    "classifier.fit(w2v_x_train_df, w2v_y_train)"
   ]
  },
  {
   "cell_type": "code",
   "execution_count": 892,
   "id": "9e6c8b6d",
   "metadata": {},
   "outputs": [],
   "source": [
    "# becslés a teszthalmazon\n",
    "predikcio_br_lr_w2v = classifier.predict(w2v_x_test_df)"
   ]
  },
  {
   "cell_type": "code",
   "execution_count": 894,
   "id": "5ddd8d7e",
   "metadata": {},
   "outputs": [
    {
     "data": {
      "text/plain": [
       "<2254x11 sparse matrix of type '<class 'numpy.int64'>'\n",
       "\twith 5984 stored elements in Compressed Sparse Column format>"
      ]
     },
     "execution_count": 894,
     "metadata": {},
     "output_type": "execute_result"
    }
   ],
   "source": [
    "# összehaonlítani: w2v_y_test\n",
    "predikcio_br_lr_w2v"
   ]
  },
  {
   "cell_type": "markdown",
   "id": "4f208413",
   "metadata": {},
   "source": [
    "#### Értékelés"
   ]
  },
  {
   "cell_type": "code",
   "execution_count": 1010,
   "id": "91308396",
   "metadata": {},
   "outputs": [
    {
     "name": "stdout",
     "output_type": "stream",
     "text": [
      "              precision    recall  f1-score   support\n",
      "\n",
      " distortion0       0.58      0.47      0.52      1090\n",
      " distortion1       0.79      1.00      0.88      1773\n",
      " distortion2       0.55      0.13      0.22       647\n",
      " distortion3       0.71      0.46      0.56       938\n",
      " distortion4       0.62      0.05      0.10       683\n",
      " distortion5       0.42      0.02      0.05       401\n",
      " distortion6       0.51      0.04      0.08       738\n",
      " distortion7       0.46      0.07      0.12       726\n",
      " distortion8       0.53      0.09      0.16       915\n",
      " distortion9       0.62      0.60      0.61      1119\n",
      "distortion10       0.59      0.33      0.42      1042\n",
      "\n",
      "   micro avg       0.67      0.40      0.50     10072\n",
      "   macro avg       0.58      0.30      0.34     10072\n",
      "weighted avg       0.61      0.40      0.42     10072\n",
      " samples avg       0.69      0.41      0.46     10072\n",
      "\n"
     ]
    }
   ],
   "source": [
    "print(classification_report(w2v_y_test,predikcio_br_lr_w2v,target_names = distortion_list))"
   ]
  },
  {
   "cell_type": "code",
   "execution_count": 1011,
   "id": "77399786",
   "metadata": {},
   "outputs": [
    {
     "data": {
      "text/plain": [
       "0.32322336049044126"
      ]
     },
     "execution_count": 1011,
     "metadata": {},
     "output_type": "execute_result"
    }
   ],
   "source": [
    "hamming_loss(w2v_y_test,predikcio_br_lr_w2v)"
   ]
  },
  {
   "cell_type": "code",
   "execution_count": 1012,
   "id": "5ff76109",
   "metadata": {},
   "outputs": [
    {
     "data": {
      "text/plain": [
       "0.46009051682755786"
      ]
     },
     "execution_count": 1012,
     "metadata": {},
     "output_type": "execute_result"
    }
   ],
   "source": [
    "F1Measure(np.array(w2v_y_test),np.array(predikcio_br_lr_w2v.todense()))"
   ]
  },
  {
   "cell_type": "markdown",
   "id": "3bdd08c3",
   "metadata": {},
   "source": [
    "### SVM"
   ]
  },
  {
   "cell_type": "code",
   "execution_count": 895,
   "id": "f6ec2f18",
   "metadata": {},
   "outputs": [],
   "source": [
    "# binary relevance ml classifier\n",
    "# inicializálása svm base klasszifikálóval\n",
    "classifier = BinaryRelevance(SVC(kernel='linear'))"
   ]
  },
  {
   "cell_type": "code",
   "execution_count": 896,
   "id": "d166bd2d",
   "metadata": {},
   "outputs": [
    {
     "data": {
      "text/plain": [
       "BinaryRelevance(classifier=SVC(kernel='linear'), require_dense=[True, True])"
      ]
     },
     "execution_count": 896,
     "metadata": {},
     "output_type": "execute_result"
    }
   ],
   "source": [
    "# tanítás\n",
    "classifier.fit(w2v_x_train_df, w2v_y_train)"
   ]
  },
  {
   "cell_type": "code",
   "execution_count": 897,
   "id": "d8d2e5ac",
   "metadata": {},
   "outputs": [],
   "source": [
    "# becslés a teszthalmazon\n",
    "predikcio_br_svm_w2v = classifier.predict(w2v_x_test_df)"
   ]
  },
  {
   "cell_type": "code",
   "execution_count": 898,
   "id": "739628a7",
   "metadata": {},
   "outputs": [
    {
     "data": {
      "text/plain": [
       "<2254x11 sparse matrix of type '<class 'numpy.int64'>'\n",
       "\twith 4943 stored elements in Compressed Sparse Column format>"
      ]
     },
     "execution_count": 898,
     "metadata": {},
     "output_type": "execute_result"
    }
   ],
   "source": [
    "# összehaonlítani: w2v_y_test\n",
    "predikcio_br_svm_w2v"
   ]
  },
  {
   "cell_type": "markdown",
   "id": "c046651b",
   "metadata": {},
   "source": [
    "#### Értékelés"
   ]
  },
  {
   "cell_type": "code",
   "execution_count": 1014,
   "id": "23fa0a6a",
   "metadata": {},
   "outputs": [
    {
     "name": "stdout",
     "output_type": "stream",
     "text": [
      "              precision    recall  f1-score   support\n",
      "\n",
      " distortion0       0.59      0.41      0.49      1090\n",
      " distortion1       0.79      1.00      0.88      1773\n",
      " distortion2       0.00      0.00      0.00       647\n",
      " distortion3       0.73      0.41      0.52       938\n",
      " distortion4       0.00      0.00      0.00       683\n",
      " distortion5       0.00      0.00      0.00       401\n",
      " distortion6       0.00      0.00      0.00       738\n",
      " distortion7       0.00      0.00      0.00       726\n",
      " distortion8       0.00      0.00      0.00       915\n",
      " distortion9       0.62      0.57      0.60      1119\n",
      "distortion10       0.61      0.22      0.32      1042\n",
      "\n",
      "   micro avg       0.70      0.34      0.46     10072\n",
      "   macro avg       0.30      0.24      0.26     10072\n",
      "weighted avg       0.40      0.34      0.36     10072\n",
      " samples avg       0.71      0.36      0.43     10072\n",
      "\n"
     ]
    }
   ],
   "source": [
    "print(classification_report(w2v_y_test,predikcio_br_svm_w2v,target_names = distortion_list))"
   ]
  },
  {
   "cell_type": "code",
   "execution_count": 1015,
   "id": "d1f86dc8",
   "metadata": {},
   "outputs": [
    {
     "data": {
      "text/plain": [
       "0.32544163910623536"
      ]
     },
     "execution_count": 1015,
     "metadata": {},
     "output_type": "execute_result"
    }
   ],
   "source": [
    "hamming_loss(w2v_y_test,predikcio_br_svm_w2v)"
   ]
  },
  {
   "cell_type": "code",
   "execution_count": 1016,
   "id": "8526645a",
   "metadata": {},
   "outputs": [
    {
     "data": {
      "text/plain": [
       "0.4312435740341673"
      ]
     },
     "execution_count": 1016,
     "metadata": {},
     "output_type": "execute_result"
    }
   ],
   "source": [
    "F1Measure(np.array(w2v_y_test),np.array(predikcio_br_svm_w2v.todense()))"
   ]
  },
  {
   "cell_type": "markdown",
   "id": "7af61f79",
   "metadata": {},
   "source": [
    "### Naive Bayes"
   ]
  },
  {
   "cell_type": "code",
   "execution_count": 900,
   "id": "d42beed4",
   "metadata": {},
   "outputs": [],
   "source": [
    "# binary relevance ml classifier\n",
    "# inicializálása nb base klasszifikálóval\n",
    "classifier = BinaryRelevance(GaussianNB())"
   ]
  },
  {
   "cell_type": "code",
   "execution_count": 901,
   "id": "3437576c",
   "metadata": {},
   "outputs": [
    {
     "data": {
      "text/plain": [
       "BinaryRelevance(classifier=GaussianNB(), require_dense=[True, True])"
      ]
     },
     "execution_count": 901,
     "metadata": {},
     "output_type": "execute_result"
    }
   ],
   "source": [
    "# tanítás\n",
    "classifier.fit(w2v_x_train_df, w2v_y_train)"
   ]
  },
  {
   "cell_type": "code",
   "execution_count": 902,
   "id": "e7cd7365",
   "metadata": {},
   "outputs": [],
   "source": [
    "# becslés a teszthalmazon\n",
    "predikcio_br_nb_w2v = classifier.predict(w2v_x_test_df)"
   ]
  },
  {
   "cell_type": "code",
   "execution_count": 903,
   "id": "c0b214f9",
   "metadata": {},
   "outputs": [
    {
     "data": {
      "text/plain": [
       "<2254x11 sparse matrix of type '<class 'numpy.int64'>'\n",
       "\twith 12894 stored elements in Compressed Sparse Column format>"
      ]
     },
     "execution_count": 903,
     "metadata": {},
     "output_type": "execute_result"
    }
   ],
   "source": [
    "# összehaonlítani: w2v_y_test\n",
    "predikcio_br_nb_w2v"
   ]
  },
  {
   "cell_type": "markdown",
   "id": "428b179f",
   "metadata": {},
   "source": [
    "#### Értékelés"
   ]
  },
  {
   "cell_type": "code",
   "execution_count": 1017,
   "id": "9733f819",
   "metadata": {},
   "outputs": [
    {
     "name": "stdout",
     "output_type": "stream",
     "text": [
      "              precision    recall  f1-score   support\n",
      "\n",
      " distortion0       0.50      0.68      0.58      1090\n",
      " distortion1       0.80      0.81      0.81      1773\n",
      " distortion2       0.38      0.59      0.46       647\n",
      " distortion3       0.47      0.73      0.57       938\n",
      " distortion4       0.38      0.37      0.37       683\n",
      " distortion5       0.24      0.31      0.27       401\n",
      " distortion6       0.39      0.38      0.38       738\n",
      " distortion7       0.41      0.47      0.44       726\n",
      " distortion8       0.43      0.68      0.53       915\n",
      " distortion9       0.52      0.70      0.60      1119\n",
      "distortion10       0.49      0.71      0.58      1042\n",
      "\n",
      "   micro avg       0.50      0.63      0.56     10072\n",
      "   macro avg       0.46      0.58      0.51     10072\n",
      "weighted avg       0.51      0.63      0.56     10072\n",
      " samples avg       0.48      0.61      0.49     10072\n",
      "\n"
     ]
    }
   ],
   "source": [
    "print(classification_report(w2v_y_test,predikcio_br_nb_w2v,target_names = distortion_list))"
   ]
  },
  {
   "cell_type": "code",
   "execution_count": 1018,
   "id": "7b22574a",
   "metadata": {},
   "outputs": [
    {
     "data": {
      "text/plain": [
       "0.41074453496813745"
      ]
     },
     "execution_count": 1018,
     "metadata": {},
     "output_type": "execute_result"
    }
   ],
   "source": [
    "hamming_loss(w2v_y_test,predikcio_br_nb_w2v)"
   ]
  },
  {
   "cell_type": "code",
   "execution_count": 1019,
   "id": "e6a28088",
   "metadata": {},
   "outputs": [
    {
     "data": {
      "text/plain": [
       "0.4930373101453874"
      ]
     },
     "execution_count": 1019,
     "metadata": {},
     "output_type": "execute_result"
    }
   ],
   "source": [
    "F1Measure(np.array(w2v_y_test),np.array(predikcio_br_nb_w2v.todense()))"
   ]
  },
  {
   "cell_type": "markdown",
   "id": "04201fe2",
   "metadata": {},
   "source": [
    "## GloVe"
   ]
  },
  {
   "cell_type": "code",
   "execution_count": 905,
   "id": "408df1cc",
   "metadata": {},
   "outputs": [],
   "source": [
    "# glove_x_train_df, glove_y_train\n",
    "# glove_x_test_df, glove_y_test"
   ]
  },
  {
   "cell_type": "markdown",
   "id": "d787e5f9",
   "metadata": {},
   "source": [
    "### Logisztikus regresszió"
   ]
  },
  {
   "cell_type": "code",
   "execution_count": 906,
   "id": "06908344",
   "metadata": {},
   "outputs": [],
   "source": [
    "# binary relevance ml classifier\n",
    "# inicializálása logreg base klasszifikálóval\n",
    "classifier = BinaryRelevance(LogisticRegression(solver='saga'))"
   ]
  },
  {
   "cell_type": "code",
   "execution_count": 907,
   "id": "f413af1d",
   "metadata": {},
   "outputs": [
    {
     "data": {
      "text/plain": [
       "BinaryRelevance(classifier=LogisticRegression(solver='saga'),\n",
       "                require_dense=[True, True])"
      ]
     },
     "execution_count": 907,
     "metadata": {},
     "output_type": "execute_result"
    }
   ],
   "source": [
    "# tanítás\n",
    "classifier.fit(glove_x_train_df, glove_y_train)"
   ]
  },
  {
   "cell_type": "code",
   "execution_count": 908,
   "id": "590b46cb",
   "metadata": {},
   "outputs": [],
   "source": [
    "# becslés a teszthalmazon\n",
    "predikcio_br_lr_glove = classifier.predict(glove_x_test_df)"
   ]
  },
  {
   "cell_type": "code",
   "execution_count": 909,
   "id": "35c2a5da",
   "metadata": {},
   "outputs": [
    {
     "data": {
      "text/plain": [
       "<2254x11 sparse matrix of type '<class 'numpy.int64'>'\n",
       "\twith 6249 stored elements in Compressed Sparse Column format>"
      ]
     },
     "execution_count": 909,
     "metadata": {},
     "output_type": "execute_result"
    }
   ],
   "source": [
    "# összehaonlítani: glove_y_test\n",
    "predikcio_br_lr_glove"
   ]
  },
  {
   "cell_type": "markdown",
   "id": "70670f69",
   "metadata": {},
   "source": [
    "#### Értékelés"
   ]
  },
  {
   "cell_type": "code",
   "execution_count": 1024,
   "id": "3b63d6b3",
   "metadata": {},
   "outputs": [
    {
     "name": "stdout",
     "output_type": "stream",
     "text": [
      "              precision    recall  f1-score   support\n",
      "\n",
      " distortion0       0.56      0.49      0.52      1090\n",
      " distortion1       0.79      0.99      0.88      1773\n",
      " distortion2       0.54      0.14      0.22       647\n",
      " distortion3       0.71      0.46      0.55       938\n",
      " distortion4       0.47      0.06      0.11       683\n",
      " distortion5       0.35      0.03      0.05       401\n",
      " distortion6       0.55      0.06      0.10       738\n",
      " distortion7       0.46      0.09      0.15       726\n",
      " distortion8       0.44      0.11      0.17       915\n",
      " distortion9       0.60      0.58      0.59      1119\n",
      "distortion10       0.58      0.35      0.44      1042\n",
      "\n",
      "   micro avg       0.65      0.41      0.50     10072\n",
      "   macro avg       0.55      0.31      0.34     10072\n",
      "weighted avg       0.59      0.41      0.43     10072\n",
      " samples avg       0.67      0.42      0.46     10072\n",
      "\n"
     ]
    }
   ],
   "source": [
    "print(classification_report(glove_y_test,predikcio_br_lr_glove,target_names = distortion_list))"
   ]
  },
  {
   "cell_type": "code",
   "execution_count": 1025,
   "id": "10b750dc",
   "metadata": {},
   "outputs": [
    {
     "data": {
      "text/plain": [
       "0.3281842381221263"
      ]
     },
     "execution_count": 1025,
     "metadata": {},
     "output_type": "execute_result"
    }
   ],
   "source": [
    "hamming_loss(glove_y_test,predikcio_br_lr_glove)"
   ]
  },
  {
   "cell_type": "code",
   "execution_count": 1026,
   "id": "0db4b4ae",
   "metadata": {},
   "outputs": [
    {
     "data": {
      "text/plain": [
       "0.45999937256461493"
      ]
     },
     "execution_count": 1026,
     "metadata": {},
     "output_type": "execute_result"
    }
   ],
   "source": [
    "F1Measure(np.array(glove_y_test),np.array(predikcio_br_lr_glove.todense()))"
   ]
  },
  {
   "cell_type": "markdown",
   "id": "9f8c64ad",
   "metadata": {},
   "source": [
    "### SVM"
   ]
  },
  {
   "cell_type": "code",
   "execution_count": 911,
   "id": "33a8c346",
   "metadata": {},
   "outputs": [],
   "source": [
    "# binary relevance ml classifier\n",
    "# inicializálása svm base klasszifikálóval\n",
    "classifier = BinaryRelevance(SVC(kernel='linear'))"
   ]
  },
  {
   "cell_type": "code",
   "execution_count": 912,
   "id": "88712f62",
   "metadata": {},
   "outputs": [
    {
     "data": {
      "text/plain": [
       "BinaryRelevance(classifier=SVC(kernel='linear'), require_dense=[True, True])"
      ]
     },
     "execution_count": 912,
     "metadata": {},
     "output_type": "execute_result"
    }
   ],
   "source": [
    "# tanítás\n",
    "classifier.fit(glove_x_train_df, glove_y_train)"
   ]
  },
  {
   "cell_type": "code",
   "execution_count": 913,
   "id": "d0105e23",
   "metadata": {},
   "outputs": [],
   "source": [
    "# becslés a teszthalmazon\n",
    "predikcio_br_svm_glove = classifier.predict(glove_x_test_df)"
   ]
  },
  {
   "cell_type": "code",
   "execution_count": 914,
   "id": "9add6233",
   "metadata": {},
   "outputs": [
    {
     "data": {
      "text/plain": [
       "<2254x11 sparse matrix of type '<class 'numpy.int64'>'\n",
       "\twith 5135 stored elements in Compressed Sparse Column format>"
      ]
     },
     "execution_count": 914,
     "metadata": {},
     "output_type": "execute_result"
    }
   ],
   "source": [
    "# összehaonlítani: glove_y_test\n",
    "predikcio_br_svm_glove"
   ]
  },
  {
   "cell_type": "markdown",
   "id": "d0e7b3a2",
   "metadata": {},
   "source": [
    "#### Értékelés"
   ]
  },
  {
   "cell_type": "code",
   "execution_count": 1034,
   "id": "95079cb8",
   "metadata": {},
   "outputs": [
    {
     "name": "stdout",
     "output_type": "stream",
     "text": [
      "              precision    recall  f1-score   support\n",
      "\n",
      " distortion0       0.57      0.46      0.51      1090\n",
      " distortion1       0.79      1.00      0.88      1773\n",
      " distortion2       0.00      0.00      0.00       647\n",
      " distortion3       0.75      0.41      0.53       938\n",
      " distortion4       0.00      0.00      0.00       683\n",
      " distortion5       0.00      0.00      0.00       401\n",
      " distortion6       0.00      0.00      0.00       738\n",
      " distortion7       0.00      0.00      0.00       726\n",
      " distortion8       0.00      0.00      0.00       915\n",
      " distortion9       0.60      0.58      0.59      1119\n",
      "distortion10       0.59      0.23      0.33      1042\n",
      "\n",
      "   micro avg       0.69      0.35      0.47     10072\n",
      "   macro avg       0.30      0.24      0.26     10072\n",
      "weighted avg       0.40      0.35      0.36     10072\n",
      " samples avg       0.70      0.37      0.44     10072\n",
      "\n"
     ]
    }
   ],
   "source": [
    "print(classification_report(glove_y_test,predikcio_br_svm_glove,target_names = distortion_list))"
   ]
  },
  {
   "cell_type": "code",
   "execution_count": 1035,
   "id": "b0a5b76a",
   "metadata": {},
   "outputs": [
    {
     "data": {
      "text/plain": [
       "0.3266516092603049"
      ]
     },
     "execution_count": 1035,
     "metadata": {},
     "output_type": "execute_result"
    }
   ],
   "source": [
    "hamming_loss(glove_y_test,predikcio_br_svm_glove)"
   ]
  },
  {
   "cell_type": "code",
   "execution_count": 1036,
   "id": "ab2d33b5",
   "metadata": {},
   "outputs": [
    {
     "data": {
      "text/plain": [
       "0.43504658114240957"
      ]
     },
     "execution_count": 1036,
     "metadata": {},
     "output_type": "execute_result"
    }
   ],
   "source": [
    "F1Measure(np.array(glove_y_test),np.array(predikcio_br_svm_glove.todense()))"
   ]
  },
  {
   "cell_type": "markdown",
   "id": "47c444f5",
   "metadata": {},
   "source": [
    "### Naive Bayes"
   ]
  },
  {
   "cell_type": "code",
   "execution_count": 916,
   "id": "b982f180",
   "metadata": {},
   "outputs": [],
   "source": [
    "# binary relevance ml classifier\n",
    "# inicializálása nb base klasszifikálóval\n",
    "classifier = BinaryRelevance(GaussianNB())"
   ]
  },
  {
   "cell_type": "code",
   "execution_count": 917,
   "id": "f21d83c0",
   "metadata": {},
   "outputs": [
    {
     "data": {
      "text/plain": [
       "BinaryRelevance(classifier=GaussianNB(), require_dense=[True, True])"
      ]
     },
     "execution_count": 917,
     "metadata": {},
     "output_type": "execute_result"
    }
   ],
   "source": [
    "# tanítás\n",
    "classifier.fit(glove_x_train_df, glove_y_train)"
   ]
  },
  {
   "cell_type": "code",
   "execution_count": 918,
   "id": "12ef66ee",
   "metadata": {},
   "outputs": [],
   "source": [
    "# becslés a teszthalmazon\n",
    "predikcio_br_nb_glove = classifier.predict(glove_x_test_df)"
   ]
  },
  {
   "cell_type": "code",
   "execution_count": 921,
   "id": "6f78f6c5",
   "metadata": {},
   "outputs": [
    {
     "data": {
      "text/plain": [
       "<2254x11 sparse matrix of type '<class 'numpy.int64'>'\n",
       "\twith 13656 stored elements in Compressed Sparse Column format>"
      ]
     },
     "execution_count": 921,
     "metadata": {},
     "output_type": "execute_result"
    }
   ],
   "source": [
    "# összehaonlítani: glove_y_test\n",
    "predikcio_br_nb_glove"
   ]
  },
  {
   "cell_type": "markdown",
   "id": "ffc0650f",
   "metadata": {},
   "source": [
    "#### Értékelés"
   ]
  },
  {
   "cell_type": "code",
   "execution_count": 1038,
   "id": "f8c6ab56",
   "metadata": {},
   "outputs": [
    {
     "name": "stdout",
     "output_type": "stream",
     "text": [
      "              precision    recall  f1-score   support\n",
      "\n",
      " distortion0       0.50      0.70      0.58      1090\n",
      " distortion1       0.79      0.79      0.79      1773\n",
      " distortion2       0.35      0.65      0.46       647\n",
      " distortion3       0.48      0.71      0.57       938\n",
      " distortion4       0.39      0.43      0.41       683\n",
      " distortion5       0.23      0.30      0.26       401\n",
      " distortion6       0.37      0.51      0.43       738\n",
      " distortion7       0.39      0.57      0.46       726\n",
      " distortion8       0.42      0.67      0.52       915\n",
      " distortion9       0.52      0.70      0.60      1119\n",
      "distortion10       0.49      0.70      0.58      1042\n",
      "\n",
      "   micro avg       0.48      0.65      0.55     10072\n",
      "   macro avg       0.45      0.61      0.51     10072\n",
      "weighted avg       0.50      0.65      0.56     10072\n",
      " samples avg       0.46      0.62      0.48     10072\n",
      "\n"
     ]
    }
   ],
   "source": [
    "print(classification_report(glove_y_test,predikcio_br_nb_glove,target_names = distortion_list))"
   ]
  },
  {
   "cell_type": "code",
   "execution_count": 1039,
   "id": "dbba5913",
   "metadata": {},
   "outputs": [
    {
     "data": {
      "text/plain": [
       "0.42663547632491733"
      ]
     },
     "execution_count": 1039,
     "metadata": {},
     "output_type": "execute_result"
    }
   ],
   "source": [
    "hamming_loss(glove_y_test,predikcio_br_nb_glove)"
   ]
  },
  {
   "cell_type": "code",
   "execution_count": 1040,
   "id": "8361212a",
   "metadata": {},
   "outputs": [
    {
     "data": {
      "text/plain": [
       "0.47755455562254345"
      ]
     },
     "execution_count": 1040,
     "metadata": {},
     "output_type": "execute_result"
    }
   ],
   "source": [
    "F1Measure(np.array(glove_y_test),np.array(predikcio_br_nb_glove.todense()))"
   ]
  },
  {
   "cell_type": "markdown",
   "id": "21734268",
   "metadata": {},
   "source": [
    "# Klasszifikáló láncok"
   ]
  },
  {
   "cell_type": "code",
   "execution_count": 123,
   "id": "a2c4f880",
   "metadata": {},
   "outputs": [],
   "source": [
    "from skmultilearn.problem_transform import ClassifierChain"
   ]
  },
  {
   "cell_type": "markdown",
   "id": "c45e0286",
   "metadata": {},
   "source": [
    "## Szógyakoriság"
   ]
  },
  {
   "cell_type": "code",
   "execution_count": 1043,
   "id": "4aeb3ee6",
   "metadata": {},
   "outputs": [],
   "source": [
    "# count_x_train, y_train\n",
    "# count_x_test, y_test"
   ]
  },
  {
   "cell_type": "markdown",
   "id": "170152e3",
   "metadata": {},
   "source": [
    "### LogReg"
   ]
  },
  {
   "cell_type": "code",
   "execution_count": 1044,
   "id": "91202b72",
   "metadata": {},
   "outputs": [],
   "source": [
    "# binary relevance ml classifier\n",
    "# inicializálása logreg base klasszifikálóval\n",
    "classifier = ClassifierChain(LogisticRegression(solver='saga'))"
   ]
  },
  {
   "cell_type": "code",
   "execution_count": 1045,
   "id": "d95d9ebf",
   "metadata": {},
   "outputs": [
    {
     "data": {
      "text/plain": [
       "ClassifierChain(classifier=LogisticRegression(solver='saga'),\n",
       "                require_dense=[True, True])"
      ]
     },
     "execution_count": 1045,
     "metadata": {},
     "output_type": "execute_result"
    }
   ],
   "source": [
    "# tanítás\n",
    "classifier.fit(count_x_train, y_train)"
   ]
  },
  {
   "cell_type": "code",
   "execution_count": 1046,
   "id": "5d3d8e60",
   "metadata": {},
   "outputs": [],
   "source": [
    "# becslés a teszthalmazon\n",
    "predikcio_cc_lr_count = classifier.predict(count_x_test)"
   ]
  },
  {
   "cell_type": "code",
   "execution_count": 1047,
   "id": "a5ed8562",
   "metadata": {},
   "outputs": [
    {
     "data": {
      "text/plain": [
       "<2254x11 sparse matrix of type '<class 'numpy.int64'>'\n",
       "\twith 6968 stored elements in Compressed Sparse Column format>"
      ]
     },
     "execution_count": 1047,
     "metadata": {},
     "output_type": "execute_result"
    }
   ],
   "source": [
    "# összehaonlítani: y_test\n",
    "predikcio_cc_lr_count"
   ]
  },
  {
   "cell_type": "markdown",
   "id": "36e87ad2",
   "metadata": {},
   "source": [
    "#### Értékelés"
   ]
  },
  {
   "cell_type": "code",
   "execution_count": 121,
   "id": "14134f91",
   "metadata": {},
   "outputs": [
    {
     "ename": "NameError",
     "evalue": "name 'predikcio_cc_lr_count' is not defined",
     "output_type": "error",
     "traceback": [
      "\u001b[0;31m---------------------------------------------------------------------------\u001b[0m",
      "\u001b[0;31mNameError\u001b[0m                                 Traceback (most recent call last)",
      "\u001b[0;32m/var/folders/3y/wzt94zvd3gvfx871mcf79txr0000gn/T/ipykernel_16178/2641840069.py\u001b[0m in \u001b[0;36m<module>\u001b[0;34m\u001b[0m\n\u001b[0;32m----> 1\u001b[0;31m \u001b[0mprint\u001b[0m\u001b[0;34m(\u001b[0m\u001b[0mclassification_report\u001b[0m\u001b[0;34m(\u001b[0m\u001b[0my_test\u001b[0m\u001b[0;34m,\u001b[0m\u001b[0mpredikcio_cc_lr_count\u001b[0m\u001b[0;34m,\u001b[0m\u001b[0mtarget_names\u001b[0m \u001b[0;34m=\u001b[0m \u001b[0mdistortion_list\u001b[0m\u001b[0;34m)\u001b[0m\u001b[0;34m)\u001b[0m\u001b[0;34m\u001b[0m\u001b[0;34m\u001b[0m\u001b[0m\n\u001b[0m",
      "\u001b[0;31mNameError\u001b[0m: name 'predikcio_cc_lr_count' is not defined"
     ]
    }
   ],
   "source": [
    "print(classification_report(y_test,predikcio_cc_lr_count,target_names = distortion_list))"
   ]
  },
  {
   "cell_type": "code",
   "execution_count": 1058,
   "id": "0a97af5d",
   "metadata": {},
   "outputs": [
    {
     "data": {
      "text/plain": [
       "0.34153424215536016"
      ]
     },
     "execution_count": 1058,
     "metadata": {},
     "output_type": "execute_result"
    }
   ],
   "source": [
    "hamming_loss(y_test,predikcio_cc_lr_count)"
   ]
  },
  {
   "cell_type": "code",
   "execution_count": 1059,
   "id": "00bc5222",
   "metadata": {},
   "outputs": [
    {
     "data": {
      "text/plain": [
       "0.43973361976811454"
      ]
     },
     "execution_count": 1059,
     "metadata": {},
     "output_type": "execute_result"
    }
   ],
   "source": [
    "F1Measure(np.array(y_test),np.array(predikcio_cc_lr_count.todense()))"
   ]
  },
  {
   "cell_type": "markdown",
   "id": "de9ebb6f",
   "metadata": {},
   "source": [
    "### SVM"
   ]
  },
  {
   "cell_type": "code",
   "execution_count": 1048,
   "id": "b7368c9c",
   "metadata": {},
   "outputs": [],
   "source": [
    "# binary relevance ml classifier\n",
    "# inicializálása svm base klasszifikálóval\n",
    "classifier = ClassifierChain(SVC(kernel='linear'))"
   ]
  },
  {
   "cell_type": "code",
   "execution_count": 1049,
   "id": "d8e1cffd",
   "metadata": {},
   "outputs": [
    {
     "data": {
      "text/plain": [
       "ClassifierChain(classifier=SVC(kernel='linear'), require_dense=[True, True])"
      ]
     },
     "execution_count": 1049,
     "metadata": {},
     "output_type": "execute_result"
    }
   ],
   "source": [
    "# tanítás\n",
    "classifier.fit(count_x_train, y_train)"
   ]
  },
  {
   "cell_type": "code",
   "execution_count": 1051,
   "id": "332cf1e3",
   "metadata": {},
   "outputs": [],
   "source": [
    "# becslés a teszthalmazon\n",
    "predikcio_cc_svm_count = classifier.predict(count_x_test)"
   ]
  },
  {
   "cell_type": "code",
   "execution_count": 1052,
   "id": "9e516c9c",
   "metadata": {},
   "outputs": [
    {
     "data": {
      "text/plain": [
       "<2254x11 sparse matrix of type '<class 'numpy.int64'>'\n",
       "\twith 7436 stored elements in Compressed Sparse Column format>"
      ]
     },
     "execution_count": 1052,
     "metadata": {},
     "output_type": "execute_result"
    }
   ],
   "source": [
    "# összehaonlítani: y_test\n",
    "predikcio_cc_svm_count"
   ]
  },
  {
   "cell_type": "markdown",
   "id": "966999ed",
   "metadata": {},
   "source": [
    "#### Értékelés"
   ]
  },
  {
   "cell_type": "code",
   "execution_count": 1060,
   "id": "70eb97e6",
   "metadata": {},
   "outputs": [
    {
     "name": "stdout",
     "output_type": "stream",
     "text": [
      "              precision    recall  f1-score   support\n",
      "\n",
      " distortion0       0.55      0.48      0.52      1090\n",
      " distortion1       0.79      0.96      0.87      1773\n",
      " distortion2       0.50      0.27      0.35       647\n",
      " distortion3       0.63      0.49      0.55       938\n",
      " distortion4       0.41      0.19      0.26       683\n",
      " distortion5       0.36      0.13      0.19       401\n",
      " distortion6       0.40      0.18      0.25       738\n",
      " distortion7       0.43      0.20      0.27       726\n",
      " distortion8       0.45      0.27      0.34       915\n",
      " distortion9       0.59      0.44      0.51      1119\n",
      "distortion10       0.54      0.37      0.44      1042\n",
      "\n",
      "   micro avg       0.60      0.44      0.51     10072\n",
      "   macro avg       0.51      0.36      0.41     10072\n",
      "weighted avg       0.55      0.44      0.48     10072\n",
      " samples avg       0.64      0.45      0.45     10072\n",
      "\n"
     ]
    }
   ],
   "source": [
    "print(classification_report(y_test,predikcio_cc_svm_count,target_names = distortion_list))"
   ]
  },
  {
   "cell_type": "code",
   "execution_count": 1061,
   "id": "3dcf862f",
   "metadata": {},
   "outputs": [
    {
     "data": {
      "text/plain": [
       "0.34597079938694847"
      ]
     },
     "execution_count": 1061,
     "metadata": {},
     "output_type": "execute_result"
    }
   ],
   "source": [
    "hamming_loss(y_test,predikcio_cc_svm_count)"
   ]
  },
  {
   "cell_type": "code",
   "execution_count": 1062,
   "id": "46946cbb",
   "metadata": {},
   "outputs": [
    {
     "data": {
      "text/plain": [
       "0.4493764646193332"
      ]
     },
     "execution_count": 1062,
     "metadata": {},
     "output_type": "execute_result"
    }
   ],
   "source": [
    "F1Measure(np.array(y_test),np.array(predikcio_cc_svm_count.todense()))"
   ]
  },
  {
   "cell_type": "markdown",
   "id": "e418e44a",
   "metadata": {},
   "source": [
    "### NB"
   ]
  },
  {
   "cell_type": "code",
   "execution_count": 124,
   "id": "b48d19d1",
   "metadata": {},
   "outputs": [],
   "source": [
    "# binary relevance ml classifier\n",
    "# inicializálása nb base klasszifikálóval\n",
    "classifier = ClassifierChain(MultinomialNB())"
   ]
  },
  {
   "cell_type": "code",
   "execution_count": 125,
   "id": "bc5aab19",
   "metadata": {},
   "outputs": [
    {
     "data": {
      "text/plain": [
       "ClassifierChain(classifier=MultinomialNB(), require_dense=[True, True])"
      ]
     },
     "execution_count": 125,
     "metadata": {},
     "output_type": "execute_result"
    }
   ],
   "source": [
    "# tanítás\n",
    "classifier.fit(count_x_train, y_train)"
   ]
  },
  {
   "cell_type": "code",
   "execution_count": 126,
   "id": "889670cb",
   "metadata": {},
   "outputs": [],
   "source": [
    "# becslés a teszthalmazon\n",
    "predikcio_cc_nb_count = classifier.predict(count_x_test)"
   ]
  },
  {
   "cell_type": "code",
   "execution_count": 127,
   "id": "bd8f1377",
   "metadata": {},
   "outputs": [
    {
     "data": {
      "text/plain": [
       "<2254x11 sparse matrix of type '<class 'numpy.int64'>'\n",
       "\twith 7722 stored elements in Compressed Sparse Column format>"
      ]
     },
     "execution_count": 127,
     "metadata": {},
     "output_type": "execute_result"
    }
   ],
   "source": [
    "# összehaonlítani: y_test\n",
    "predikcio_cc_nb_count"
   ]
  },
  {
   "cell_type": "markdown",
   "id": "07d07f77",
   "metadata": {},
   "source": [
    "#### Értékelés"
   ]
  },
  {
   "cell_type": "code",
   "execution_count": 128,
   "id": "cfefcdb0",
   "metadata": {},
   "outputs": [
    {
     "name": "stdout",
     "output_type": "stream",
     "text": [
      "              precision    recall  f1-score   support\n",
      "\n",
      " distortion0       0.56      0.54      0.55      1090\n",
      " distortion1       0.79      0.97      0.87      1773\n",
      " distortion2       0.56      0.28      0.38       647\n",
      " distortion3       0.64      0.53      0.58       938\n",
      " distortion4       0.47      0.19      0.27       683\n",
      " distortion5       0.37      0.08      0.13       401\n",
      " distortion6       0.39      0.14      0.21       738\n",
      " distortion7       0.44      0.20      0.27       726\n",
      " distortion8       0.45      0.26      0.33       915\n",
      " distortion9       0.59      0.55      0.57      1119\n",
      "distortion10       0.54      0.44      0.49      1042\n",
      "\n",
      "   micro avg       0.61      0.47      0.53     10072\n",
      "   macro avg       0.53      0.38      0.42     10072\n",
      "weighted avg       0.56      0.47      0.49     10072\n",
      " samples avg       0.64      0.47      0.47     10072\n",
      "\n"
     ]
    }
   ],
   "source": [
    "print(classification_report(y_test,predikcio_cc_nb_count,target_names = distortion_list))"
   ]
  },
  {
   "cell_type": "code",
   "execution_count": 129,
   "id": "bae44d4f",
   "metadata": {},
   "outputs": [
    {
     "data": {
      "text/plain": [
       "0.33814632572396547"
      ]
     },
     "execution_count": 129,
     "metadata": {},
     "output_type": "execute_result"
    }
   ],
   "source": [
    "hamming_loss(y_test,predikcio_cc_nb_count)"
   ]
  },
  {
   "cell_type": "code",
   "execution_count": 130,
   "id": "07cc5bac",
   "metadata": {},
   "outputs": [
    {
     "data": {
      "text/plain": [
       "0.47308166771106286"
      ]
     },
     "execution_count": 130,
     "metadata": {},
     "output_type": "execute_result"
    }
   ],
   "source": [
    "F1Measure(np.array(y_test),np.array(predikcio_cc_nb_count.todense()))"
   ]
  },
  {
   "cell_type": "markdown",
   "id": "26bb21e9",
   "metadata": {},
   "source": [
    "## TF-IDF"
   ]
  },
  {
   "cell_type": "code",
   "execution_count": 1050,
   "id": "3a3ff6b6",
   "metadata": {},
   "outputs": [],
   "source": [
    "# tf_idf_x_train, y_train\n",
    "# tf_idf_x_test, y_test"
   ]
  },
  {
   "cell_type": "markdown",
   "id": "81040ecb",
   "metadata": {},
   "source": [
    "### LogReg"
   ]
  },
  {
   "cell_type": "code",
   "execution_count": 1070,
   "id": "3d1dc55c",
   "metadata": {},
   "outputs": [],
   "source": [
    "# binary relevance ml classifier\n",
    "# inicializálása logreg base klasszifikálóval\n",
    "classifier = ClassifierChain(LogisticRegression(solver='saga'))"
   ]
  },
  {
   "cell_type": "code",
   "execution_count": 1071,
   "id": "f4becbbc",
   "metadata": {},
   "outputs": [
    {
     "data": {
      "text/plain": [
       "ClassifierChain(classifier=LogisticRegression(solver='saga'),\n",
       "                require_dense=[True, True])"
      ]
     },
     "execution_count": 1071,
     "metadata": {},
     "output_type": "execute_result"
    }
   ],
   "source": [
    "# tanítás\n",
    "classifier.fit(tf_idf_x_train, y_train)"
   ]
  },
  {
   "cell_type": "code",
   "execution_count": 1072,
   "id": "bc2fe590",
   "metadata": {},
   "outputs": [],
   "source": [
    "# becslés a teszthalmazon\n",
    "predikcio_cc_lr_tf_idf = classifier.predict(tf_idf_x_test)"
   ]
  },
  {
   "cell_type": "code",
   "execution_count": 1073,
   "id": "958288cc",
   "metadata": {},
   "outputs": [
    {
     "data": {
      "text/plain": [
       "<2254x11 sparse matrix of type '<class 'numpy.float64'>'\n",
       "\twith 6596 stored elements in Compressed Sparse Column format>"
      ]
     },
     "execution_count": 1073,
     "metadata": {},
     "output_type": "execute_result"
    }
   ],
   "source": [
    "# összehaonlítani: y_test\n",
    "predikcio_cc_lr_tf_idf"
   ]
  },
  {
   "cell_type": "markdown",
   "id": "27cbc5e5",
   "metadata": {},
   "source": [
    "#### Értékelés"
   ]
  },
  {
   "cell_type": "code",
   "execution_count": 1074,
   "id": "d07d1bf0",
   "metadata": {},
   "outputs": [
    {
     "name": "stdout",
     "output_type": "stream",
     "text": [
      "              precision    recall  f1-score   support\n",
      "\n",
      " distortion0       0.57      0.50      0.54      1090\n",
      " distortion1       0.79      0.99      0.88      1773\n",
      " distortion2       0.54      0.21      0.31       647\n",
      " distortion3       0.64      0.51      0.56       938\n",
      " distortion4       0.49      0.14      0.22       683\n",
      " distortion5       0.63      0.08      0.14       401\n",
      " distortion6       0.44      0.12      0.19       738\n",
      " distortion7       0.44      0.11      0.18       726\n",
      " distortion8       0.45      0.19      0.27       915\n",
      " distortion9       0.60      0.40      0.48      1119\n",
      "distortion10       0.55      0.33      0.42      1042\n",
      "\n",
      "   micro avg       0.64      0.42      0.50     10072\n",
      "   macro avg       0.56      0.33      0.38     10072\n",
      "weighted avg       0.58      0.42      0.45     10072\n",
      " samples avg       0.69      0.42      0.44     10072\n",
      "\n"
     ]
    }
   ],
   "source": [
    "print(classification_report(y_test,predikcio_cc_lr_tf_idf,target_names = distortion_list))"
   ]
  },
  {
   "cell_type": "code",
   "execution_count": 1075,
   "id": "e8699346",
   "metadata": {},
   "outputs": [
    {
     "data": {
      "text/plain": [
       "0.33387109784625313"
      ]
     },
     "execution_count": 1075,
     "metadata": {},
     "output_type": "execute_result"
    }
   ],
   "source": [
    "hamming_loss(y_test,predikcio_cc_lr_tf_idf)"
   ]
  },
  {
   "cell_type": "code",
   "execution_count": 1076,
   "id": "ca4ae88e",
   "metadata": {},
   "outputs": [
    {
     "data": {
      "text/plain": [
       "0.4437297517041874"
      ]
     },
     "execution_count": 1076,
     "metadata": {},
     "output_type": "execute_result"
    }
   ],
   "source": [
    "F1Measure(np.array(y_test),np.array(predikcio_cc_lr_tf_idf.todense()))"
   ]
  },
  {
   "cell_type": "markdown",
   "id": "b5e07649",
   "metadata": {},
   "source": [
    "### SVM"
   ]
  },
  {
   "cell_type": "code",
   "execution_count": 1077,
   "id": "ab0ce191",
   "metadata": {},
   "outputs": [],
   "source": [
    "# binary relevance ml classifier\n",
    "# inicializálása svm base klasszifikálóval\n",
    "classifier = ClassifierChain(SVC(kernel='linear'))"
   ]
  },
  {
   "cell_type": "code",
   "execution_count": 1078,
   "id": "4726138f",
   "metadata": {},
   "outputs": [
    {
     "data": {
      "text/plain": [
       "ClassifierChain(classifier=SVC(kernel='linear'), require_dense=[True, True])"
      ]
     },
     "execution_count": 1078,
     "metadata": {},
     "output_type": "execute_result"
    }
   ],
   "source": [
    "# tanítás\n",
    "classifier.fit(tf_idf_x_train, y_train)"
   ]
  },
  {
   "cell_type": "code",
   "execution_count": 1079,
   "id": "02659c7e",
   "metadata": {},
   "outputs": [],
   "source": [
    "# becslés a teszthalmazon\n",
    "predikcio_cc_svm_tf_idf = classifier.predict(tf_idf_x_test)"
   ]
  },
  {
   "cell_type": "code",
   "execution_count": 1080,
   "id": "6f504f79",
   "metadata": {},
   "outputs": [
    {
     "data": {
      "text/plain": [
       "<2254x11 sparse matrix of type '<class 'numpy.float64'>'\n",
       "\twith 6561 stored elements in Compressed Sparse Column format>"
      ]
     },
     "execution_count": 1080,
     "metadata": {},
     "output_type": "execute_result"
    }
   ],
   "source": [
    "# összehaonlítani: y_test\n",
    "predikcio_cc_svm_tf_idf"
   ]
  },
  {
   "cell_type": "code",
   "execution_count": 1081,
   "id": "aaa9e8b0",
   "metadata": {},
   "outputs": [],
   "source": [
    "#### Értékelés"
   ]
  },
  {
   "cell_type": "code",
   "execution_count": 1082,
   "id": "3ab5a68e",
   "metadata": {},
   "outputs": [
    {
     "name": "stdout",
     "output_type": "stream",
     "text": [
      "              precision    recall  f1-score   support\n",
      "\n",
      " distortion0       0.56      0.50      0.53      1090\n",
      " distortion1       0.79      1.00      0.88      1773\n",
      " distortion2       0.52      0.20      0.29       647\n",
      " distortion3       0.64      0.49      0.56       938\n",
      " distortion4       0.46      0.12      0.19       683\n",
      " distortion5       0.71      0.08      0.15       401\n",
      " distortion6       0.42      0.10      0.16       738\n",
      " distortion7       0.46      0.09      0.16       726\n",
      " distortion8       0.46      0.19      0.27       915\n",
      " distortion9       0.62      0.42      0.50      1119\n",
      "distortion10       0.54      0.35      0.42      1042\n",
      "\n",
      "   micro avg       0.64      0.41      0.50     10072\n",
      "   macro avg       0.56      0.32      0.37     10072\n",
      "weighted avg       0.58      0.41      0.45     10072\n",
      " samples avg       0.68      0.42      0.45     10072\n",
      "\n"
     ]
    }
   ],
   "source": [
    "print(classification_report(y_test,predikcio_cc_svm_tf_idf,target_names = distortion_list))"
   ]
  },
  {
   "cell_type": "code",
   "execution_count": 1083,
   "id": "261af7ba",
   "metadata": {},
   "outputs": [
    {
     "data": {
      "text/plain": [
       "0.33391143018472214"
      ]
     },
     "execution_count": 1083,
     "metadata": {},
     "output_type": "execute_result"
    }
   ],
   "source": [
    "hamming_loss(y_test,predikcio_cc_svm_tf_idf)"
   ]
  },
  {
   "cell_type": "code",
   "execution_count": 1084,
   "id": "490720c5",
   "metadata": {},
   "outputs": [
    {
     "data": {
      "text/plain": [
       "0.4505926471506737"
      ]
     },
     "execution_count": 1084,
     "metadata": {},
     "output_type": "execute_result"
    }
   ],
   "source": [
    "F1Measure(np.array(y_test),np.array(predikcio_cc_svm_tf_idf.todense()))"
   ]
  },
  {
   "cell_type": "markdown",
   "id": "0adfb4cb",
   "metadata": {},
   "source": [
    "### NB"
   ]
  },
  {
   "cell_type": "code",
   "execution_count": 1085,
   "id": "9e93467e",
   "metadata": {},
   "outputs": [],
   "source": [
    "# binary relevance ml classifier\n",
    "# inicializálása nb base klasszifikálóval\n",
    "classifier = ClassifierChain(MultinomialNB())"
   ]
  },
  {
   "cell_type": "code",
   "execution_count": 1086,
   "id": "1a23a1ec",
   "metadata": {},
   "outputs": [
    {
     "data": {
      "text/plain": [
       "ClassifierChain(classifier=MultinomialNB(), require_dense=[True, True])"
      ]
     },
     "execution_count": 1086,
     "metadata": {},
     "output_type": "execute_result"
    }
   ],
   "source": [
    "# tanítás\n",
    "classifier.fit(tf_idf_x_train, y_train)"
   ]
  },
  {
   "cell_type": "code",
   "execution_count": 1087,
   "id": "5ce33540",
   "metadata": {},
   "outputs": [],
   "source": [
    "# becslés a teszthalmazon\n",
    "predikcio_cc_nb_tf_idf = classifier.predict(tf_idf_x_test)"
   ]
  },
  {
   "cell_type": "code",
   "execution_count": null,
   "id": "1e79c429",
   "metadata": {},
   "outputs": [],
   "source": [
    "# összehaonlítani: y_test\n",
    "predikcio_cc_nb_tf_idf"
   ]
  },
  {
   "cell_type": "markdown",
   "id": "dd630010",
   "metadata": {},
   "source": [
    "#### Értékelés"
   ]
  },
  {
   "cell_type": "code",
   "execution_count": 1088,
   "id": "50450aaa",
   "metadata": {},
   "outputs": [
    {
     "name": "stdout",
     "output_type": "stream",
     "text": [
      "              precision    recall  f1-score   support\n",
      "\n",
      " distortion0       0.56      0.46      0.51      1090\n",
      " distortion1       0.79      1.00      0.88      1773\n",
      " distortion2       0.60      0.04      0.07       647\n",
      " distortion3       0.66      0.38      0.48       938\n",
      " distortion4       0.71      0.02      0.04       683\n",
      " distortion5       1.00      0.00      0.01       401\n",
      " distortion6       0.55      0.01      0.03       738\n",
      " distortion7       0.54      0.02      0.04       726\n",
      " distortion8       0.51      0.06      0.11       915\n",
      " distortion9       0.62      0.35      0.44      1119\n",
      "distortion10       0.56      0.24      0.34      1042\n",
      "\n",
      "   micro avg       0.68      0.34      0.45     10072\n",
      "   macro avg       0.65      0.24      0.27     10072\n",
      "weighted avg       0.64      0.34      0.36     10072\n",
      " samples avg       0.71      0.36      0.41     10072\n",
      "\n"
     ]
    }
   ],
   "source": [
    "print(classification_report(y_test,predikcio_cc_nb_tf_idf,target_names = distortion_list))"
   ]
  },
  {
   "cell_type": "code",
   "execution_count": 1089,
   "id": "9950e264",
   "metadata": {},
   "outputs": [
    {
     "data": {
      "text/plain": [
       "0.3335081068000323"
      ]
     },
     "execution_count": 1089,
     "metadata": {},
     "output_type": "execute_result"
    }
   ],
   "source": [
    "hamming_loss(y_test,predikcio_cc_nb_tf_idf)"
   ]
  },
  {
   "cell_type": "code",
   "execution_count": 1090,
   "id": "c3da602a",
   "metadata": {},
   "outputs": [
    {
     "data": {
      "text/plain": [
       "0.41304822118741397"
      ]
     },
     "execution_count": 1090,
     "metadata": {},
     "output_type": "execute_result"
    }
   ],
   "source": [
    "F1Measure(np.array(y_test),np.array(predikcio_cc_nb_tf_idf.todense()))"
   ]
  },
  {
   "cell_type": "markdown",
   "id": "3eef713c",
   "metadata": {},
   "source": [
    "## Word2Vec"
   ]
  },
  {
   "cell_type": "code",
   "execution_count": null,
   "id": "b9f4f86e",
   "metadata": {},
   "outputs": [],
   "source": [
    "# w2v_x_train_df, w2v_y_train\n",
    "# w2v_x_test_df, w2v_y_test"
   ]
  },
  {
   "cell_type": "markdown",
   "id": "e914fe79",
   "metadata": {},
   "source": [
    "### LogReg"
   ]
  },
  {
   "cell_type": "code",
   "execution_count": 1091,
   "id": "ae630348",
   "metadata": {},
   "outputs": [],
   "source": [
    "# binary relevance ml classifier\n",
    "# inicializálása nb base klasszifikálóval\n",
    "classifier = ClassifierChain(LogisticRegression(solver='saga'))"
   ]
  },
  {
   "cell_type": "code",
   "execution_count": 1092,
   "id": "f196aa62",
   "metadata": {},
   "outputs": [
    {
     "data": {
      "text/plain": [
       "ClassifierChain(classifier=LogisticRegression(solver='saga'),\n",
       "                require_dense=[True, True])"
      ]
     },
     "execution_count": 1092,
     "metadata": {},
     "output_type": "execute_result"
    }
   ],
   "source": [
    "# tanítás\n",
    "classifier.fit(w2v_x_train_df, w2v_y_train)"
   ]
  },
  {
   "cell_type": "code",
   "execution_count": 1093,
   "id": "2feae5c9",
   "metadata": {},
   "outputs": [],
   "source": [
    "# becslés a teszthalmazon\n",
    "predikcio_cc_lr_w2v = classifier.predict(w2v_x_test_df)"
   ]
  },
  {
   "cell_type": "code",
   "execution_count": 1094,
   "id": "f4913d14",
   "metadata": {},
   "outputs": [
    {
     "data": {
      "text/plain": [
       "<2254x11 sparse matrix of type '<class 'numpy.float64'>'\n",
       "\twith 5851 stored elements in Compressed Sparse Column format>"
      ]
     },
     "execution_count": 1094,
     "metadata": {},
     "output_type": "execute_result"
    }
   ],
   "source": [
    "# összehaonlítani: w2v_y_test\n",
    "predikcio_cc_lr_w2v"
   ]
  },
  {
   "cell_type": "markdown",
   "id": "81c564cf",
   "metadata": {},
   "source": [
    "#### Értékelés"
   ]
  },
  {
   "cell_type": "code",
   "execution_count": 1095,
   "id": "edd672bf",
   "metadata": {},
   "outputs": [
    {
     "name": "stdout",
     "output_type": "stream",
     "text": [
      "              precision    recall  f1-score   support\n",
      "\n",
      " distortion0       0.58      0.47      0.52      1090\n",
      " distortion1       0.79      0.99      0.88      1773\n",
      " distortion2       0.54      0.15      0.23       647\n",
      " distortion3       0.64      0.46      0.54       938\n",
      " distortion4       0.47      0.08      0.14       683\n",
      " distortion5       0.33      0.02      0.04       401\n",
      " distortion6       0.52      0.09      0.15       738\n",
      " distortion7       0.43      0.07      0.12       726\n",
      " distortion8       0.46      0.11      0.18       915\n",
      " distortion9       0.60      0.36      0.45      1119\n",
      "distortion10       0.53      0.30      0.38      1042\n",
      "\n",
      "   micro avg       0.65      0.38      0.48     10072\n",
      "   macro avg       0.54      0.28      0.33     10072\n",
      "weighted avg       0.57      0.38      0.41     10072\n",
      " samples avg       0.70      0.39      0.42     10072\n",
      "\n"
     ]
    }
   ],
   "source": [
    "print(classification_report(w2v_y_test,predikcio_cc_lr_w2v,target_names = distortion_list))"
   ]
  },
  {
   "cell_type": "code",
   "execution_count": 1096,
   "id": "da080927",
   "metadata": {},
   "outputs": [
    {
     "data": {
      "text/plain": [
       "0.3352827296926676"
      ]
     },
     "execution_count": 1096,
     "metadata": {},
     "output_type": "execute_result"
    }
   ],
   "source": [
    "hamming_loss(w2v_y_test,predikcio_cc_lr_w2v)"
   ]
  },
  {
   "cell_type": "code",
   "execution_count": 1097,
   "id": "43923721",
   "metadata": {},
   "outputs": [
    {
     "data": {
      "text/plain": [
       "0.42402311972673185"
      ]
     },
     "execution_count": 1097,
     "metadata": {},
     "output_type": "execute_result"
    }
   ],
   "source": [
    "F1Measure(np.array(w2v_y_test),np.array(predikcio_cc_lr_w2v.todense()))"
   ]
  },
  {
   "cell_type": "markdown",
   "id": "c8372a18",
   "metadata": {},
   "source": [
    "### SVM"
   ]
  },
  {
   "cell_type": "code",
   "execution_count": 1098,
   "id": "01c940e7",
   "metadata": {},
   "outputs": [],
   "source": [
    "# binary relevance ml classifier\n",
    "# inicializálása svm base klasszifikálóval\n",
    "classifier = ClassifierChain(SVC(kernel='linear'))"
   ]
  },
  {
   "cell_type": "code",
   "execution_count": 1099,
   "id": "450753fd",
   "metadata": {},
   "outputs": [
    {
     "data": {
      "text/plain": [
       "ClassifierChain(classifier=SVC(kernel='linear'), require_dense=[True, True])"
      ]
     },
     "execution_count": 1099,
     "metadata": {},
     "output_type": "execute_result"
    }
   ],
   "source": [
    "# tanítás\n",
    "classifier.fit(w2v_x_train_df, w2v_y_train)"
   ]
  },
  {
   "cell_type": "code",
   "execution_count": 1100,
   "id": "daad0833",
   "metadata": {},
   "outputs": [],
   "source": [
    "# becslés a teszthalmazon\n",
    "predikcio_cc_svm_w2v = classifier.predict(w2v_x_test_df)"
   ]
  },
  {
   "cell_type": "code",
   "execution_count": 1101,
   "id": "751ad645",
   "metadata": {},
   "outputs": [
    {
     "data": {
      "text/plain": [
       "<2254x11 sparse matrix of type '<class 'numpy.float64'>'\n",
       "\twith 4751 stored elements in Compressed Sparse Column format>"
      ]
     },
     "execution_count": 1101,
     "metadata": {},
     "output_type": "execute_result"
    }
   ],
   "source": [
    "# összehaonlítani: w2v_y_test\n",
    "predikcio_cc_svm_w2v"
   ]
  },
  {
   "cell_type": "markdown",
   "id": "ecca1bad",
   "metadata": {},
   "source": [
    "#### Értékelés"
   ]
  },
  {
   "cell_type": "code",
   "execution_count": 1102,
   "id": "60f91eda",
   "metadata": {},
   "outputs": [
    {
     "name": "stdout",
     "output_type": "stream",
     "text": [
      "              precision    recall  f1-score   support\n",
      "\n",
      " distortion0       0.59      0.41      0.49      1090\n",
      " distortion1       0.79      1.00      0.88      1773\n",
      " distortion2       0.00      0.00      0.00       647\n",
      " distortion3       0.70      0.42      0.52       938\n",
      " distortion4       0.00      0.00      0.00       683\n",
      " distortion5       0.00      0.00      0.00       401\n",
      " distortion6       0.67      0.01      0.02       738\n",
      " distortion7       0.57      0.01      0.01       726\n",
      " distortion8       0.50      0.04      0.08       915\n",
      " distortion9       0.61      0.29      0.39      1119\n",
      "distortion10       0.52      0.26      0.35      1042\n",
      "\n",
      "   micro avg       0.69      0.32      0.44     10072\n",
      "   macro avg       0.45      0.22      0.25     10072\n",
      "weighted avg       0.52      0.32      0.35     10072\n",
      " samples avg       0.72      0.35      0.40     10072\n",
      "\n"
     ]
    }
   ],
   "source": [
    "print(classification_report(w2v_y_test,predikcio_cc_svm_w2v,target_names = distortion_list))"
   ]
  },
  {
   "cell_type": "code",
   "execution_count": 1103,
   "id": "6f3271b2",
   "metadata": {},
   "outputs": [
    {
     "data": {
      "text/plain": [
       "0.33407275953859805"
      ]
     },
     "execution_count": 1103,
     "metadata": {},
     "output_type": "execute_result"
    }
   ],
   "source": [
    "hamming_loss(w2v_y_test,predikcio_cc_svm_w2v)"
   ]
  },
  {
   "cell_type": "code",
   "execution_count": 1104,
   "id": "1e188b61",
   "metadata": {},
   "outputs": [
    {
     "data": {
      "text/plain": [
       "0.40140086055125906"
      ]
     },
     "execution_count": 1104,
     "metadata": {},
     "output_type": "execute_result"
    }
   ],
   "source": [
    "F1Measure(np.array(w2v_y_test),np.array(predikcio_cc_svm_w2v.todense()))"
   ]
  },
  {
   "cell_type": "markdown",
   "id": "5dcc3f9e",
   "metadata": {},
   "source": [
    "### NB"
   ]
  },
  {
   "cell_type": "code",
   "execution_count": 1142,
   "id": "f1c2ff1b",
   "metadata": {},
   "outputs": [],
   "source": [
    "# binary relevance ml classifier\n",
    "# inicializálása nb base klasszifikálóval\n",
    "classifier = ClassifierChain(GaussianNB())"
   ]
  },
  {
   "cell_type": "code",
   "execution_count": 1143,
   "id": "11f3185d",
   "metadata": {},
   "outputs": [
    {
     "data": {
      "text/plain": [
       "ClassifierChain(classifier=GaussianNB(), require_dense=[True, True])"
      ]
     },
     "execution_count": 1143,
     "metadata": {},
     "output_type": "execute_result"
    }
   ],
   "source": [
    "# tanítás\n",
    "classifier.fit(w2v_x_train_df, w2v_y_train)"
   ]
  },
  {
   "cell_type": "code",
   "execution_count": 1144,
   "id": "621da218",
   "metadata": {},
   "outputs": [],
   "source": [
    "# becslés a teszthalmazon\n",
    "predikcio_cc_nb_w2v = classifier.predict(w2v_x_test_df)"
   ]
  },
  {
   "cell_type": "code",
   "execution_count": 1145,
   "id": "214a9a64",
   "metadata": {},
   "outputs": [
    {
     "data": {
      "text/plain": [
       "<2254x11 sparse matrix of type '<class 'numpy.float64'>'\n",
       "\twith 13708 stored elements in Compressed Sparse Column format>"
      ]
     },
     "execution_count": 1145,
     "metadata": {},
     "output_type": "execute_result"
    }
   ],
   "source": [
    "# összehaonlítani: w2v_y_test\n",
    "predikcio_cc_nb_w2v"
   ]
  },
  {
   "cell_type": "markdown",
   "id": "ede99fc7",
   "metadata": {},
   "source": [
    "#### Értékelés"
   ]
  },
  {
   "cell_type": "code",
   "execution_count": 1146,
   "id": "18bbff31",
   "metadata": {},
   "outputs": [
    {
     "name": "stdout",
     "output_type": "stream",
     "text": [
      "              precision    recall  f1-score   support\n",
      "\n",
      " distortion0       0.50      0.68      0.58      1090\n",
      " distortion1       0.80      0.80      0.80      1773\n",
      " distortion2       0.37      0.60      0.46       647\n",
      " distortion3       0.47      0.72      0.57       938\n",
      " distortion4       0.39      0.44      0.41       683\n",
      " distortion5       0.24      0.31      0.27       401\n",
      " distortion6       0.39      0.52      0.44       738\n",
      " distortion7       0.40      0.58      0.47       726\n",
      " distortion8       0.43      0.70      0.54       915\n",
      " distortion9       0.51      0.71      0.60      1119\n",
      "distortion10       0.48      0.73      0.58      1042\n",
      "\n",
      "   micro avg       0.49      0.66      0.56     10072\n",
      "   macro avg       0.45      0.62      0.52     10072\n",
      "weighted avg       0.50      0.66      0.57     10072\n",
      " samples avg       0.47      0.64      0.49     10072\n",
      "\n"
     ]
    }
   ],
   "source": [
    "print(classification_report(w2v_y_test,predikcio_cc_nb_w2v,target_names = distortion_list))"
   ]
  },
  {
   "cell_type": "code",
   "execution_count": 1147,
   "id": "088fee4d",
   "metadata": {},
   "outputs": [
    {
     "data": {
      "text/plain": [
       "0.4217149310317012"
      ]
     },
     "execution_count": 1147,
     "metadata": {},
     "output_type": "execute_result"
    }
   ],
   "source": [
    "hamming_loss(w2v_y_test,predikcio_cc_nb_w2v)"
   ]
  },
  {
   "cell_type": "code",
   "execution_count": 1148,
   "id": "2cfdeb6f",
   "metadata": {},
   "outputs": [
    {
     "data": {
      "text/plain": [
       "0.487870738921571"
      ]
     },
     "execution_count": 1148,
     "metadata": {},
     "output_type": "execute_result"
    }
   ],
   "source": [
    "F1Measure(np.array(w2v_y_test),np.array(predikcio_cc_nb_w2v.todense()))"
   ]
  },
  {
   "cell_type": "markdown",
   "id": "cc618d82",
   "metadata": {},
   "source": [
    "## GloVe"
   ]
  },
  {
   "cell_type": "code",
   "execution_count": 1112,
   "id": "d55dfa12",
   "metadata": {},
   "outputs": [],
   "source": [
    "# glove_x_train_df, glove_y_train\n",
    "# glove_x_test_df, glove_y_test"
   ]
  },
  {
   "cell_type": "markdown",
   "id": "e6035346",
   "metadata": {},
   "source": [
    "### LogReg"
   ]
  },
  {
   "cell_type": "code",
   "execution_count": 1124,
   "id": "ea0ccb1c",
   "metadata": {},
   "outputs": [],
   "source": [
    "# binary relevance ml classifier\n",
    "# inicializálása nb base klasszifikálóval\n",
    "classifier = ClassifierChain(LogisticRegression(solver='saga'))"
   ]
  },
  {
   "cell_type": "code",
   "execution_count": 1125,
   "id": "31995577",
   "metadata": {},
   "outputs": [
    {
     "data": {
      "text/plain": [
       "ClassifierChain(classifier=LogisticRegression(solver='saga'),\n",
       "                require_dense=[True, True])"
      ]
     },
     "execution_count": 1125,
     "metadata": {},
     "output_type": "execute_result"
    }
   ],
   "source": [
    "# tanítás\n",
    "classifier.fit(glove_x_train_df, glove_y_train)"
   ]
  },
  {
   "cell_type": "code",
   "execution_count": 1126,
   "id": "52669574",
   "metadata": {},
   "outputs": [],
   "source": [
    "# becslés a teszthalmazon\n",
    "predikcio_cc_lr_glove = classifier.predict(glove_x_test_df)"
   ]
  },
  {
   "cell_type": "code",
   "execution_count": 1127,
   "id": "9d22ccf5",
   "metadata": {},
   "outputs": [
    {
     "data": {
      "text/plain": [
       "<2254x11 sparse matrix of type '<class 'numpy.float64'>'\n",
       "\twith 6280 stored elements in Compressed Sparse Column format>"
      ]
     },
     "execution_count": 1127,
     "metadata": {},
     "output_type": "execute_result"
    }
   ],
   "source": [
    "# összehaonlítani: glove_y_test\n",
    "predikcio_cc_lr_glove"
   ]
  },
  {
   "cell_type": "markdown",
   "id": "ca523385",
   "metadata": {},
   "source": [
    "#### Értékelés"
   ]
  },
  {
   "cell_type": "code",
   "execution_count": 1132,
   "id": "143dafac",
   "metadata": {},
   "outputs": [
    {
     "name": "stdout",
     "output_type": "stream",
     "text": [
      "              precision    recall  f1-score   support\n",
      "\n",
      " distortion0       0.56      0.49      0.52      1090\n",
      " distortion1       0.79      0.99      0.88      1773\n",
      " distortion2       0.53      0.16      0.25       647\n",
      " distortion3       0.62      0.48      0.54       938\n",
      " distortion4       0.48      0.11      0.18       683\n",
      " distortion5       0.34      0.03      0.06       401\n",
      " distortion6       0.50      0.10      0.17       738\n",
      " distortion7       0.40      0.08      0.13       726\n",
      " distortion8       0.36      0.12      0.18       915\n",
      " distortion9       0.59      0.38      0.46      1119\n",
      "distortion10       0.54      0.33      0.41      1042\n",
      "\n",
      "   micro avg       0.63      0.39      0.48     10072\n",
      "   macro avg       0.52      0.30      0.34     10072\n",
      "weighted avg       0.56      0.39      0.42     10072\n",
      " samples avg       0.69      0.40      0.43     10072\n",
      "\n"
     ]
    }
   ],
   "source": [
    "print(classification_report(glove_y_test,predikcio_cc_lr_glove,target_names = distortion_list))"
   ]
  },
  {
   "cell_type": "code",
   "execution_count": 1130,
   "id": "9fc5d2bd",
   "metadata": {},
   "outputs": [
    {
     "data": {
      "text/plain": [
       "0.3406469307090425"
      ]
     },
     "execution_count": 1130,
     "metadata": {},
     "output_type": "execute_result"
    }
   ],
   "source": [
    "hamming_loss(glove_y_test,predikcio_cc_lr_glove)"
   ]
  },
  {
   "cell_type": "code",
   "execution_count": 1131,
   "id": "d5d93c3d",
   "metadata": {},
   "outputs": [
    {
     "data": {
      "text/plain": [
       "0.429814649093687"
      ]
     },
     "execution_count": 1131,
     "metadata": {},
     "output_type": "execute_result"
    }
   ],
   "source": [
    "F1Measure(np.array(glove_y_test),np.array(predikcio_cc_lr_glove.todense()))"
   ]
  },
  {
   "cell_type": "markdown",
   "id": "1954ce37",
   "metadata": {},
   "source": [
    "### SVM"
   ]
  },
  {
   "cell_type": "code",
   "execution_count": 1133,
   "id": "a50a3ac0",
   "metadata": {},
   "outputs": [],
   "source": [
    "# glove_x_train_df, glove_y_train\n",
    "# glove_x_test_df, glove_y_test"
   ]
  },
  {
   "cell_type": "code",
   "execution_count": 1135,
   "id": "38b16005",
   "metadata": {},
   "outputs": [],
   "source": [
    "# binary relevance ml classifier\n",
    "# inicializálása svm base klasszifikálóval\n",
    "classifier = ClassifierChain(SVC(kernel='linear'))"
   ]
  },
  {
   "cell_type": "code",
   "execution_count": 1136,
   "id": "db1ccb00",
   "metadata": {},
   "outputs": [
    {
     "data": {
      "text/plain": [
       "ClassifierChain(classifier=SVC(kernel='linear'), require_dense=[True, True])"
      ]
     },
     "execution_count": 1136,
     "metadata": {},
     "output_type": "execute_result"
    }
   ],
   "source": [
    "# tanítás\n",
    "classifier.fit(glove_x_train_df, glove_y_train)"
   ]
  },
  {
   "cell_type": "code",
   "execution_count": 1137,
   "id": "de4be02d",
   "metadata": {},
   "outputs": [],
   "source": [
    "# becslés a teszthalmazon\n",
    "predikcio_cc_svm_glove = classifier.predict(glove_x_test_df)"
   ]
  },
  {
   "cell_type": "code",
   "execution_count": 1138,
   "id": "f71c07e5",
   "metadata": {},
   "outputs": [
    {
     "data": {
      "text/plain": [
       "<2254x11 sparse matrix of type '<class 'numpy.float64'>'\n",
       "\twith 5072 stored elements in Compressed Sparse Column format>"
      ]
     },
     "execution_count": 1138,
     "metadata": {},
     "output_type": "execute_result"
    }
   ],
   "source": [
    "# összehaonlítani: glove_y_test\n",
    "predikcio_cc_svm_glove"
   ]
  },
  {
   "cell_type": "markdown",
   "id": "38e3b7b2",
   "metadata": {},
   "source": [
    "#### Értékelés"
   ]
  },
  {
   "cell_type": "code",
   "execution_count": 1139,
   "id": "39b00e8b",
   "metadata": {},
   "outputs": [
    {
     "name": "stdout",
     "output_type": "stream",
     "text": [
      "              precision    recall  f1-score   support\n",
      "\n",
      " distortion0       0.57      0.46      0.51      1090\n",
      " distortion1       0.79      1.00      0.88      1773\n",
      " distortion2       0.00      0.00      0.00       647\n",
      " distortion3       0.67      0.44      0.54       938\n",
      " distortion4       0.00      0.00      0.00       683\n",
      " distortion5       0.00      0.00      0.00       401\n",
      " distortion6       0.55      0.01      0.02       738\n",
      " distortion7       0.44      0.01      0.01       726\n",
      " distortion8       0.43      0.05      0.10       915\n",
      " distortion9       0.62      0.33      0.43      1119\n",
      "distortion10       0.54      0.31      0.39      1042\n",
      "\n",
      "   micro avg       0.68      0.34      0.45     10072\n",
      "   macro avg       0.42      0.24      0.26     10072\n",
      "weighted avg       0.50      0.34      0.36     10072\n",
      " samples avg       0.71      0.36      0.41     10072\n",
      "\n"
     ]
    }
   ],
   "source": [
    "print(classification_report(glove_y_test,predikcio_cc_svm_glove,target_names = distortion_list))"
   ]
  },
  {
   "cell_type": "code",
   "execution_count": 1140,
   "id": "0a988ffc",
   "metadata": {},
   "outputs": [
    {
     "data": {
      "text/plain": [
       "0.3333871097846253"
      ]
     },
     "execution_count": 1140,
     "metadata": {},
     "output_type": "execute_result"
    }
   ],
   "source": [
    "hamming_loss(glove_y_test,predikcio_cc_svm_glove)"
   ]
  },
  {
   "cell_type": "code",
   "execution_count": 1141,
   "id": "7e13003d",
   "metadata": {},
   "outputs": [
    {
     "data": {
      "text/plain": [
       "0.41068331471927594"
      ]
     },
     "execution_count": 1141,
     "metadata": {},
     "output_type": "execute_result"
    }
   ],
   "source": [
    "F1Measure(np.array(glove_y_test),np.array(predikcio_cc_svm_glove.todense()))"
   ]
  },
  {
   "cell_type": "markdown",
   "id": "cfc78c4e",
   "metadata": {},
   "source": [
    "### NB"
   ]
  },
  {
   "cell_type": "code",
   "execution_count": 1149,
   "id": "b56d854f",
   "metadata": {},
   "outputs": [],
   "source": [
    "# binary relevance ml classifier\n",
    "# inicializálása nb base klasszifikálóval\n",
    "classifier = ClassifierChain(GaussianNB())"
   ]
  },
  {
   "cell_type": "code",
   "execution_count": 1150,
   "id": "9367ff86",
   "metadata": {},
   "outputs": [
    {
     "data": {
      "text/plain": [
       "ClassifierChain(classifier=GaussianNB(), require_dense=[True, True])"
      ]
     },
     "execution_count": 1150,
     "metadata": {},
     "output_type": "execute_result"
    }
   ],
   "source": [
    "# tanítás\n",
    "classifier.fit(glove_x_train_df, glove_y_train)"
   ]
  },
  {
   "cell_type": "code",
   "execution_count": 1151,
   "id": "52725f4b",
   "metadata": {},
   "outputs": [
    {
     "data": {
      "text/plain": [
       "ClassifierChain(classifier=GaussianNB(), require_dense=[True, True])"
      ]
     },
     "execution_count": 1151,
     "metadata": {},
     "output_type": "execute_result"
    }
   ],
   "source": [
    "# tanítás\n",
    "classifier.fit(glove_x_train_df, glove_y_train)"
   ]
  },
  {
   "cell_type": "code",
   "execution_count": 1152,
   "id": "1d793c2e",
   "metadata": {},
   "outputs": [],
   "source": [
    "# becslés a teszthalmazon\n",
    "predikcio_cc_nb_glove = classifier.predict(glove_x_test_df)"
   ]
  },
  {
   "cell_type": "code",
   "execution_count": 1153,
   "id": "e3320215",
   "metadata": {},
   "outputs": [
    {
     "data": {
      "text/plain": [
       "<2254x11 sparse matrix of type '<class 'numpy.float64'>'\n",
       "\twith 14521 stored elements in Compressed Sparse Column format>"
      ]
     },
     "execution_count": 1153,
     "metadata": {},
     "output_type": "execute_result"
    }
   ],
   "source": [
    "# összehaonlítani: glove_y_test\n",
    "predikcio_cc_nb_glove"
   ]
  },
  {
   "cell_type": "markdown",
   "id": "1e31ef43",
   "metadata": {},
   "source": [
    "#### Értékelés"
   ]
  },
  {
   "cell_type": "code",
   "execution_count": 1154,
   "id": "83e43157",
   "metadata": {},
   "outputs": [
    {
     "name": "stdout",
     "output_type": "stream",
     "text": [
      "              precision    recall  f1-score   support\n",
      "\n",
      " distortion0       0.50      0.70      0.58      1090\n",
      " distortion1       0.79      0.78      0.79      1773\n",
      " distortion2       0.34      0.65      0.45       647\n",
      " distortion3       0.47      0.71      0.57       938\n",
      " distortion4       0.39      0.50      0.44       683\n",
      " distortion5       0.23      0.29      0.25       401\n",
      " distortion6       0.36      0.63      0.45       738\n",
      " distortion7       0.37      0.65      0.47       726\n",
      " distortion8       0.42      0.71      0.53       915\n",
      " distortion9       0.52      0.71      0.60      1119\n",
      "distortion10       0.48      0.72      0.58      1042\n",
      "\n",
      "   micro avg       0.47      0.68      0.56     10072\n",
      "   macro avg       0.44      0.64      0.52     10072\n",
      "weighted avg       0.49      0.68      0.57     10072\n",
      " samples avg       0.45      0.64      0.47     10072\n",
      "\n"
     ]
    }
   ],
   "source": [
    "print(classification_report(glove_y_test,predikcio_cc_nb_glove,target_names = distortion_list))"
   ]
  },
  {
   "cell_type": "code",
   "execution_count": 1155,
   "id": "c1116761",
   "metadata": {},
   "outputs": [
    {
     "data": {
      "text/plain": [
       "0.4410341211583448"
      ]
     },
     "execution_count": 1155,
     "metadata": {},
     "output_type": "execute_result"
    }
   ],
   "source": [
    "hamming_loss(glove_y_test,predikcio_cc_nb_glove)"
   ]
  },
  {
   "cell_type": "code",
   "execution_count": 1156,
   "id": "4f266ba5",
   "metadata": {},
   "outputs": [
    {
     "data": {
      "text/plain": [
       "0.4696864782073456"
      ]
     },
     "execution_count": 1156,
     "metadata": {},
     "output_type": "execute_result"
    }
   ],
   "source": [
    "F1Measure(np.array(glove_y_test),np.array(predikcio_cc_nb_glove.todense()))"
   ]
  },
  {
   "cell_type": "markdown",
   "id": "8cf6c5c9",
   "metadata": {},
   "source": [
    "# Label Powerset"
   ]
  },
  {
   "cell_type": "code",
   "execution_count": 132,
   "id": "2705456e",
   "metadata": {},
   "outputs": [],
   "source": [
    "from skmultilearn.problem_transform import LabelPowerset"
   ]
  },
  {
   "cell_type": "markdown",
   "id": "83da0b2f",
   "metadata": {},
   "source": [
    "## Szógyakoriság"
   ]
  },
  {
   "cell_type": "code",
   "execution_count": null,
   "id": "e0bad04e",
   "metadata": {},
   "outputs": [],
   "source": [
    "# count_x_train, y_train\n",
    "# count_x_test, y_test"
   ]
  },
  {
   "cell_type": "markdown",
   "id": "ab1034ca",
   "metadata": {},
   "source": [
    "### LogReg"
   ]
  },
  {
   "cell_type": "code",
   "execution_count": 1157,
   "id": "1daa5570",
   "metadata": {},
   "outputs": [
    {
     "data": {
      "text/plain": [
       "<2254x11 sparse matrix of type '<class 'numpy.int64'>'\n",
       "\twith 3773 stored elements in List of Lists format>"
      ]
     },
     "execution_count": 1157,
     "metadata": {},
     "output_type": "execute_result"
    }
   ],
   "source": [
    "classifier = LabelPowerset(LogisticRegression(solver='saga'))\n",
    "# tanítás\n",
    "classifier.fit(count_x_train, y_train)\n",
    "# becslés a teszthalmazon\n",
    "predikcio_lp_lr_count = classifier.predict(count_x_test)\n",
    "predikcio_lp_lr_count"
   ]
  },
  {
   "cell_type": "markdown",
   "id": "93902cb5",
   "metadata": {},
   "source": [
    "#### Értékelés"
   ]
  },
  {
   "cell_type": "code",
   "execution_count": null,
   "id": "e49a76ce",
   "metadata": {},
   "outputs": [],
   "source": [
    "print(classification_report(y_test,predikcio_lp_lr_count,target_names = distortion_list))\n",
    "\n",
    "hamming_loss(y_test,predikcio_lp_lr_count)\n",
    "\n",
    "F1Measure(np.array(y_test),np.array(predikcio_lp_lr_count.todense()))"
   ]
  },
  {
   "cell_type": "markdown",
   "id": "00443a4f",
   "metadata": {},
   "source": [
    "### SVM"
   ]
  },
  {
   "cell_type": "code",
   "execution_count": 1158,
   "id": "dc642291",
   "metadata": {},
   "outputs": [
    {
     "data": {
      "text/plain": [
       "<2254x11 sparse matrix of type '<class 'numpy.int64'>'\n",
       "\twith 7060 stored elements in List of Lists format>"
      ]
     },
     "execution_count": 1158,
     "metadata": {},
     "output_type": "execute_result"
    }
   ],
   "source": [
    "classifier = LabelPowerset(SVC(kernel='linear'))\n",
    "# tanítás\n",
    "classifier.fit(count_x_train, y_train)\n",
    "# becslés a teszthalmazon\n",
    "predikcio_lp_svm_count = classifier.predict(count_x_test)\n",
    "predikcio_lp_svm_count"
   ]
  },
  {
   "cell_type": "markdown",
   "id": "1f5e455c",
   "metadata": {},
   "source": [
    "### NB"
   ]
  },
  {
   "cell_type": "code",
   "execution_count": 133,
   "id": "43a69fc5",
   "metadata": {},
   "outputs": [
    {
     "ename": "KeyboardInterrupt",
     "evalue": "",
     "output_type": "error",
     "traceback": [
      "\u001b[0;31m---------------------------------------------------------------------------\u001b[0m",
      "\u001b[0;31mKeyboardInterrupt\u001b[0m                         Traceback (most recent call last)",
      "\u001b[0;32m/var/folders/3y/wzt94zvd3gvfx871mcf79txr0000gn/T/ipykernel_16178/2770156001.py\u001b[0m in \u001b[0;36m<module>\u001b[0;34m\u001b[0m\n\u001b[1;32m      1\u001b[0m \u001b[0mclassifier\u001b[0m \u001b[0;34m=\u001b[0m \u001b[0mLabelPowerset\u001b[0m\u001b[0;34m(\u001b[0m\u001b[0mMultinomialNB\u001b[0m\u001b[0;34m(\u001b[0m\u001b[0;34m)\u001b[0m\u001b[0;34m)\u001b[0m\u001b[0;34m\u001b[0m\u001b[0;34m\u001b[0m\u001b[0m\n\u001b[1;32m      2\u001b[0m \u001b[0;31m# tanítás\u001b[0m\u001b[0;34m\u001b[0m\u001b[0;34m\u001b[0m\u001b[0;34m\u001b[0m\u001b[0m\n\u001b[0;32m----> 3\u001b[0;31m \u001b[0mclassifier\u001b[0m\u001b[0;34m.\u001b[0m\u001b[0mfit\u001b[0m\u001b[0;34m(\u001b[0m\u001b[0mcount_x_train\u001b[0m\u001b[0;34m,\u001b[0m \u001b[0my_train\u001b[0m\u001b[0;34m)\u001b[0m\u001b[0;34m\u001b[0m\u001b[0;34m\u001b[0m\u001b[0m\n\u001b[0m\u001b[1;32m      4\u001b[0m \u001b[0;31m# becslés a teszthalmazon\u001b[0m\u001b[0;34m\u001b[0m\u001b[0;34m\u001b[0m\u001b[0;34m\u001b[0m\u001b[0m\n\u001b[1;32m      5\u001b[0m \u001b[0mpredikcio_lp_nb_count\u001b[0m \u001b[0;34m=\u001b[0m \u001b[0mclassifier\u001b[0m\u001b[0;34m.\u001b[0m\u001b[0mpredict\u001b[0m\u001b[0;34m(\u001b[0m\u001b[0mcount_x_test\u001b[0m\u001b[0;34m)\u001b[0m\u001b[0;34m\u001b[0m\u001b[0;34m\u001b[0m\u001b[0m\n",
      "\u001b[0;32m/Library/Frameworks/Python.framework/Versions/3.7/lib/python3.7/site-packages/skmultilearn/problem_transform/lp.py\u001b[0m in \u001b[0;36mfit\u001b[0;34m(self, X, y)\u001b[0m\n\u001b[1;32m    139\u001b[0m \u001b[0;34m\u001b[0m\u001b[0m\n\u001b[1;32m    140\u001b[0m         self.classifier.fit(self._ensure_input_format(X),\n\u001b[0;32m--> 141\u001b[0;31m                             self.transform(y))\n\u001b[0m\u001b[1;32m    142\u001b[0m \u001b[0;34m\u001b[0m\u001b[0m\n\u001b[1;32m    143\u001b[0m         \u001b[0;32mreturn\u001b[0m \u001b[0mself\u001b[0m\u001b[0;34m\u001b[0m\u001b[0;34m\u001b[0m\u001b[0m\n",
      "\u001b[0;32m/Library/Frameworks/Python.framework/Versions/3.7/lib/python3.7/site-packages/sklearn/naive_bayes.py\u001b[0m in \u001b[0;36mfit\u001b[0;34m(self, X, y, sample_weight)\u001b[0m\n\u001b[1;32m    688\u001b[0m         \u001b[0mn_classes\u001b[0m \u001b[0;34m=\u001b[0m \u001b[0mY\u001b[0m\u001b[0;34m.\u001b[0m\u001b[0mshape\u001b[0m\u001b[0;34m[\u001b[0m\u001b[0;36m1\u001b[0m\u001b[0;34m]\u001b[0m\u001b[0;34m\u001b[0m\u001b[0;34m\u001b[0m\u001b[0m\n\u001b[1;32m    689\u001b[0m         \u001b[0mself\u001b[0m\u001b[0;34m.\u001b[0m\u001b[0m_init_counters\u001b[0m\u001b[0;34m(\u001b[0m\u001b[0mn_classes\u001b[0m\u001b[0;34m,\u001b[0m \u001b[0mn_features\u001b[0m\u001b[0;34m)\u001b[0m\u001b[0;34m\u001b[0m\u001b[0;34m\u001b[0m\u001b[0m\n\u001b[0;32m--> 690\u001b[0;31m         \u001b[0mself\u001b[0m\u001b[0;34m.\u001b[0m\u001b[0m_count\u001b[0m\u001b[0;34m(\u001b[0m\u001b[0mX\u001b[0m\u001b[0;34m,\u001b[0m \u001b[0mY\u001b[0m\u001b[0;34m)\u001b[0m\u001b[0;34m\u001b[0m\u001b[0;34m\u001b[0m\u001b[0m\n\u001b[0m\u001b[1;32m    691\u001b[0m         \u001b[0malpha\u001b[0m \u001b[0;34m=\u001b[0m \u001b[0mself\u001b[0m\u001b[0;34m.\u001b[0m\u001b[0m_check_alpha\u001b[0m\u001b[0;34m(\u001b[0m\u001b[0;34m)\u001b[0m\u001b[0;34m\u001b[0m\u001b[0;34m\u001b[0m\u001b[0m\n\u001b[1;32m    692\u001b[0m         \u001b[0mself\u001b[0m\u001b[0;34m.\u001b[0m\u001b[0m_update_feature_log_prob\u001b[0m\u001b[0;34m(\u001b[0m\u001b[0malpha\u001b[0m\u001b[0;34m)\u001b[0m\u001b[0;34m\u001b[0m\u001b[0;34m\u001b[0m\u001b[0m\n",
      "\u001b[0;32m/Library/Frameworks/Python.framework/Versions/3.7/lib/python3.7/site-packages/sklearn/naive_bayes.py\u001b[0m in \u001b[0;36m_count\u001b[0;34m(self, X, Y)\u001b[0m\n\u001b[1;32m    862\u001b[0m         \u001b[0;34m\"\"\"Count and smooth feature occurrences.\"\"\"\u001b[0m\u001b[0;34m\u001b[0m\u001b[0;34m\u001b[0m\u001b[0m\n\u001b[1;32m    863\u001b[0m         \u001b[0mcheck_non_negative\u001b[0m\u001b[0;34m(\u001b[0m\u001b[0mX\u001b[0m\u001b[0;34m,\u001b[0m \u001b[0;34m\"MultinomialNB (input X)\"\u001b[0m\u001b[0;34m)\u001b[0m\u001b[0;34m\u001b[0m\u001b[0;34m\u001b[0m\u001b[0m\n\u001b[0;32m--> 864\u001b[0;31m         \u001b[0mself\u001b[0m\u001b[0;34m.\u001b[0m\u001b[0mfeature_count_\u001b[0m \u001b[0;34m+=\u001b[0m \u001b[0msafe_sparse_dot\u001b[0m\u001b[0;34m(\u001b[0m\u001b[0mY\u001b[0m\u001b[0;34m.\u001b[0m\u001b[0mT\u001b[0m\u001b[0;34m,\u001b[0m \u001b[0mX\u001b[0m\u001b[0;34m)\u001b[0m\u001b[0;34m\u001b[0m\u001b[0;34m\u001b[0m\u001b[0m\n\u001b[0m\u001b[1;32m    865\u001b[0m         \u001b[0mself\u001b[0m\u001b[0;34m.\u001b[0m\u001b[0mclass_count_\u001b[0m \u001b[0;34m+=\u001b[0m \u001b[0mY\u001b[0m\u001b[0;34m.\u001b[0m\u001b[0msum\u001b[0m\u001b[0;34m(\u001b[0m\u001b[0maxis\u001b[0m\u001b[0;34m=\u001b[0m\u001b[0;36m0\u001b[0m\u001b[0;34m)\u001b[0m\u001b[0;34m\u001b[0m\u001b[0;34m\u001b[0m\u001b[0m\n\u001b[1;32m    866\u001b[0m \u001b[0;34m\u001b[0m\u001b[0m\n",
      "\u001b[0;32m/Library/Frameworks/Python.framework/Versions/3.7/lib/python3.7/site-packages/sklearn/utils/extmath.py\u001b[0m in \u001b[0;36msafe_sparse_dot\u001b[0;34m(a, b, dense_output)\u001b[0m\n\u001b[1;32m    151\u001b[0m             \u001b[0mret\u001b[0m \u001b[0;34m=\u001b[0m \u001b[0mnp\u001b[0m\u001b[0;34m.\u001b[0m\u001b[0mdot\u001b[0m\u001b[0;34m(\u001b[0m\u001b[0ma\u001b[0m\u001b[0;34m,\u001b[0m \u001b[0mb\u001b[0m\u001b[0;34m)\u001b[0m\u001b[0;34m\u001b[0m\u001b[0;34m\u001b[0m\u001b[0m\n\u001b[1;32m    152\u001b[0m     \u001b[0;32melse\u001b[0m\u001b[0;34m:\u001b[0m\u001b[0;34m\u001b[0m\u001b[0;34m\u001b[0m\u001b[0m\n\u001b[0;32m--> 153\u001b[0;31m         \u001b[0mret\u001b[0m \u001b[0;34m=\u001b[0m \u001b[0ma\u001b[0m \u001b[0;34m@\u001b[0m \u001b[0mb\u001b[0m\u001b[0;34m\u001b[0m\u001b[0;34m\u001b[0m\u001b[0m\n\u001b[0m\u001b[1;32m    154\u001b[0m \u001b[0;34m\u001b[0m\u001b[0m\n\u001b[1;32m    155\u001b[0m     if (\n",
      "\u001b[0;31mKeyboardInterrupt\u001b[0m: "
     ]
    }
   ],
   "source": [
    "classifier = LabelPowerset(MultinomialNB())\n",
    "# tanítás\n",
    "classifier.fit(count_x_train, y_train)\n",
    "# becslés a teszthalmazon\n",
    "predikcio_lp_nb_count = classifier.predict(count_x_test)\n",
    "predikcio_lp_nb_count"
   ]
  },
  {
   "cell_type": "markdown",
   "id": "56942dd6",
   "metadata": {},
   "source": [
    "## TF-IDF"
   ]
  },
  {
   "cell_type": "code",
   "execution_count": null,
   "id": "8a9ff50f",
   "metadata": {},
   "outputs": [],
   "source": [
    "# tf_idf_x_train, y_train\n",
    "# tf_idf_x_test, y_test"
   ]
  },
  {
   "cell_type": "markdown",
   "id": "059207f7",
   "metadata": {},
   "source": [
    "### LogReg"
   ]
  },
  {
   "cell_type": "code",
   "execution_count": null,
   "id": "7d45280b",
   "metadata": {},
   "outputs": [],
   "source": [
    "classifier = LabelPowerset(LogisticRegression(solver='saga'))\n",
    "# tanítás\n",
    "classifier.fit(tf_idf_x_train, y_train)\n",
    "# becslés a teszthalmazon\n",
    "predikcio_lp_lr_tf_idf = classifier.predict(tf_idf_x_test)\n",
    "predikcio_lp_lr_tf_idf"
   ]
  },
  {
   "cell_type": "markdown",
   "id": "66efc7fb",
   "metadata": {},
   "source": [
    "### SVM"
   ]
  },
  {
   "cell_type": "code",
   "execution_count": null,
   "id": "fde4c0e5",
   "metadata": {},
   "outputs": [],
   "source": [
    "classifier = LabelPowerset(SVC(kernel='linear'))\n",
    "# tanítás\n",
    "classifier.fit(tf_idf_x_train, y_train)\n",
    "# becslés a teszthalmazon\n",
    "predikcio_lp_nb_tf_idf = classifier.predict(tf_idf_x_test)\n",
    "predikcio_lp_nb_tf_idf"
   ]
  },
  {
   "cell_type": "markdown",
   "id": "57fdff89",
   "metadata": {},
   "source": [
    "### NB"
   ]
  },
  {
   "cell_type": "code",
   "execution_count": null,
   "id": "ae7d8f0c",
   "metadata": {},
   "outputs": [],
   "source": [
    "classifier = LabelPowerset(MultinomialNB())\n",
    "# tanítás\n",
    "classifier.fit(tf_idf_x_train, y_train)\n",
    "# becslés a teszthalmazon\n",
    "predikcio_lp_nb_tf_idf = classifier.predict(tf_idf_x_test)\n",
    "predikcio_lp_nb_tf_idf"
   ]
  },
  {
   "cell_type": "markdown",
   "id": "2b36d70b",
   "metadata": {},
   "source": [
    "## word2vec"
   ]
  },
  {
   "cell_type": "code",
   "execution_count": null,
   "id": "2bfc2dde",
   "metadata": {},
   "outputs": [],
   "source": [
    "# w2v_x_train_df, w2v_y_train\n",
    "# w2v_x_test_df, w2v_y_test"
   ]
  },
  {
   "cell_type": "markdown",
   "id": "8b70135b",
   "metadata": {},
   "source": [
    "### LogReg"
   ]
  },
  {
   "cell_type": "code",
   "execution_count": null,
   "id": "5419f429",
   "metadata": {},
   "outputs": [],
   "source": [
    "classifier = LabelPowerset(LogisticRegression(solver='saga'))\n",
    "# tanítás\n",
    "classifier.fit(w2v_x_train_df, w2v_y_train)\n",
    "# becslés a teszthalmazon\n",
    "predikcio_lp_lr_w2v = classifier.predict(w2v_x_test_df)\n",
    "predikcio_lp_lr_w2v"
   ]
  },
  {
   "cell_type": "markdown",
   "id": "7fbb8228",
   "metadata": {},
   "source": [
    "### SVM"
   ]
  },
  {
   "cell_type": "code",
   "execution_count": null,
   "id": "d15758a4",
   "metadata": {},
   "outputs": [],
   "source": [
    "classifier = LabelPowerset(SVC(kernel='linear'))\n",
    "# tanítás\n",
    "classifier.fit(w2v_x_train_df, w2v_y_train)\n",
    "# becslés a teszthalmazon\n",
    "predikcio_lp_svm_w2v = classifier.predict(w2v_x_test_df)\n",
    "predikcio_lp_svm_w2v"
   ]
  },
  {
   "cell_type": "markdown",
   "id": "0bedf221",
   "metadata": {},
   "source": [
    "### NB"
   ]
  },
  {
   "cell_type": "code",
   "execution_count": null,
   "id": "9cfb2704",
   "metadata": {},
   "outputs": [],
   "source": [
    "classifier = LabelPowerset(GaussianNB())\n",
    "# tanítás\n",
    "classifier.fit(w2v_x_train_df, w2v_y_train)\n",
    "# becslés a teszthalmazon\n",
    "predikcio_lp_nb_w2v = classifier.predict(w2v_x_test_df)\n",
    "predikcio_lp_nb_w2v"
   ]
  },
  {
   "cell_type": "markdown",
   "id": "1a3e0de3",
   "metadata": {},
   "source": [
    "## GloVe"
   ]
  },
  {
   "cell_type": "code",
   "execution_count": null,
   "id": "5c5a4dce",
   "metadata": {},
   "outputs": [],
   "source": [
    "# glove_x_train_df, glove_y_train\n",
    "# glove_x_test_df, glove_y_test"
   ]
  },
  {
   "cell_type": "markdown",
   "id": "bf424aa5",
   "metadata": {},
   "source": [
    "### LogReg"
   ]
  },
  {
   "cell_type": "code",
   "execution_count": null,
   "id": "101bb6b3",
   "metadata": {},
   "outputs": [],
   "source": [
    "classifier = LabelPowerset(LogisticRegression(solver='saga'))\n",
    "# tanítás\n",
    "classifier.fit(glove_x_train_df, glove_y_train)\n",
    "# becslés a teszthalmazon\n",
    "predikcio_lp_lr_glove = classifier.predict(glove_x_test_df)\n",
    "predikcio_lp_lr_glove"
   ]
  },
  {
   "cell_type": "markdown",
   "id": "a59e40dc",
   "metadata": {},
   "source": [
    "### SVM"
   ]
  },
  {
   "cell_type": "code",
   "execution_count": null,
   "id": "0fe8d636",
   "metadata": {},
   "outputs": [],
   "source": [
    "classifier = LabelPowerset(SVC(kernel='linear'))\n",
    "# tanítás\n",
    "classifier.fit(glove_x_train_df, glove_y_train)\n",
    "# becslés a teszthalmazon\n",
    "predikcio_lp_svn_glove = classifier.predict(glove_x_test_df)\n",
    "predikcio_lp_svn_glove"
   ]
  },
  {
   "cell_type": "markdown",
   "id": "945a0837",
   "metadata": {},
   "source": [
    "### NB"
   ]
  },
  {
   "cell_type": "code",
   "execution_count": null,
   "id": "a5ddc23e",
   "metadata": {},
   "outputs": [],
   "source": [
    "classifier = LabelPowerset(GaussianNB())\n",
    "# tanítás\n",
    "classifier.fit(glove_x_train_df, glove_y_train)\n",
    "# becslés a teszthalmazon\n",
    "predikcio_lp_nb_glove = classifier.predict(glove_x_test_df)\n",
    "predikcio_lp_nb_glove"
   ]
  },
  {
   "cell_type": "markdown",
   "id": "8e3f1aa4",
   "metadata": {},
   "source": [
    "# RAkEL"
   ]
  },
  {
   "cell_type": "markdown",
   "id": "32887616",
   "metadata": {},
   "source": [
    "## Szógyakoriság"
   ]
  },
  {
   "cell_type": "code",
   "execution_count": 113,
   "id": "3c605878",
   "metadata": {},
   "outputs": [],
   "source": [
    "# count_x_train, y_train\n",
    "# count_x_test, y_test"
   ]
  },
  {
   "cell_type": "code",
   "execution_count": 114,
   "id": "1fdc98da",
   "metadata": {},
   "outputs": [],
   "source": [
    "from skmultilearn.ensemble import RakelD"
   ]
  },
  {
   "cell_type": "markdown",
   "id": "3dfb357a",
   "metadata": {},
   "source": [
    "### LogReg"
   ]
  },
  {
   "cell_type": "code",
   "execution_count": 135,
   "id": "b7f8bfba",
   "metadata": {},
   "outputs": [
    {
     "data": {
      "text/plain": [
       "<2254x11 sparse matrix of type '<class 'numpy.int64'>'\n",
       "\twith 6742 stored elements in List of Lists format>"
      ]
     },
     "execution_count": 135,
     "metadata": {},
     "output_type": "execute_result"
    }
   ],
   "source": [
    "classifier = RakelD(LogisticRegression(solver='saga'))\n",
    "# tanítás\n",
    "classifier.fit(count_x_train, y_train)\n",
    "# becslés a teszthalmazon\n",
    "predikcio_rakel_lr_count = classifier.predict(count_x_test)\n",
    "predikcio_rakel_lr_count"
   ]
  },
  {
   "cell_type": "code",
   "execution_count": 140,
   "id": "701149f2",
   "metadata": {},
   "outputs": [
    {
     "name": "stdout",
     "output_type": "stream",
     "text": [
      "              precision    recall  f1-score   support\n",
      "\n",
      " distortion0       0.55      0.58      0.57      1090\n",
      " distortion1       0.79      0.96      0.87      1773\n",
      " distortion2       0.53      0.24      0.33       647\n",
      " distortion3       0.66      0.45      0.54       938\n",
      " distortion4       0.42      0.13      0.20       683\n",
      " distortion5       0.39      0.09      0.15       401\n",
      " distortion6       0.41      0.13      0.19       738\n",
      " distortion7       0.46      0.15      0.23       726\n",
      " distortion8       0.47      0.20      0.28       915\n",
      " distortion9       0.61      0.43      0.51      1119\n",
      "distortion10       0.56      0.29      0.38      1042\n",
      "\n",
      "   micro avg       0.63      0.42      0.50     10072\n",
      "   macro avg       0.53      0.33      0.39     10072\n",
      "weighted avg       0.57      0.42      0.46     10072\n",
      " samples avg       0.64      0.43      0.45     10072\n",
      "\n",
      "hamming loss\n",
      "0.3372590142776478\n",
      "F1\n",
      "0.45219449101384873\n"
     ]
    }
   ],
   "source": [
    "print(classification_report(y_test,predikcio_rakel_lr_count,target_names = distortion_list))\n",
    "\n",
    "print(\"hamming loss\")\n",
    "print(hamming_loss(y_test,predikcio_rakel_lr_count))\n",
    "\n",
    "print(\"F1\")\n",
    "print(F1Measure(np.array(y_test),np.array(predikcio_rakel_lr_count.todense())))"
   ]
  },
  {
   "cell_type": "markdown",
   "id": "6d81f9f6",
   "metadata": {},
   "source": [
    "### SVM"
   ]
  },
  {
   "cell_type": "code",
   "execution_count": 141,
   "id": "5aa463ee",
   "metadata": {},
   "outputs": [
    {
     "data": {
      "text/plain": [
       "<2254x11 sparse matrix of type '<class 'numpy.int64'>'\n",
       "\twith 6937 stored elements in List of Lists format>"
      ]
     },
     "execution_count": 141,
     "metadata": {},
     "output_type": "execute_result"
    }
   ],
   "source": [
    "classifier = RakelD(SVC(kernel='linear'))\n",
    "# tanítás\n",
    "classifier.fit(count_x_train, y_train)\n",
    "# becslés a teszthalmazon\n",
    "predikcio_rakel_svm_count = classifier.predict(count_x_test)\n",
    "# összehaonlítani: y_test\n",
    "predikcio_rakel_svm_count"
   ]
  },
  {
   "cell_type": "code",
   "execution_count": 142,
   "id": "8e1ec161",
   "metadata": {},
   "outputs": [
    {
     "name": "stdout",
     "output_type": "stream",
     "text": [
      "              precision    recall  f1-score   support\n",
      "\n",
      " distortion0       0.56      0.38      0.46      1090\n",
      " distortion1       0.79      0.93      0.86      1773\n",
      " distortion2       0.51      0.32      0.40       647\n",
      " distortion3       0.65      0.44      0.52       938\n",
      " distortion4       0.44      0.12      0.19       683\n",
      " distortion5       0.44      0.11      0.18       401\n",
      " distortion6       0.36      0.16      0.22       738\n",
      " distortion7       0.43      0.16      0.23       726\n",
      " distortion8       0.44      0.23      0.30       915\n",
      " distortion9       0.57      0.53      0.55      1119\n",
      "distortion10       0.51      0.33      0.40      1042\n",
      "\n",
      "   micro avg       0.60      0.42      0.49     10072\n",
      "   macro avg       0.52      0.34      0.39     10072\n",
      "weighted avg       0.55      0.42      0.46     10072\n",
      " samples avg       0.62      0.42      0.44     10072\n",
      "\n",
      "hamming loss\n",
      "0.34786641929499074\n",
      "F1\n",
      "0.4410222847771762\n"
     ]
    }
   ],
   "source": [
    "print(classification_report(y_test,predikcio_rakel_svm_count,target_names = distortion_list))\n",
    "\n",
    "print(\"hamming loss\")\n",
    "print(hamming_loss(y_test,predikcio_rakel_svm_count))\n",
    "\n",
    "print(\"F1\")\n",
    "print(F1Measure(np.array(y_test),np.array(predikcio_rakel_svm_count.todense())))"
   ]
  },
  {
   "cell_type": "markdown",
   "id": "8c7bc452",
   "metadata": {},
   "source": [
    "### NB"
   ]
  },
  {
   "cell_type": "code",
   "execution_count": 134,
   "id": "db5cc2a9",
   "metadata": {},
   "outputs": [
    {
     "data": {
      "text/plain": [
       "<2254x11 sparse matrix of type '<class 'numpy.int64'>'\n",
       "\twith 5671 stored elements in List of Lists format>"
      ]
     },
     "execution_count": 134,
     "metadata": {},
     "output_type": "execute_result"
    }
   ],
   "source": [
    "classifier = RakelD(MultinomialNB())\n",
    "# tanítás\n",
    "classifier.fit(count_x_train, y_train)\n",
    "# becslés a teszthalmazon\n",
    "predikcio_rakel_nb_count = classifier.predict(count_x_test)\n",
    "# összehaonlítani: y_test\n",
    "predikcio_rakel_nb_count"
   ]
  },
  {
   "cell_type": "markdown",
   "id": "57ac051b",
   "metadata": {},
   "source": [
    "#### Értékelés"
   ]
  },
  {
   "cell_type": "code",
   "execution_count": 139,
   "id": "0dd60e6c",
   "metadata": {},
   "outputs": [
    {
     "name": "stdout",
     "output_type": "stream",
     "text": [
      "              precision    recall  f1-score   support\n",
      "\n",
      " distortion0       0.56      0.19      0.29      1090\n",
      " distortion1       0.79      0.99      0.88      1773\n",
      " distortion2       0.56      0.15      0.23       647\n",
      " distortion3       0.71      0.38      0.49       938\n",
      " distortion4       0.48      0.05      0.09       683\n",
      " distortion5       0.44      0.03      0.06       401\n",
      " distortion6       0.42      0.05      0.09       738\n",
      " distortion7       0.43      0.06      0.11       726\n",
      " distortion8       0.46      0.08      0.14       915\n",
      " distortion9       0.56      0.73      0.64      1119\n",
      "distortion10       0.54      0.25      0.34      1042\n",
      "\n",
      "   micro avg       0.65      0.37      0.47     10072\n",
      "   macro avg       0.54      0.27      0.30     10072\n",
      "weighted avg       0.57      0.37      0.39     10072\n",
      " samples avg       0.67      0.38      0.43     10072\n",
      "\n",
      "hamming loss\n",
      "0.336896023231427\n",
      "F1\n",
      "0.42847906380841116\n"
     ]
    }
   ],
   "source": [
    "print(classification_report(y_test,predikcio_rakel_nb_count,target_names = distortion_list))\n",
    "\n",
    "print(\"hamming loss\")\n",
    "print(hamming_loss(y_test,predikcio_rakel_nb_count))\n",
    "\n",
    "print(\"F1\")\n",
    "print(F1Measure(np.array(y_test),np.array(predikcio_rakel_nb_count.todense())))"
   ]
  },
  {
   "cell_type": "markdown",
   "id": "98bee38a",
   "metadata": {},
   "source": [
    "## TF-IDF"
   ]
  },
  {
   "cell_type": "markdown",
   "id": "240c35a9",
   "metadata": {},
   "source": [
    "### LogReg"
   ]
  },
  {
   "cell_type": "code",
   "execution_count": 143,
   "id": "74a437fa",
   "metadata": {},
   "outputs": [
    {
     "data": {
      "text/plain": [
       "<2254x11 sparse matrix of type '<class 'numpy.int64'>'\n",
       "\twith 6433 stored elements in List of Lists format>"
      ]
     },
     "execution_count": 143,
     "metadata": {},
     "output_type": "execute_result"
    }
   ],
   "source": [
    "classifier = RakelD(LogisticRegression(solver='saga'))\n",
    "# tanítás\n",
    "classifier.fit(tf_idf_x_train, y_train)\n",
    "# becslés a teszthalmazon\n",
    "predikcio_rakel_lr_tf_idf = classifier.predict(tf_idf_x_test)\n",
    "predikcio_rakel_lr_tf_idf"
   ]
  },
  {
   "cell_type": "code",
   "execution_count": 144,
   "id": "e8a84424",
   "metadata": {},
   "outputs": [
    {
     "name": "stdout",
     "output_type": "stream",
     "text": [
      "              precision    recall  f1-score   support\n",
      "\n",
      " distortion0       0.55      0.48      0.51      1090\n",
      " distortion1       0.79      0.96      0.87      1773\n",
      " distortion2       0.56      0.19      0.28       647\n",
      " distortion3       0.70      0.45      0.55       938\n",
      " distortion4       0.53      0.06      0.11       683\n",
      " distortion5       0.72      0.06      0.11       401\n",
      " distortion6       0.39      0.20      0.27       738\n",
      " distortion7       0.41      0.17      0.24       726\n",
      " distortion8       0.52      0.14      0.21       915\n",
      " distortion9       0.63      0.43      0.51      1119\n",
      "distortion10       0.55      0.37      0.44      1042\n",
      "\n",
      "   micro avg       0.64      0.41      0.50     10072\n",
      "   macro avg       0.58      0.32      0.37     10072\n",
      "weighted avg       0.59      0.41      0.45     10072\n",
      " samples avg       0.65      0.41      0.44     10072\n",
      "\n",
      "hamming loss\n",
      "0.33568605307735744\n",
      "F1\n",
      "0.44250016341612536\n"
     ]
    }
   ],
   "source": [
    "print(classification_report(y_test,predikcio_rakel_lr_tf_idf,target_names = distortion_list))\n",
    "\n",
    "print(\"hamming loss\")\n",
    "print(hamming_loss(y_test,predikcio_rakel_lr_tf_idf))\n",
    "\n",
    "print(\"F1\")\n",
    "print(F1Measure(np.array(y_test),np.array(predikcio_rakel_lr_tf_idf.todense())))"
   ]
  },
  {
   "cell_type": "markdown",
   "id": "4d9baf1b",
   "metadata": {},
   "source": [
    "### SVM"
   ]
  },
  {
   "cell_type": "code",
   "execution_count": 155,
   "id": "bddf3508",
   "metadata": {},
   "outputs": [
    {
     "data": {
      "text/plain": [
       "<2254x11 sparse matrix of type '<class 'numpy.int64'>'\n",
       "\twith 5363 stored elements in List of Lists format>"
      ]
     },
     "execution_count": 155,
     "metadata": {},
     "output_type": "execute_result"
    }
   ],
   "source": [
    "classifier = RakelD(SVC(kernel='linear'))\n",
    "# tanítás\n",
    "classifier.fit(tf_idf_x_train, y_train)\n",
    "# becslés a teszthalmazon\n",
    "predikcio_rakel_svm_tf_idf = classifier.predict(tf_idf_x_test)\n",
    "predikcio_rakel_svm_tf_idf"
   ]
  },
  {
   "cell_type": "code",
   "execution_count": 156,
   "id": "9abf7ff4",
   "metadata": {},
   "outputs": [
    {
     "name": "stdout",
     "output_type": "stream",
     "text": [
      "              precision    recall  f1-score   support\n",
      "\n",
      " distortion0       0.57      0.44      0.50      1090\n",
      " distortion1       0.79      0.98      0.87      1773\n",
      " distortion2       0.54      0.12      0.19       647\n",
      " distortion3       0.72      0.42      0.53       938\n",
      " distortion4       0.47      0.14      0.21       683\n",
      " distortion5       0.74      0.07      0.13       401\n",
      " distortion6       0.59      0.03      0.06       738\n",
      " distortion7       0.37      0.06      0.11       726\n",
      " distortion8       0.49      0.13      0.21       915\n",
      " distortion9       0.66      0.37      0.48      1119\n",
      "distortion10       0.56      0.18      0.28      1042\n",
      "\n",
      "   micro avg       0.67      0.36      0.47     10072\n",
      "   macro avg       0.59      0.27      0.32     10072\n",
      "weighted avg       0.61      0.36      0.40     10072\n",
      " samples avg       0.69      0.38      0.43     10072\n",
      "\n",
      "hamming loss\n",
      "0.33116883116883117\n",
      "F1\n",
      "0.4307758418052518\n"
     ]
    }
   ],
   "source": [
    "print(classification_report(y_test,predikcio_rakel_svm_tf_idf,target_names = distortion_list))\n",
    "\n",
    "print(\"hamming loss\")\n",
    "print(hamming_loss(y_test,predikcio_rakel_svm_tf_idf))\n",
    "\n",
    "print(\"F1\")\n",
    "print(F1Measure(np.array(y_test),np.array(predikcio_rakel_svm_tf_idf.todense())))"
   ]
  },
  {
   "cell_type": "markdown",
   "id": "2a3cda38",
   "metadata": {},
   "source": [
    "### NB"
   ]
  },
  {
   "cell_type": "code",
   "execution_count": 145,
   "id": "ec4044c8",
   "metadata": {},
   "outputs": [
    {
     "data": {
      "text/plain": [
       "<2254x11 sparse matrix of type '<class 'numpy.int64'>'\n",
       "\twith 3890 stored elements in List of Lists format>"
      ]
     },
     "execution_count": 145,
     "metadata": {},
     "output_type": "execute_result"
    }
   ],
   "source": [
    "classifier = RakelD(MultinomialNB())\n",
    "# tanítás\n",
    "classifier.fit(tf_idf_x_train, y_train)\n",
    "# becslés a teszthalmazon\n",
    "predikcio_rakel_nb_tf_idf = classifier.predict(tf_idf_x_test)\n",
    "predikcio_rakel_nb_tf_idf"
   ]
  },
  {
   "cell_type": "code",
   "execution_count": 146,
   "id": "6b96a5a9",
   "metadata": {},
   "outputs": [
    {
     "name": "stdout",
     "output_type": "stream",
     "text": [
      "              precision    recall  f1-score   support\n",
      "\n",
      " distortion0       0.58      0.27      0.37      1090\n",
      " distortion1       0.79      1.00      0.88      1773\n",
      " distortion2       0.72      0.02      0.04       647\n",
      " distortion3       0.71      0.38      0.49       938\n",
      " distortion4       0.80      0.01      0.01       683\n",
      " distortion5       0.00      0.00      0.00       401\n",
      " distortion6       0.60      0.00      0.01       738\n",
      " distortion7       0.00      0.00      0.00       726\n",
      " distortion8       0.50      0.01      0.01       915\n",
      " distortion9       0.63      0.31      0.42      1119\n",
      "distortion10       0.50      0.02      0.04      1042\n",
      "\n",
      "   micro avg       0.72      0.28      0.40     10072\n",
      "   macro avg       0.53      0.18      0.21     10072\n",
      "weighted avg       0.58      0.28      0.30     10072\n",
      " samples avg       0.74      0.30      0.38     10072\n",
      "\n",
      "hamming loss\n",
      "0.33612970880051624\n",
      "F1\n",
      "0.383139400774715\n"
     ]
    }
   ],
   "source": [
    "print(classification_report(y_test,predikcio_rakel_nb_tf_idf,target_names = distortion_list))\n",
    "\n",
    "print(\"hamming loss\")\n",
    "print(hamming_loss(y_test,predikcio_rakel_nb_tf_idf))\n",
    "\n",
    "print(\"F1\")\n",
    "print(F1Measure(np.array(y_test),np.array(predikcio_rakel_nb_tf_idf.todense())))"
   ]
  },
  {
   "cell_type": "markdown",
   "id": "614fcb04",
   "metadata": {},
   "source": [
    "## Word2Vec"
   ]
  },
  {
   "cell_type": "markdown",
   "id": "e8215c38",
   "metadata": {},
   "source": [
    "### LogReg"
   ]
  },
  {
   "cell_type": "code",
   "execution_count": 147,
   "id": "8bd6f699",
   "metadata": {},
   "outputs": [
    {
     "data": {
      "text/plain": [
       "<2254x11 sparse matrix of type '<class 'numpy.int64'>'\n",
       "\twith 4642 stored elements in List of Lists format>"
      ]
     },
     "execution_count": 147,
     "metadata": {},
     "output_type": "execute_result"
    }
   ],
   "source": [
    "classifier = RakelD(LogisticRegression(solver='saga'))\n",
    "# tanítás\n",
    "classifier.fit(w2v_x_train_df, w2v_y_train)\n",
    "# becslés a teszthalmazon\n",
    "predikcio_rakel_lr_w2v = classifier.predict(w2v_x_test_df)\n",
    "predikcio_rakel_lr_w2v"
   ]
  },
  {
   "cell_type": "code",
   "execution_count": 148,
   "id": "85a09b7a",
   "metadata": {},
   "outputs": [
    {
     "name": "stdout",
     "output_type": "stream",
     "text": [
      "              precision    recall  f1-score   support\n",
      "\n",
      " distortion0       0.61      0.14      0.23      1090\n",
      " distortion1       0.79      0.99      0.88      1773\n",
      " distortion2       0.53      0.17      0.26       647\n",
      " distortion3       0.66      0.52      0.58       938\n",
      " distortion4       0.45      0.04      0.07       683\n",
      " distortion5       0.41      0.03      0.06       401\n",
      " distortion6       0.47      0.03      0.06       738\n",
      " distortion7       0.49      0.07      0.12       726\n",
      " distortion8       0.44      0.08      0.13       915\n",
      " distortion9       0.62      0.25      0.35      1119\n",
      "distortion10       0.59      0.21      0.31      1042\n",
      "\n",
      "   micro avg       0.69      0.32      0.43     10072\n",
      "   macro avg       0.55      0.23      0.28     10072\n",
      "weighted avg       0.59      0.32      0.35     10072\n",
      " samples avg       0.72      0.34      0.40     10072\n",
      "\n",
      "hamming loss\n",
      "0.33677502621602\n",
      "F1\n",
      "0.40448733083807525\n"
     ]
    }
   ],
   "source": [
    "print(classification_report(w2v_y_test,predikcio_rakel_lr_w2v,target_names = distortion_list))\n",
    "\n",
    "print(\"hamming loss\")\n",
    "print(hamming_loss(w2v_y_test,predikcio_rakel_lr_w2v))\n",
    "\n",
    "print(\"F1\")\n",
    "print(F1Measure(np.array(w2v_y_test),np.array(predikcio_rakel_lr_w2v.todense())))"
   ]
  },
  {
   "cell_type": "markdown",
   "id": "1c496c0d",
   "metadata": {},
   "source": [
    "### SVM"
   ]
  },
  {
   "cell_type": "code",
   "execution_count": 157,
   "id": "f0fd01e5",
   "metadata": {},
   "outputs": [
    {
     "data": {
      "text/plain": [
       "<2254x11 sparse matrix of type '<class 'numpy.int64'>'\n",
       "\twith 3871 stored elements in List of Lists format>"
      ]
     },
     "execution_count": 157,
     "metadata": {},
     "output_type": "execute_result"
    }
   ],
   "source": [
    "classifier = RakelD(SVC(kernel='linear'))\n",
    "# tanítás\n",
    "classifier.fit(w2v_x_train_df, w2v_y_train)\n",
    "# becslés a teszthalmazon\n",
    "predikcio_rakel_svm_w2v = classifier.predict(w2v_x_test_df)\n",
    "predikcio_rakel_svm_w2v"
   ]
  },
  {
   "cell_type": "code",
   "execution_count": 158,
   "id": "480c2706",
   "metadata": {},
   "outputs": [
    {
     "name": "stdout",
     "output_type": "stream",
     "text": [
      "              precision    recall  f1-score   support\n",
      "\n",
      " distortion0       0.80      0.01      0.01      1090\n",
      " distortion1       0.79      1.00      0.88      1773\n",
      " distortion2       0.00      0.00      0.00       647\n",
      " distortion3       0.79      0.29      0.43       938\n",
      " distortion4       0.00      0.00      0.00       683\n",
      " distortion5       0.00      0.00      0.00       401\n",
      " distortion6       0.00      0.00      0.00       738\n",
      " distortion7       0.67      0.00      0.01       726\n",
      " distortion8       0.43      0.27      0.33       915\n",
      " distortion9       0.69      0.25      0.36      1119\n",
      "distortion10       0.59      0.16      0.25      1042\n",
      "\n",
      "   micro avg       0.71      0.27      0.39     10072\n",
      "   macro avg       0.43      0.18      0.21     10072\n",
      "weighted avg       0.52      0.27      0.29     10072\n",
      " samples avg       0.73      0.30      0.38     10072\n",
      "\n",
      "hamming loss\n",
      "0.3403646043397596\n",
      "F1\n",
      "0.37730090943267464\n"
     ]
    }
   ],
   "source": [
    "print(classification_report(w2v_y_test,predikcio_rakel_svm_w2v,target_names = distortion_list))\n",
    "\n",
    "print(\"hamming loss\")\n",
    "print(hamming_loss(w2v_y_test,predikcio_rakel_svm_w2v))\n",
    "\n",
    "print(\"F1\")\n",
    "print(F1Measure(np.array(w2v_y_test),np.array(predikcio_rakel_svm_w2v.todense())))"
   ]
  },
  {
   "cell_type": "markdown",
   "id": "ac916578",
   "metadata": {},
   "source": [
    "### NB"
   ]
  },
  {
   "cell_type": "code",
   "execution_count": 149,
   "id": "1d89b2ae",
   "metadata": {},
   "outputs": [
    {
     "data": {
      "text/plain": [
       "<2254x11 sparse matrix of type '<class 'numpy.int64'>'\n",
       "\twith 12430 stored elements in List of Lists format>"
      ]
     },
     "execution_count": 149,
     "metadata": {},
     "output_type": "execute_result"
    }
   ],
   "source": [
    "classifier = RakelD(GaussianNB())\n",
    "# tanítás\n",
    "classifier.fit(w2v_x_train_df, w2v_y_train)\n",
    "# becslés a teszthalmazon\n",
    "predikcio_rakel_nb_w2v = classifier.predict(w2v_x_test_df)\n",
    "predikcio_rakel_nb_w2v"
   ]
  },
  {
   "cell_type": "code",
   "execution_count": 150,
   "id": "0c3805d4",
   "metadata": {},
   "outputs": [
    {
     "name": "stdout",
     "output_type": "stream",
     "text": [
      "              precision    recall  f1-score   support\n",
      "\n",
      " distortion0       0.52      0.60      0.56      1090\n",
      " distortion1       0.78      0.34      0.47      1773\n",
      " distortion2       0.44      0.37      0.41       647\n",
      " distortion3       0.49      0.70      0.57       938\n",
      " distortion4       0.34      0.68      0.45       683\n",
      " distortion5       0.23      0.45      0.30       401\n",
      " distortion6       0.38      0.27      0.31       738\n",
      " distortion7       0.37      0.68      0.48       726\n",
      " distortion8       0.43      0.74      0.54       915\n",
      " distortion9       0.53      0.68      0.59      1119\n",
      "distortion10       0.49      0.70      0.58      1042\n",
      "\n",
      "   micro avg       0.45      0.56      0.50     10072\n",
      "   macro avg       0.45      0.56      0.48     10072\n",
      "weighted avg       0.50      0.56      0.50     10072\n",
      " samples avg       0.45      0.52      0.45     10072\n",
      "\n",
      "hamming loss\n",
      "0.4518835202065016\n",
      "F1\n",
      "0.4499760395840547\n"
     ]
    }
   ],
   "source": [
    "print(classification_report(w2v_y_test,predikcio_rakel_nb_w2v,target_names = distortion_list))\n",
    "\n",
    "print(\"hamming loss\")\n",
    "print(hamming_loss(w2v_y_test,predikcio_rakel_nb_w2v))\n",
    "\n",
    "print(\"F1\")\n",
    "print(F1Measure(np.array(w2v_y_test),np.array(predikcio_rakel_nb_w2v.todense())))"
   ]
  },
  {
   "cell_type": "markdown",
   "id": "9728f332",
   "metadata": {},
   "source": [
    "## GloVe"
   ]
  },
  {
   "cell_type": "markdown",
   "id": "e384a82b",
   "metadata": {},
   "source": [
    "### LogReg"
   ]
  },
  {
   "cell_type": "code",
   "execution_count": 151,
   "id": "c53aa5fb",
   "metadata": {},
   "outputs": [
    {
     "data": {
      "text/plain": [
       "<2254x11 sparse matrix of type '<class 'numpy.int64'>'\n",
       "\twith 5716 stored elements in List of Lists format>"
      ]
     },
     "execution_count": 151,
     "metadata": {},
     "output_type": "execute_result"
    }
   ],
   "source": [
    "classifier = RakelD(LogisticRegression(solver='saga'))\n",
    "# tanítás\n",
    "classifier.fit(glove_x_train_df, glove_y_train)\n",
    "# becslés a teszthalmazon\n",
    "predikcio_rakel_lr_glove = classifier.predict(glove_x_test_df)\n",
    "predikcio_rakel_lr_glove"
   ]
  },
  {
   "cell_type": "code",
   "execution_count": 152,
   "id": "af41835d",
   "metadata": {},
   "outputs": [
    {
     "name": "stdout",
     "output_type": "stream",
     "text": [
      "              precision    recall  f1-score   support\n",
      "\n",
      " distortion0       0.59      0.42      0.49      1090\n",
      " distortion1       0.79      0.97      0.87      1773\n",
      " distortion2       0.48      0.15      0.23       647\n",
      " distortion3       0.66      0.49      0.56       938\n",
      " distortion4       0.52      0.06      0.10       683\n",
      " distortion5       0.35      0.03      0.06       401\n",
      " distortion6       0.53      0.04      0.08       738\n",
      " distortion7       0.42      0.10      0.16       726\n",
      " distortion8       0.43      0.13      0.20       915\n",
      " distortion9       0.59      0.29      0.39      1119\n",
      "distortion10       0.55      0.36      0.43      1042\n",
      "\n",
      "   micro avg       0.65      0.37      0.47     10072\n",
      "   macro avg       0.54      0.28      0.32     10072\n",
      "weighted avg       0.57      0.37      0.41     10072\n",
      " samples avg       0.68      0.38      0.43     10072\n",
      "\n",
      "hamming loss\n",
      "0.3380656610470275\n",
      "F1\n",
      "0.4277271025028698\n"
     ]
    }
   ],
   "source": [
    "print(classification_report(y_test,predikcio_rakel_lr_glove,target_names = distortion_list))\n",
    "\n",
    "print(\"hamming loss\")\n",
    "print(hamming_loss(w2v_y_test,predikcio_rakel_lr_glove))\n",
    "\n",
    "print(\"F1\")\n",
    "print(F1Measure(np.array(w2v_y_test),np.array(predikcio_rakel_lr_glove.todense())))"
   ]
  },
  {
   "cell_type": "markdown",
   "id": "63c78ec6",
   "metadata": {},
   "source": [
    "### SVM"
   ]
  },
  {
   "cell_type": "code",
   "execution_count": 159,
   "id": "707f14a5",
   "metadata": {},
   "outputs": [
    {
     "data": {
      "text/plain": [
       "<2254x11 sparse matrix of type '<class 'numpy.int64'>'\n",
       "\twith 3635 stored elements in List of Lists format>"
      ]
     },
     "execution_count": 159,
     "metadata": {},
     "output_type": "execute_result"
    }
   ],
   "source": [
    "classifier = RakelD(SVC(kernel='linear'))\n",
    "# tanítás\n",
    "classifier.fit(glove_x_train_df, glove_y_train)\n",
    "# becslés a teszthalmazon\n",
    "predikcio_rakel_svn_glove = classifier.predict(glove_x_test_df)\n",
    "predikcio_rakel_svn_glove"
   ]
  },
  {
   "cell_type": "code",
   "execution_count": 160,
   "id": "bc8c8191",
   "metadata": {},
   "outputs": [
    {
     "name": "stdout",
     "output_type": "stream",
     "text": [
      "              precision    recall  f1-score   support\n",
      "\n",
      " distortion0       0.60      0.18      0.27      1090\n",
      " distortion1       0.79      1.00      0.88      1773\n",
      " distortion2       1.00      0.01      0.02       647\n",
      " distortion3       0.74      0.41      0.53       938\n",
      " distortion4       0.00      0.00      0.00       683\n",
      " distortion5       0.00      0.00      0.00       401\n",
      " distortion6       0.00      0.00      0.00       738\n",
      " distortion7       0.25      0.00      0.00       726\n",
      " distortion8       0.00      0.00      0.00       915\n",
      " distortion9       0.65      0.30      0.41      1119\n",
      "distortion10       0.67      0.00      0.01      1042\n",
      "\n",
      "   micro avg       0.74      0.27      0.39     10072\n",
      "   macro avg       0.43      0.17      0.19     10072\n",
      "weighted avg       0.50      0.27      0.28     10072\n",
      " samples avg       0.76      0.30      0.38     10072\n",
      "\n",
      "hamming loss\n",
      "0.3347987416310398\n",
      "F1\n",
      "0.3805862184744163\n"
     ]
    }
   ],
   "source": [
    "print(classification_report(y_test,predikcio_rakel_svn_glove,target_names = distortion_list))\n",
    "\n",
    "print(\"hamming loss\")\n",
    "print(hamming_loss(w2v_y_test,predikcio_rakel_svn_glove))\n",
    "\n",
    "print(\"F1\")\n",
    "print(F1Measure(np.array(w2v_y_test),np.array(predikcio_rakel_svn_glove.todense())))"
   ]
  },
  {
   "cell_type": "markdown",
   "id": "5389961f",
   "metadata": {},
   "source": [
    "### NB"
   ]
  },
  {
   "cell_type": "code",
   "execution_count": 153,
   "id": "20a30d0a",
   "metadata": {},
   "outputs": [
    {
     "data": {
      "text/plain": [
       "<2254x11 sparse matrix of type '<class 'numpy.int64'>'\n",
       "\twith 11895 stored elements in List of Lists format>"
      ]
     },
     "execution_count": 153,
     "metadata": {},
     "output_type": "execute_result"
    }
   ],
   "source": [
    "classifier = RakelD(GaussianNB())\n",
    "# tanítás\n",
    "classifier.fit(glove_x_train_df, glove_y_train)\n",
    "# becslés a teszthalmazon\n",
    "predikcio_rakel_nb_glove = classifier.predict(glove_x_test_df)\n",
    "predikcio_rakel_nb_glove"
   ]
  },
  {
   "cell_type": "code",
   "execution_count": 154,
   "id": "9e781aa8",
   "metadata": {},
   "outputs": [
    {
     "name": "stdout",
     "output_type": "stream",
     "text": [
      "              precision    recall  f1-score   support\n",
      "\n",
      " distortion0       0.50      0.69      0.58      1090\n",
      " distortion1       0.79      0.44      0.57      1773\n",
      " distortion2       0.37      0.57      0.45       647\n",
      " distortion3       0.48      0.68      0.56       938\n",
      " distortion4       0.36      0.57      0.44       683\n",
      " distortion5       0.23      0.32      0.27       401\n",
      " distortion6       0.37      0.38      0.38       738\n",
      " distortion7       0.37      0.61      0.46       726\n",
      " distortion8       0.44      0.41      0.42       915\n",
      " distortion9       0.53      0.69      0.60      1119\n",
      "distortion10       0.50      0.57      0.53      1042\n",
      "\n",
      "   micro avg       0.46      0.55      0.50     10072\n",
      "   macro avg       0.45      0.54      0.48     10072\n",
      "weighted avg       0.50      0.55      0.51     10072\n",
      " samples avg       0.46      0.51      0.45     10072\n",
      "\n",
      "hamming loss\n",
      "0.4407114624505929\n",
      "F1\n",
      "0.44787107056405867\n"
     ]
    }
   ],
   "source": [
    "print(classification_report(w2v_y_test,predikcio_rakel_nb_glove,target_names = distortion_list))\n",
    "\n",
    "print(\"hamming loss\")\n",
    "print(hamming_loss(w2v_y_test,predikcio_rakel_nb_glove))\n",
    "\n",
    "print(\"F1\")\n",
    "print(F1Measure(np.array(w2v_y_test),np.array(predikcio_rakel_nb_glove.todense())))"
   ]
  },
  {
   "cell_type": "markdown",
   "id": "91a8fb78",
   "metadata": {},
   "source": [
    "# ML-kNN"
   ]
  },
  {
   "cell_type": "code",
   "execution_count": 161,
   "id": "a93f481d",
   "metadata": {},
   "outputs": [],
   "source": [
    "# szógyakoriság"
   ]
  },
  {
   "cell_type": "code",
   "execution_count": null,
   "id": "67e4496b",
   "metadata": {},
   "outputs": [],
   "source": [
    "# count_x_train, y_train\n",
    "# count_x_test, y_test"
   ]
  },
  {
   "cell_type": "code",
   "execution_count": 112,
   "id": "e74bf972",
   "metadata": {},
   "outputs": [],
   "source": [
    "from skmultilearn.adapt import MLkNN\n",
    "from scipy.sparse import csr_matrix, lil_matrix\n",
    "from sklearn.model_selection import GridSearchCV"
   ]
  },
  {
   "cell_type": "code",
   "execution_count": 91,
   "id": "a3d9193e",
   "metadata": {},
   "outputs": [],
   "source": [
    "x_train_mlknn_count = lil_matrix(count_x_train).toarray()\n",
    "y_train_mlknn_count = lil_matrix(y_train).toarray()\n",
    "x_test_mlknn_count = lil_matrix(count_x_test).toarray()"
   ]
  },
  {
   "cell_type": "code",
   "execution_count": 114,
   "id": "869f4bfe",
   "metadata": {},
   "outputs": [
    {
     "name": "stdout",
     "output_type": "stream",
     "text": [
      "{'k': 1, 's': 0.5} 0.4322751755540475\n"
     ]
    }
   ],
   "source": [
    "parameters = {'k': range(1,3), 's': [0.5, 0.7, 1.0]}\n",
    "score = 'f1_macro'\n",
    "\n",
    "clf = GridSearchCV(MLkNN(), parameters, scoring=score)\n",
    "clf.fit(x_train_mlknn_count, y_train_mlknn_count)\n",
    "\n",
    "print (clf.best_params_, clf.best_score_)"
   ]
  },
  {
   "cell_type": "code",
   "execution_count": 115,
   "id": "32407f5b",
   "metadata": {},
   "outputs": [
    {
     "data": {
      "text/plain": [
       "<2254x11 sparse matrix of type '<class 'numpy.int64'>'\n",
       "\twith 9741 stored elements in List of Lists format>"
      ]
     },
     "execution_count": 115,
     "metadata": {},
     "output_type": "execute_result"
    }
   ],
   "source": [
    "classifier = MLkNN(k=1, s=0.5)\n",
    "# tanítás\n",
    "classifier.fit(x_train_mlknn_count, y_train_mlknn_count)\n",
    "# becslés a teszthalmazon\n",
    "predikcio_mlknn_count = classifier.predict(x_test_mlknn_count)\n",
    "predikcio_mlknn_count"
   ]
  },
  {
   "cell_type": "code",
   "execution_count": 117,
   "id": "a05e3096",
   "metadata": {},
   "outputs": [
    {
     "name": "stdout",
     "output_type": "stream",
     "text": [
      "              precision    recall  f1-score   support\n",
      "\n",
      " distortion0       0.52      0.47      0.49      1090\n",
      " distortion1       0.79      0.80      0.80      1773\n",
      " distortion2       0.37      0.37      0.37       647\n",
      " distortion3       0.53      0.49      0.51       938\n",
      " distortion4       0.32      0.33      0.32       683\n",
      " distortion5       0.22      0.22      0.22       401\n",
      " distortion6       0.34      0.34      0.34       738\n",
      " distortion7       0.35      0.34      0.35       726\n",
      " distortion8       0.42      0.41      0.42       915\n",
      " distortion9       0.54      0.53      0.54      1119\n",
      "distortion10       0.50      0.43      0.46      1042\n",
      "\n",
      "   micro avg       0.50      0.48      0.49     10072\n",
      "   macro avg       0.45      0.43      0.44     10072\n",
      "weighted avg       0.50      0.48      0.49     10072\n",
      " samples avg       0.48      0.47      0.42     10072\n",
      "\n",
      "hamming loss\n",
      "0.406751633459708\n",
      "F1\n",
      "0.41796471595356754\n"
     ]
    }
   ],
   "source": [
    "#### Értékelés\n",
    "\n",
    "print(classification_report(y_test,predikcio_mlknn_count,target_names = distortion_list))\n",
    "\n",
    "print(\"hamming loss\")\n",
    "print(hamming_loss(y_test,predikcio_mlknn_count))\n",
    "\n",
    "print(\"F1\")\n",
    "print(F1Measure(np.array(y_test),np.array(predikcio_mlknn_count.todense())))"
   ]
  },
  {
   "cell_type": "code",
   "execution_count": 118,
   "id": "fbb4d004",
   "metadata": {},
   "outputs": [],
   "source": [
    "# tf-idf"
   ]
  },
  {
   "cell_type": "code",
   "execution_count": 119,
   "id": "a7c439e4",
   "metadata": {},
   "outputs": [],
   "source": [
    "x_train_mlknn_tfidf = lil_matrix(tf_idf_x_train).toarray()\n",
    "y_train_mlknn_tfidf = lil_matrix(y_train).toarray()\n",
    "x_test_mlknn_tfidf = lil_matrix(tf_idf_x_test).toarray()"
   ]
  },
  {
   "cell_type": "code",
   "execution_count": 120,
   "id": "aa984136",
   "metadata": {},
   "outputs": [
    {
     "data": {
      "text/plain": [
       "<2254x11 sparse matrix of type '<class 'numpy.int64'>'\n",
       "\twith 13271 stored elements in List of Lists format>"
      ]
     },
     "execution_count": 120,
     "metadata": {},
     "output_type": "execute_result"
    }
   ],
   "source": [
    "classifier = MLkNN(k=1, s=0.5)\n",
    "# tanítás\n",
    "classifier.fit(x_train_mlknn_tfidf, y_train_mlknn_tfidf)\n",
    "# becslés a teszthalmazon\n",
    "predikcio_mlknn_tfidf = classifier.predict(x_test_mlknn_tfidf)\n",
    "predikcio_mlknn_tfidf"
   ]
  },
  {
   "cell_type": "code",
   "execution_count": 121,
   "id": "713378e0",
   "metadata": {},
   "outputs": [
    {
     "name": "stdout",
     "output_type": "stream",
     "text": [
      "              precision    recall  f1-score   support\n",
      "\n",
      " distortion0       0.49      0.66      0.57      1090\n",
      " distortion1       0.79      0.87      0.83      1773\n",
      " distortion2       0.34      0.60      0.43       647\n",
      " distortion3       0.51      0.33      0.40       938\n",
      " distortion4       0.32      0.55      0.40       683\n",
      " distortion5       0.18      0.44      0.26       401\n",
      " distortion6       0.33      0.55      0.41       738\n",
      " distortion7       0.33      0.55      0.41       726\n",
      " distortion8       0.41      0.61      0.49       915\n",
      " distortion9       0.51      0.69      0.59      1119\n",
      "distortion10       0.50      0.33      0.40      1042\n",
      "\n",
      "   micro avg       0.45      0.59      0.51     10072\n",
      "   macro avg       0.43      0.56      0.47     10072\n",
      "weighted avg       0.49      0.59      0.52     10072\n",
      " samples avg       0.46      0.58      0.45     10072\n",
      "\n",
      "hamming loss\n",
      "0.45861902073082195\n",
      "F1\n",
      "0.4498225319209209\n"
     ]
    }
   ],
   "source": [
    "#### Értékelés\n",
    "\n",
    "print(classification_report(y_test,predikcio_mlknn_tfidf,target_names = distortion_list))\n",
    "\n",
    "print(\"hamming loss\")\n",
    "print(hamming_loss(y_test,predikcio_mlknn_tfidf))\n",
    "\n",
    "print(\"F1\")\n",
    "print(F1Measure(np.array(y_test),np.array(predikcio_mlknn_tfidf.todense())))"
   ]
  },
  {
   "cell_type": "code",
   "execution_count": 122,
   "id": "eb98f639",
   "metadata": {},
   "outputs": [],
   "source": [
    "# w2v"
   ]
  },
  {
   "cell_type": "code",
   "execution_count": 123,
   "id": "44e3f567",
   "metadata": {},
   "outputs": [],
   "source": [
    "x_train_mlknn_w2v = lil_matrix(w2v_x_train_df).toarray()\n",
    "y_train_mlknn_w2v = lil_matrix(w2v_y_train).toarray()\n",
    "x_test_mlknn_w2v = lil_matrix(w2v_x_test_df).toarray()"
   ]
  },
  {
   "cell_type": "code",
   "execution_count": 124,
   "id": "5a5a72a4",
   "metadata": {},
   "outputs": [
    {
     "data": {
      "text/plain": [
       "<2254x11 sparse matrix of type '<class 'numpy.int64'>'\n",
       "\twith 10230 stored elements in List of Lists format>"
      ]
     },
     "execution_count": 124,
     "metadata": {},
     "output_type": "execute_result"
    }
   ],
   "source": [
    "classifier = MLkNN(k=1, s=0.5)\n",
    "# tanítás\n",
    "classifier.fit(x_train_mlknn_w2v, y_train_mlknn_w2v)\n",
    "# becslés a teszthalmazon\n",
    "predikcio_mlknn_w2v = classifier.predict(x_test_mlknn_w2v)\n",
    "predikcio_mlknn_w2v"
   ]
  },
  {
   "cell_type": "code",
   "execution_count": 125,
   "id": "47b98870",
   "metadata": {},
   "outputs": [
    {
     "name": "stdout",
     "output_type": "stream",
     "text": [
      "              precision    recall  f1-score   support\n",
      "\n",
      " distortion0       0.52      0.52      0.52      1090\n",
      " distortion1       0.79      0.79      0.79      1773\n",
      " distortion2       0.37      0.38      0.38       647\n",
      " distortion3       0.51      0.50      0.51       938\n",
      " distortion4       0.33      0.34      0.33       683\n",
      " distortion5       0.22      0.22      0.22       401\n",
      " distortion6       0.38      0.38      0.38       738\n",
      " distortion7       0.35      0.40      0.37       726\n",
      " distortion8       0.42      0.42      0.42       915\n",
      " distortion9       0.53      0.55      0.54      1119\n",
      "distortion10       0.50      0.49      0.49      1042\n",
      "\n",
      "   micro avg       0.50      0.51      0.50     10072\n",
      "   macro avg       0.45      0.45      0.45     10072\n",
      "weighted avg       0.50      0.51      0.50     10072\n",
      " samples avg       0.49      0.49      0.43     10072\n",
      "\n",
      "hamming loss\n",
      "0.40792127127530853\n",
      "F1\n",
      "0.43197582201489126\n"
     ]
    }
   ],
   "source": [
    "#### Értékelés\n",
    "\n",
    "print(classification_report(w2v_y_test,predikcio_mlknn_w2v,target_names = distortion_list))\n",
    "\n",
    "print(\"hamming loss\")\n",
    "print(hamming_loss(w2v_y_test,predikcio_mlknn_w2v))\n",
    "\n",
    "print(\"F1\")\n",
    "print(F1Measure(np.array(w2v_y_test),np.array(predikcio_mlknn_w2v.todense())))"
   ]
  },
  {
   "cell_type": "code",
   "execution_count": 126,
   "id": "69b73c78",
   "metadata": {},
   "outputs": [],
   "source": [
    "# glove"
   ]
  },
  {
   "cell_type": "code",
   "execution_count": 127,
   "id": "9d37e973",
   "metadata": {},
   "outputs": [],
   "source": [
    "x_train_mlknn_glove = lil_matrix(glove_x_train_df).toarray()\n",
    "y_train_mlknn_glove = lil_matrix(glove_y_train).toarray()\n",
    "x_test_mlknn_glove = lil_matrix(glove_x_test_df).toarray()"
   ]
  },
  {
   "cell_type": "code",
   "execution_count": 128,
   "id": "3dc23947",
   "metadata": {},
   "outputs": [
    {
     "data": {
      "text/plain": [
       "<2254x11 sparse matrix of type '<class 'numpy.int64'>'\n",
       "\twith 10401 stored elements in List of Lists format>"
      ]
     },
     "execution_count": 128,
     "metadata": {},
     "output_type": "execute_result"
    }
   ],
   "source": [
    "classifier = MLkNN(k=1, s=0.5)\n",
    "# tanítás\n",
    "classifier.fit(x_train_mlknn_glove, y_train_mlknn_glove)\n",
    "# becslés a teszthalmazon\n",
    "predikcio_mlknn_glove = classifier.predict(x_test_mlknn_glove)\n",
    "predikcio_mlknn_glove"
   ]
  },
  {
   "cell_type": "code",
   "execution_count": 129,
   "id": "2b411e80",
   "metadata": {},
   "outputs": [
    {
     "name": "stdout",
     "output_type": "stream",
     "text": [
      "              precision    recall  f1-score   support\n",
      "\n",
      " distortion0       0.51      0.54      0.52      1090\n",
      " distortion1       0.79      0.80      0.80      1773\n",
      " distortion2       0.36      0.40      0.38       647\n",
      " distortion3       0.49      0.51      0.50       938\n",
      " distortion4       0.34      0.36      0.35       683\n",
      " distortion5       0.22      0.21      0.22       401\n",
      " distortion6       0.38      0.37      0.37       738\n",
      " distortion7       0.34      0.37      0.35       726\n",
      " distortion8       0.42      0.42      0.42       915\n",
      " distortion9       0.54      0.58      0.56      1119\n",
      "distortion10       0.51      0.50      0.50      1042\n",
      "\n",
      "   micro avg       0.50      0.51      0.51     10072\n",
      "   macro avg       0.45      0.46      0.45     10072\n",
      "weighted avg       0.50      0.51      0.51     10072\n",
      " samples avg       0.49      0.50      0.43     10072\n",
      "\n",
      "hamming loss\n",
      "0.40860692102928126\n",
      "F1\n",
      "0.432465814618836\n"
     ]
    }
   ],
   "source": [
    "#### Értékelés\n",
    "\n",
    "print(classification_report(glove_y_test,predikcio_mlknn_glove,target_names = distortion_list))\n",
    "\n",
    "print(\"hamming loss\")\n",
    "print(hamming_loss(glove_y_test,predikcio_mlknn_glove))\n",
    "\n",
    "print(\"F1\")\n",
    "print(F1Measure(np.array(glove_y_test),np.array(predikcio_mlknn_glove.todense())))"
   ]
  },
  {
   "cell_type": "code",
   "execution_count": null,
   "id": "9ab66578",
   "metadata": {},
   "outputs": [],
   "source": []
  }
 ],
 "metadata": {
  "kernelspec": {
   "display_name": "Python 3 (ipykernel)",
   "language": "python",
   "name": "python3"
  },
  "language_info": {
   "codemirror_mode": {
    "name": "ipython",
    "version": 3
   },
   "file_extension": ".py",
   "mimetype": "text/x-python",
   "name": "python",
   "nbconvert_exporter": "python",
   "pygments_lexer": "ipython3",
   "version": "3.7.6"
  }
 },
 "nbformat": 4,
 "nbformat_minor": 5
}
